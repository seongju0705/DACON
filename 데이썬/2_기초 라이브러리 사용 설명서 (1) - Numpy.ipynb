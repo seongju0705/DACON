{
 "cells": [
  {
   "cell_type": "markdown",
   "id": "68efd76f",
   "metadata": {},
   "source": [
    "# 기초 라이브러리 사용 설명서 1탄 - Numpy"
   ]
  },
  {
   "cell_type": "markdown",
   "id": "bbaeedd8",
   "metadata": {},
   "source": [
    "## 1. Numpy\n",
    "- Numpy는 파이썬에서 선형대수 기반 프로그램을 가능하게 하는 대표적인 패키지이며 빠른 계산과 배열 연산 능력 보장"
   ]
  },
  {
   "cell_type": "code",
   "execution_count": 1,
   "id": "c16774d1",
   "metadata": {},
   "outputs": [],
   "source": [
    "# numpy 모듈 import\n",
    "import numpy as np"
   ]
  },
  {
   "cell_type": "markdown",
   "id": "2ed2d916",
   "metadata": {},
   "source": [
    "## 2. np.array()\n",
    "- 리스트와 같은 다양한 인자를 입력 받아서 ndarray로 변환하는 기능 수행\n",
    "\n",
    "\n",
    "- .shape로 배열의 모양을 확인할 수 있으며 ndarray의 행과 열의 수를 튜플 형태로 가짐\n",
    "\n",
    "\n",
    "- 대괄호[] 중첩으로 배열 증가"
   ]
  },
  {
   "cell_type": "code",
   "execution_count": 7,
   "id": "a8d8066a",
   "metadata": {},
   "outputs": [
    {
     "name": "stdout",
     "output_type": "stream",
     "text": [
      "[1 2 3]\n",
      "배열1의 array 형태: (3,)\n",
      "\n",
      "[[1 2 3]\n",
      " [4 5 6]]\n",
      "배열2의 array 형태: (2, 3)\n",
      "\n",
      "[[[1 2 3]\n",
      "  [4 5 6]\n",
      "  [7 8 9]]]\n",
      "배열3의 array 형태: (1, 3, 3)\n"
     ]
    }
   ],
   "source": [
    "# 1차원 배열\n",
    "array1 = np.array([1, 2, 3])\n",
    "print(array1)\n",
    "print('배열1의 array 형태:', array1.shape)\n",
    "print()\n",
    "\n",
    "# 2차원 배열\n",
    "array2 = np.array([[1, 2, 3], [4, 5, 6]])\n",
    "print(array2)\n",
    "print('배열2의 array 형태:', array2.shape)\n",
    "print()\n",
    "\n",
    "# 3차원 배열\n",
    "array3 = np.array([[[1, 2, 3], [4, 5, 6], [7, 8, 9]]])\n",
    "print(array3)\n",
    "print('배열3의 array 형태:', array3.shape)"
   ]
  },
  {
   "cell_type": "markdown",
   "id": "30784e0b",
   "metadata": {},
   "source": [
    "### 1) ndarray의 데이터 타입\n",
    "- 숫자, 문자열, bool 값 등 모두 가능\n",
    "\n",
    "\n",
    "- 연산의 특성 상 같은 데이터 타입만 가능"
   ]
  },
  {
   "cell_type": "code",
   "execution_count": 12,
   "id": "38091ec7",
   "metadata": {},
   "outputs": [
    {
     "name": "stdout",
     "output_type": "stream",
     "text": [
      "<class 'list'>\n",
      "<class 'numpy.ndarray'>\n",
      "[1.5 2.4 3.7] float64\n"
     ]
    }
   ],
   "source": [
    "# dtype으로 데이터 타입 속성 확인 가능\n",
    "list1 = [1.5, 2.4, 3.7]\n",
    "print(type(list1))\n",
    "\n",
    "array1 = np.array(list1)\n",
    "print(type(array1))\n",
    "\n",
    "print(array1, array1.dtype)"
   ]
  },
  {
   "cell_type": "code",
   "execution_count": 10,
   "id": "8dfb4e41",
   "metadata": {},
   "outputs": [
    {
     "name": "stdout",
     "output_type": "stream",
     "text": [
      "['1' '2' 'test'] <U11\n"
     ]
    }
   ],
   "source": [
    "# 서로 다른 데이터 타입 섞여있을 경우, 데이터 타입이 더 큰 타입으로 변환\n",
    "list2 = [1, 2, 'test']\n",
    "array2 = np.array(list2)\n",
    "print(array2, array2.dtype)"
   ]
  },
  {
   "cell_type": "code",
   "execution_count": 11,
   "id": "72526710",
   "metadata": {},
   "outputs": [
    {
     "name": "stdout",
     "output_type": "stream",
     "text": [
      "[1 2 3] int32\n",
      "[1. 2. 3.] float64\n"
     ]
    }
   ],
   "source": [
    "# 메모리 절약해야 할 때 astype()을 사용하여 데이터 타입 변경 가능\n",
    "array_int = np.array([1, 2, 3])\n",
    "print(array_int, array_int.dtype)\n",
    "\n",
    "array_float = array_int.astype('float64')\n",
    "print(array_float, array_float.dtype)"
   ]
  },
  {
   "cell_type": "markdown",
   "id": "02dc3bf4",
   "metadata": {},
   "source": [
    "### 2) ndarray를 편리하게 생성하기"
   ]
  },
  {
   "cell_type": "code",
   "execution_count": 13,
   "id": "b547083e",
   "metadata": {},
   "outputs": [
    {
     "name": "stdout",
     "output_type": "stream",
     "text": [
      "[0 1 2 3 4 5 6 7 8 9]\n"
     ]
    }
   ],
   "source": [
    "# arange()\n",
    "sequence_array = np.arange(10)\n",
    "print(sequence_array)"
   ]
  },
  {
   "cell_type": "code",
   "execution_count": 20,
   "id": "269a1bc5",
   "metadata": {},
   "outputs": [
    {
     "name": "stdout",
     "output_type": "stream",
     "text": [
      "[[0. 0.]\n",
      " [0. 0.]\n",
      " [0. 0.]]\n",
      "[[0. 0.]\n",
      " [0. 0.]\n",
      " [0. 0.]]\n"
     ]
    }
   ],
   "source": [
    "# zeros()\n",
    "zeros1 = np.zeros((3, 2))\n",
    "print(zeros1)\n",
    "\n",
    "zeros2 = np.zeros([3, 2])\n",
    "print(zeros2)"
   ]
  },
  {
   "cell_type": "code",
   "execution_count": 21,
   "id": "ab399b30",
   "metadata": {},
   "outputs": [
    {
     "name": "stdout",
     "output_type": "stream",
     "text": [
      "[[1. 1.]\n",
      " [1. 1.]\n",
      " [1. 1.]]\n",
      "[[1. 1.]\n",
      " [1. 1.]\n",
      " [1. 1.]]\n"
     ]
    }
   ],
   "source": [
    "# ones()\n",
    "ones1 = np.ones((3, 2))\n",
    "print(ones1)\n",
    "\n",
    "ones2 = np.ones([3, 2])\n",
    "print(ones2)"
   ]
  },
  {
   "cell_type": "code",
   "execution_count": 22,
   "id": "58c6a2f7",
   "metadata": {},
   "outputs": [
    {
     "name": "stdout",
     "output_type": "stream",
     "text": [
      "[[-1.22191295 -0.20217961]\n",
      " [-0.68732064  0.8351026 ]\n",
      " [ 0.9741616   0.24630202]]\n"
     ]
    }
   ],
   "source": [
    "# random.randn()\n",
    "rd = np.random.randn(3, 2)   # 중첩 괄호 사용 X\n",
    "print(rd)"
   ]
  },
  {
   "cell_type": "markdown",
   "id": "5bb7ba73",
   "metadata": {},
   "source": [
    "## 3. 차원과 크기 변경: reshape()\n",
    "- ndarray를 특정 차원 및 크기로 변환"
   ]
  },
  {
   "cell_type": "code",
   "execution_count": 23,
   "id": "62f5804e",
   "metadata": {},
   "outputs": [
    {
     "name": "stdout",
     "output_type": "stream",
     "text": [
      "array1: \n",
      " [0 1 2 3 4 5 6 7 8 9]\n",
      "array2: \n",
      " [[0 1 2 3 4]\n",
      " [5 6 7 8 9]]\n"
     ]
    }
   ],
   "source": [
    "array1 = np.arange(10)\n",
    "print('array1: \\n', array1)\n",
    "\n",
    "array2 = array1.reshape(2, 5)\n",
    "print('array2: \\n', array2)"
   ]
  },
  {
   "cell_type": "code",
   "execution_count": 24,
   "id": "db72b0ff",
   "metadata": {},
   "outputs": [
    {
     "name": "stdout",
     "output_type": "stream",
     "text": [
      "array3d: \n",
      " [[[0 1]\n",
      "  [2 3]]\n",
      "\n",
      " [[4 5]\n",
      "  [6 7]]]\n",
      "array2d: \n",
      " [[0]\n",
      " [1]\n",
      " [2]\n",
      " [3]\n",
      " [4]\n",
      " [5]\n",
      " [6]\n",
      " [7]]\n"
     ]
    }
   ],
   "source": [
    "# reshape(-1, 1)을 이용해 3차원 -> 2차원, 2차원 -> 1차원 변경 가능\n",
    "array1 = np.arange(8)\n",
    "\n",
    "array3d = array1.reshape((2, 2, 2))\n",
    "print('array3d: \\n', array3d)\n",
    "\n",
    "array2d = array3d.reshape(-1, 1)\n",
    "print('array2d: \\n', array2d)"
   ]
  },
  {
   "cell_type": "markdown",
   "id": "ff750fd0",
   "metadata": {},
   "source": [
    "## 4. 데이터 세트 선택하기: 인덱싱(Indexing)"
   ]
  },
  {
   "cell_type": "markdown",
   "id": "f2039d64",
   "metadata": {},
   "source": [
    "### 1) 단일 값 추출\n",
    "- 객체에 해당하는 위치의 인덱스 값을 [] 안에 입력"
   ]
  },
  {
   "cell_type": "code",
   "execution_count": 25,
   "id": "95262fcd",
   "metadata": {},
   "outputs": [
    {
     "name": "stdout",
     "output_type": "stream",
     "text": [
      "array1: [1 2 3 4 5 6 7 8 9]\n",
      "array1[2]: 3\n",
      "맨 뒤의 값: 9 \n",
      "맨 뒤에서 두 번째 값: 8\n"
     ]
    }
   ],
   "source": [
    "array1 = np.arange(start=1, stop=10)\n",
    "print('array1:', array1)\n",
    "\n",
    "print('array1[2]:', array1[2])\n",
    "print('맨 뒤의 값:', array1[-1], '\\n맨 뒤에서 두 번째 값:', array1[-2])"
   ]
  },
  {
   "cell_type": "code",
   "execution_count": 27,
   "id": "44589341",
   "metadata": {},
   "outputs": [
    {
     "name": "stdout",
     "output_type": "stream",
     "text": [
      "[9 2 3 4 5 6 7 8 9]\n"
     ]
    }
   ],
   "source": [
    "# 데이터 값 수정도 가능\n",
    "array1[0] = 9\n",
    "print(array1)"
   ]
  },
  {
   "cell_type": "code",
   "execution_count": 28,
   "id": "429735bc",
   "metadata": {},
   "outputs": [
    {
     "name": "stdout",
     "output_type": "stream",
     "text": [
      "[[9 2 3]\n",
      " [4 5 6]\n",
      " [7 8 9]]\n",
      "1행 1열 값: 9\n",
      "1행 2열 값: 2\n"
     ]
    }
   ],
   "source": [
    "# 다차원에서 단일 값 추출 가능\n",
    "array2 = array1.reshape(3, 3)\n",
    "print(array2)\n",
    "\n",
    "print('1행 1열 값:', array2[0, 0])\n",
    "print('1행 2열 값:', array2[0, 1])"
   ]
  },
  {
   "cell_type": "code",
   "execution_count": 29,
   "id": "a239ffb3",
   "metadata": {},
   "outputs": [
    {
     "name": "stdout",
     "output_type": "stream",
     "text": [
      "[[[[ 1.293  0.308  0.957  0.8   -1.053]\n",
      "   [ 1.512  0.153 -0.144  1.016 -0.828]\n",
      "   [-0.682  0.217  0.469  0.444 -0.212]\n",
      "   [-0.178  0.467 -0.111  0.254  0.794]]\n",
      "\n",
      "  [[ 1.482 -1.499 -0.802  1.175 -0.314]\n",
      "   [ 0.36  -1.215 -1.61   1.37   0.577]\n",
      "   [-0.148  0.008 -0.084 -2.188  0.169]\n",
      "   [-0.041 -1.382  0.542  0.599  0.48 ]]]\n",
      "\n",
      "\n",
      " [[[ 2.23   0.538  0.517 -0.255  0.865]\n",
      "   [-0.285 -0.792 -1.108  1.197 -0.102]\n",
      "   [ 0.57  -0.651 -0.577 -0.455  0.237]\n",
      "   [-1.211 -0.165  0.303  0.701  0.798]]\n",
      "\n",
      "  [[-0.654  2.241 -0.739  1.395 -0.785]\n",
      "   [-0.881 -0.211 -0.189  0.594  0.159]\n",
      "   [-0.426 -0.229  1.249  0.876 -0.181]\n",
      "   [ 1.191 -1.88   0.878 -1.428  0.015]]]]\n",
      "---------------------------------------------\n",
      "\n",
      "array4[0, 0]:\n",
      " [[ 1.293  0.308  0.957  0.8   -1.053]\n",
      " [ 1.512  0.153 -0.144  1.016 -0.828]\n",
      " [-0.682  0.217  0.469  0.444 -0.212]\n",
      " [-0.178  0.467 -0.111  0.254  0.794]]\n",
      "\n",
      "array4[0, 1]:\n",
      " [[ 1.482 -1.499 -0.802  1.175 -0.314]\n",
      " [ 0.36  -1.215 -1.61   1.37   0.577]\n",
      " [-0.148  0.008 -0.084 -2.188  0.169]\n",
      " [-0.041 -1.382  0.542  0.599  0.48 ]]\n",
      "\n",
      "array4[1, 0]:\n",
      " [[ 2.23   0.538  0.517 -0.255  0.865]\n",
      " [-0.285 -0.792 -1.108  1.197 -0.102]\n",
      " [ 0.57  -0.651 -0.577 -0.455  0.237]\n",
      " [-1.211 -0.165  0.303  0.701  0.798]]\n",
      "\n",
      "array4[1, 1]:\n",
      " [[-0.654  2.241 -0.739  1.395 -0.785]\n",
      " [-0.881 -0.211 -0.189  0.594  0.159]\n",
      " [-0.426 -0.229  1.249  0.876 -0.181]\n",
      " [ 1.191 -1.88   0.878 -1.428  0.015]]\n",
      "---------------------------------------------\n",
      "\n",
      "array4[0][1][3]:\n",
      " [-0.041 -1.382  0.542  0.599  0.48 ]\n",
      "\n",
      "array4[0][1][3][4]:\n",
      " 0.48\n"
     ]
    }
   ],
   "source": [
    "# 4차원 배열\n",
    "array4 = np.random.randn(2, 2, 4, 5).round(3)\n",
    "print(array4)\n",
    "\n",
    "print('-' * 45)\n",
    "\n",
    "print('\\narray4[0, 0]:\\n', array4[0, 0])\n",
    "print('\\narray4[0, 1]:\\n', array4[0, 1])\n",
    "print('\\narray4[1, 0]:\\n', array4[1, 0])\n",
    "print('\\narray4[1, 1]:\\n', array4[1, 1])\n",
    "\n",
    "print('-' * 45)\n",
    "\n",
    "print('\\narray4[0][1][3]:\\n', array4[0][1][3])\n",
    "print('\\narray4[0][1][3][4]:\\n', array4[0, 1, 3, 4])   # 대괄호 대신 쉼표로도 차원 접근 가능"
   ]
  },
  {
   "cell_type": "markdown",
   "id": "119dfead",
   "metadata": {},
   "source": [
    "### 2) 슬라이싱 (Slicing)\n",
    "- :를 이용하여 연속 데이터 추출"
   ]
  },
  {
   "cell_type": "code",
   "execution_count": 33,
   "id": "5dc5e738",
   "metadata": {},
   "outputs": [
    {
     "name": "stdout",
     "output_type": "stream",
     "text": [
      "[1 2]\n"
     ]
    }
   ],
   "source": [
    "array1 = np.arange(start=1, stop=10)\n",
    "print(array1[0:2])   "
   ]
  },
  {
   "cell_type": "code",
   "execution_count": 34,
   "id": "3d7396c9",
   "metadata": {},
   "outputs": [
    {
     "name": "stdout",
     "output_type": "stream",
     "text": [
      "[1 2 3 4 5 6 7 8 9] \n",
      "\n",
      "[1 2 3 4 5]\n",
      "[4 5 6 7 8 9]\n",
      "[1 2 3 4 5 6 7 8 9]\n"
     ]
    }
   ],
   "source": [
    "print(array1, '\\n')\n",
    "print(array1[:5])\n",
    "print(array1[3:])\n",
    "print(array1[:])"
   ]
  },
  {
   "cell_type": "code",
   "execution_count": 40,
   "id": "26acecfe",
   "metadata": {},
   "outputs": [
    {
     "name": "stdout",
     "output_type": "stream",
     "text": [
      "[[1 2 3]\n",
      " [4 5 6]\n",
      " [7 8 9]]\n",
      "----------\n",
      "[[1 2 3]\n",
      " [4 5 6]]\n"
     ]
    }
   ],
   "source": [
    "array1 = array1.reshape(3, 3)\n",
    "print(array1)\n",
    "print('-' * 10)\n",
    "print(array1[0:2])"
   ]
  },
  {
   "cell_type": "code",
   "execution_count": 41,
   "id": "8303b64a",
   "metadata": {},
   "outputs": [
    {
     "name": "stdout",
     "output_type": "stream",
     "text": [
      "[[1 2 3]\n",
      " [4 5 6]\n",
      " [7 8 9]]\n",
      "----------\n",
      "[[2 3]\n",
      " [5 6]\n",
      " [8 9]]\n"
     ]
    }
   ],
   "source": [
    "# 2차원 ndarray에서는 콤마(,)로 행과 열 인덱스 지정\n",
    "print(array1)\n",
    "print('-' * 10)\n",
    "print(array1[0:3, 1:3])"
   ]
  },
  {
   "cell_type": "code",
   "execution_count": 42,
   "id": "e81cc6f2",
   "metadata": {},
   "outputs": [
    {
     "name": "stdout",
     "output_type": "stream",
     "text": [
      "[[1 2 3]\n",
      " [4 5 6]\n",
      " [7 8 9]]\n",
      "----------\n",
      "[[4 5]\n",
      " [7 8]]\n"
     ]
    }
   ],
   "source": [
    "print(array1)\n",
    "print('-' * 10)\n",
    "print(array1[1:, :2])"
   ]
  },
  {
   "cell_type": "markdown",
   "id": "fe419f83",
   "metadata": {},
   "source": [
    "### 3) 팬시 인덱싱\n",
    "- 리스트나 ndarray로 인덱스 집합을 지정하면 해당 위치의 인덱스에 해당하는 ndarray 반환"
   ]
  },
  {
   "cell_type": "code",
   "execution_count": 43,
   "id": "f4101945",
   "metadata": {},
   "outputs": [
    {
     "name": "stdout",
     "output_type": "stream",
     "text": [
      "[[1 2 3]\n",
      " [4 5 6]\n",
      " [7 8 9]]\n",
      "----------\n",
      "[[1 2 3]\n",
      " [7 8 9]]\n",
      "----------\n",
      "[2 8]\n",
      "----------\n",
      "[[1 2]\n",
      " [7 8]]\n"
     ]
    }
   ],
   "source": [
    "print(array1)\n",
    "print('-' * 10)\n",
    "\n",
    "print(array1[[0, 2]])   # 0행, 2행\n",
    "print('-' * 10)\n",
    "\n",
    "print(array1[[0, 2], 1])   # 0행 1열, 2행 1열\n",
    "print('-' * 10)\n",
    "\n",
    "print(array1[[0, 2], 0:2])   # 0행 0열, 0행 1열, 2행 0열, 2행 1열"
   ]
  },
  {
   "cell_type": "markdown",
   "id": "e7636b68",
   "metadata": {},
   "source": [
    "### 4) 불린 인덱싱\n",
    "- 조건 필터링과 검색을 동시에 할 수 있기 때문에 자주 사용"
   ]
  },
  {
   "cell_type": "code",
   "execution_count": 44,
   "id": "9d67da76",
   "metadata": {},
   "outputs": [
    {
     "name": "stdout",
     "output_type": "stream",
     "text": [
      "array1 > 3인 불린 인덱싱 결과 값: [4 5 6 7 8 9]\n",
      "객체반환:\n",
      " [[False False False]\n",
      " [ True  True  True]\n",
      " [ True  True  True]]\n"
     ]
    }
   ],
   "source": [
    "boolean = array1[array1 > 3]\n",
    "print('array1 > 3인 불린 인덱싱 결과 값:', boolean)\n",
    "print('객체반환:\\n', array1 > 3)"
   ]
  },
  {
   "cell_type": "markdown",
   "id": "fbb75e50",
   "metadata": {},
   "source": [
    "## 5. 행렬 정렬 - sort() & argsort()"
   ]
  },
  {
   "cell_type": "markdown",
   "id": "7b285730",
   "metadata": {},
   "source": [
    "### 1) 행렬 정렬\n",
    "- np.sort(): 원본 행렬은 그대로 유지한 채 원 행렬의 정렬된 행렬 반환\n",
    "\n",
    "\n",
    "- ndarray.sort(): 원본 행렬 자체를 정렬, 반환 값은 None"
   ]
  },
  {
   "cell_type": "code",
   "execution_count": 45,
   "id": "3b8d7e2d",
   "metadata": {},
   "outputs": [
    {
     "name": "stdout",
     "output_type": "stream",
     "text": [
      "원본 행렬: [4 2 8 6]\n",
      "np.sort 호출 후 반환된 행렬: [2 4 6 8]\n",
      "np.sort 호출 후 원본 행렬: [4 2 8 6]\n",
      "ndarray.sort 호출 후 반환된 행렬: None\n",
      "ndarray.sort 호출 후 원본 행렬: [2 4 6 8]\n"
     ]
    }
   ],
   "source": [
    "org_array = np.array([4, 2, 8, 6])\n",
    "\n",
    "print('원본 행렬:', org_array)\n",
    "print('np.sort 호출 후 반환된 행렬:', np.sort(org_array))\n",
    "print('np.sort 호출 후 원본 행렬:', org_array)\n",
    "print('ndarray.sort 호출 후 반환된 행렬:', org_array.sort())\n",
    "print('ndarray.sort 호출 후 원본 행렬:', org_array)"
   ]
  },
  {
   "cell_type": "code",
   "execution_count": 46,
   "id": "f364d686",
   "metadata": {},
   "outputs": [
    {
     "name": "stdout",
     "output_type": "stream",
     "text": [
      "내림차순 정렬: [8 6 4 2]\n"
     ]
    }
   ],
   "source": [
    "# 내림차순 반환\n",
    "print('내림차순 정렬:', np.sort(org_array)[::-1])"
   ]
  },
  {
   "cell_type": "code",
   "execution_count": 48,
   "id": "7c736af3",
   "metadata": {},
   "outputs": [
    {
     "name": "stdout",
     "output_type": "stream",
     "text": [
      "[[ 8  1]\n",
      " [ 7 12]]\n",
      "열 방향 정렬:\n",
      " [[ 1  8]\n",
      " [ 7 12]]\n",
      "행 방향 정렬:\n",
      " [[ 7  1]\n",
      " [ 8 12]]\n"
     ]
    }
   ],
   "source": [
    "# 2차원 배열은 axis(0: 행, 1: 열) 축 값 설정을 통해 정렬 수행\n",
    "array2 = np.array([[8, 1], [7, 12]])\n",
    "print(array2)\n",
    "\n",
    "print('열 방향 정렬:\\n', np.sort(array2, axis=1))\n",
    "print('행 방향 정렬:\\n', np.sort(array2, axis=0))"
   ]
  },
  {
   "cell_type": "markdown",
   "id": "b082a197",
   "metadata": {},
   "source": [
    "### 2) np.argsort()\n",
    "- 정렬된 행렬의 인덱스 반환"
   ]
  },
  {
   "cell_type": "code",
   "execution_count": 49,
   "id": "56cea510",
   "metadata": {},
   "outputs": [
    {
     "name": "stdout",
     "output_type": "stream",
     "text": [
      "np.argsort 호출 후 반환된 인덱스: [1 0 3 2]\n"
     ]
    }
   ],
   "source": [
    "org_array = np.array([4, 2, 8, 6])\n",
    "print('np.argsort 호출 후 반환된 인덱스:', np.argsort(org_array))"
   ]
  },
  {
   "cell_type": "code",
   "execution_count": 50,
   "id": "ddb77215",
   "metadata": {},
   "outputs": [
    {
     "name": "stdout",
     "output_type": "stream",
     "text": [
      "np.argsort 호출 후 반환된 인덱스: [2 3 0 1]\n"
     ]
    }
   ],
   "source": [
    "# 내림차순 반환\n",
    "print('np.argsort 호출 후 반환된 인덱스:', np.argsort(org_array)[::-1])"
   ]
  },
  {
   "cell_type": "markdown",
   "id": "a19539ea",
   "metadata": {},
   "source": [
    "## 6. 선형대수 연산 - 행렬 내적과 전치 행렬 구하기"
   ]
  },
  {
   "cell_type": "markdown",
   "id": "abc65ca7",
   "metadata": {},
   "source": [
    "### 1) 행렬 내적 (행렬 곱)\n",
    "- np.dot() 사용"
   ]
  },
  {
   "cell_type": "code",
   "execution_count": 52,
   "id": "91dfddc1",
   "metadata": {},
   "outputs": [
    {
     "name": "stdout",
     "output_type": "stream",
     "text": [
      "a행렬: \n",
      " [[1 2 3]\n",
      " [4 5 6]]\n",
      "b행렬: \n",
      " [[ 7  8]\n",
      " [ 9 10]\n",
      " [11 12]]\n",
      "a와 b의 행렬 내적 결과:\n",
      " [[ 58  64]\n",
      " [139 154]]\n"
     ]
    }
   ],
   "source": [
    "a = np.array([[1, 2, 3], [4, 5, 6]])\n",
    "print('a행렬: \\n', a)\n",
    "\n",
    "b = np.array([[7, 8], [9, 10], [11, 12]])\n",
    "print('b행렬: \\n', b)\n",
    "\n",
    "print('a와 b의 행렬 내적 결과:\\n', np.dot(a, b))"
   ]
  },
  {
   "cell_type": "markdown",
   "id": "a4c469ef",
   "metadata": {},
   "source": [
    "### 2) 전치 행렬\n",
    "- 원 행렬에서 행과 열의 위치를 교환한 원소로 구성한 행렬\n",
    "\n",
    "\n",
    "- np.transpose() 사용"
   ]
  },
  {
   "cell_type": "code",
   "execution_count": 53,
   "id": "0a7715a9",
   "metadata": {},
   "outputs": [
    {
     "name": "stdout",
     "output_type": "stream",
     "text": [
      "a행렬:\n",
      " [[1 2]\n",
      " [3 4]]\n",
      "a의 전치행렬:\n",
      " [[1 3]\n",
      " [2 4]]\n"
     ]
    }
   ],
   "source": [
    "a = np.array([[1, 2], [3, 4]])\n",
    "print('a행렬:\\n', a)\n",
    "print('a의 전치행렬:\\n', np.transpose(a))"
   ]
  },
  {
   "cell_type": "markdown",
   "id": "a18b24fd",
   "metadata": {},
   "source": [
    "## 7. 배열 간 사칙연산\n",
    "- 동일한 모양의 두 배열을 사칙연산"
   ]
  },
  {
   "cell_type": "code",
   "execution_count": 55,
   "id": "8d6bcae2",
   "metadata": {},
   "outputs": [
    {
     "name": "stdout",
     "output_type": "stream",
     "text": [
      "a행렬:\n",
      " [[11 12 13]\n",
      " [ 2  3  4]]\n",
      "a + a =\n",
      " [[22 24 26]\n",
      " [ 4  6  8]]\n"
     ]
    }
   ],
   "source": [
    "a = np.array([[11, 12, 13], [2, 3, 4]])\n",
    "print('a행렬:\\n', a)\n",
    "print('a + a =\\n', a + a)"
   ]
  },
  {
   "cell_type": "markdown",
   "id": "188cf741",
   "metadata": {},
   "source": [
    "## 8. Broadcasting\n",
    "- 배열과 1개의 숫자를 사칙연산"
   ]
  },
  {
   "cell_type": "code",
   "execution_count": 56,
   "id": "beefec10",
   "metadata": {},
   "outputs": [
    {
     "name": "stdout",
     "output_type": "stream",
     "text": [
      "a행렬:\n",
      " [[11 12 13]\n",
      " [ 2  3  4]]\n",
      "a + 13 =\n",
      " [[24 25 26]\n",
      " [15 16 17]]\n",
      "a - 13 =\n",
      " [[ -2  -1   0]\n",
      " [-11 -10  -9]]\n",
      "a * 3 =\n",
      " [[33 36 39]\n",
      " [ 6  9 12]]\n"
     ]
    }
   ],
   "source": [
    "print('a행렬:\\n', a)\n",
    "print('a + 13 =\\n', a + 13)\n",
    "print('a - 13 =\\n', a - 13)\n",
    "print('a * 3 =\\n', a * 3)"
   ]
  },
  {
   "cell_type": "code",
   "execution_count": 58,
   "id": "117b1317",
   "metadata": {},
   "outputs": [
    {
     "name": "stdout",
     "output_type": "stream",
     "text": [
      "[[1 2 3]\n",
      " [4 5 6]\n",
      " [7 8 9]] \n",
      "+\n",
      " [[1 2 3]\n",
      " [1 2 3]\n",
      " [1 2 3]] \n",
      "= [[ 2  4  6]\n",
      " [ 5  7  9]\n",
      " [ 8 10 12]]\n"
     ]
    }
   ],
   "source": [
    "# 같은 형태인 여러 개의 배열 연산 가능\n",
    "a1 = np.array([[1, 2, 3], [4, 5, 6], [7, 8, 9]])\n",
    "a2 = np.array([[1, 2, 3], [1, 2, 3], [1, 2, 3]])\n",
    "\n",
    "print(a1, '\\n+\\n', a2, '\\n=', a1 + a2)"
   ]
  },
  {
   "cell_type": "code",
   "execution_count": 59,
   "id": "6010b57c",
   "metadata": {},
   "outputs": [
    {
     "name": "stdout",
     "output_type": "stream",
     "text": [
      "[[0 1]\n",
      " [2 3]\n",
      " [4 5]\n",
      " [6 7]\n",
      " [8 9]]\n",
      "----------\n",
      "[10 11]\n",
      "----------\n",
      "[[10 12]\n",
      " [12 14]\n",
      " [14 16]\n",
      " [16 18]\n",
      " [18 20]]\n"
     ]
    }
   ],
   "source": [
    "# 다른 형태 배열 연산 가능\n",
    "broad = np.arange(10).reshape(5, 2)\n",
    "casting = np.arange(10, 12)\n",
    "\n",
    "print(broad)\n",
    "print('-' * 10)\n",
    "print(casting)\n",
    "print('-' * 10)\n",
    "print(broad + casting)"
   ]
  },
  {
   "cell_type": "markdown",
   "id": "c386c0a8",
   "metadata": {},
   "source": [
    "## 9. 집계 (Aggregation)"
   ]
  },
  {
   "cell_type": "markdown",
   "id": "28afcf6c",
   "metadata": {},
   "source": [
    "### 1) 합계\n",
    "- sum()"
   ]
  },
  {
   "cell_type": "code",
   "execution_count": 60,
   "id": "1f13099e",
   "metadata": {},
   "outputs": [
    {
     "name": "stdout",
     "output_type": "stream",
     "text": [
      "a행렬:\n",
      " [[11 12 13]\n",
      " [ 2  3  4]]\n",
      "45\n"
     ]
    }
   ],
   "source": [
    "print('a행렬:\\n', a)\n",
    "print(a.sum())"
   ]
  },
  {
   "cell_type": "code",
   "execution_count": 61,
   "id": "eeb9ae51",
   "metadata": {},
   "outputs": [
    {
     "name": "stdout",
     "output_type": "stream",
     "text": [
      "열 방향 합계: [36  9]\n",
      "행 방향 합계: [13 15 17]\n"
     ]
    }
   ],
   "source": [
    "# 축 설정\n",
    "print('열 방향 합계:', a.sum(axis=1))\n",
    "print('행 방향 합계:', a.sum(axis=0))"
   ]
  },
  {
   "cell_type": "markdown",
   "id": "9dcdf98a",
   "metadata": {},
   "source": [
    "### 2) 평균\n",
    "- mean()"
   ]
  },
  {
   "cell_type": "code",
   "execution_count": 62,
   "id": "021daf30",
   "metadata": {},
   "outputs": [
    {
     "name": "stdout",
     "output_type": "stream",
     "text": [
      "7.5\n"
     ]
    }
   ],
   "source": [
    "print(a.mean())"
   ]
  },
  {
   "cell_type": "markdown",
   "id": "0cd3a651",
   "metadata": {},
   "source": [
    "### 3) 곱셈\n",
    "- prod()"
   ]
  },
  {
   "cell_type": "code",
   "execution_count": 63,
   "id": "e4d2a264",
   "metadata": {},
   "outputs": [
    {
     "name": "stdout",
     "output_type": "stream",
     "text": [
      "41184\n"
     ]
    }
   ],
   "source": [
    "print(a.prod())"
   ]
  },
  {
   "cell_type": "markdown",
   "id": "84b3a79c",
   "metadata": {},
   "source": [
    "### 4) 최댓값과 최솟값\n",
    "- max(): 최댓값\n",
    "- min(): 최솟값"
   ]
  },
  {
   "cell_type": "code",
   "execution_count": 64,
   "id": "af15c69b",
   "metadata": {},
   "outputs": [
    {
     "name": "stdout",
     "output_type": "stream",
     "text": [
      "13\n",
      "2\n"
     ]
    }
   ],
   "source": [
    "print(a.max())\n",
    "print(a.min())"
   ]
  },
  {
   "cell_type": "code",
   "execution_count": 67,
   "id": "a9f5dc96",
   "metadata": {},
   "outputs": [
    {
     "name": "stdout",
     "output_type": "stream",
     "text": [
      "[[11 12 13]\n",
      " [ 2  3  4]]\n",
      "4\n",
      "11\n"
     ]
    }
   ],
   "source": [
    "print(a)\n",
    "print(a[1].max())\n",
    "print(a[0].min())"
   ]
  },
  {
   "cell_type": "code",
   "execution_count": 68,
   "id": "f734ede1",
   "metadata": {},
   "outputs": [
    {
     "name": "stdout",
     "output_type": "stream",
     "text": [
      "2\n",
      "3\n"
     ]
    }
   ],
   "source": [
    "# 최댓값, 최솟값인 원소의 인덱스 번호\n",
    "print(a.argmax())\n",
    "print(a.argmin())"
   ]
  },
  {
   "cell_type": "markdown",
   "id": "1f917f04",
   "metadata": {},
   "source": [
    "### 5) 표준편차와 분산\n",
    "- std(): 표준편차\n",
    "- var(): 분산"
   ]
  },
  {
   "cell_type": "code",
   "execution_count": 69,
   "id": "d494b4f0",
   "metadata": {},
   "outputs": [
    {
     "name": "stdout",
     "output_type": "stream",
     "text": [
      "4.573474244670748\n",
      "20.916666666666668\n"
     ]
    }
   ],
   "source": [
    "print(a.std())\n",
    "print(a.var())"
   ]
  }
 ],
 "metadata": {
  "kernelspec": {
   "display_name": "Python 3 (ipykernel)",
   "language": "python",
   "name": "python3"
  },
  "language_info": {
   "codemirror_mode": {
    "name": "ipython",
    "version": 3
   },
   "file_extension": ".py",
   "mimetype": "text/x-python",
   "name": "python",
   "nbconvert_exporter": "python",
   "pygments_lexer": "ipython3",
   "version": "3.9.12"
  }
 },
 "nbformat": 4,
 "nbformat_minor": 5
}
