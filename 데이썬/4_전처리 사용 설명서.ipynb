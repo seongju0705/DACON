{
 "cells": [
  {
   "cell_type": "markdown",
   "id": "fce1c95a",
   "metadata": {},
   "source": [
    "# 전처리 사용 설명서"
   ]
  },
  {
   "cell_type": "markdown",
   "id": "4767cc27",
   "metadata": {},
   "source": [
    "## 1. 데이터 전처리 소개 및 필요성"
   ]
  },
  {
   "cell_type": "markdown",
   "id": "08d1f95a",
   "metadata": {},
   "source": [
    "### 1) 데이터 전처리란?\n",
    "- 데이터가 가지고 있는 오류 사항을 점검하고 데이터의 구조 및 특성을 우리의 쓰임에 맞춰 용이하게 수정하는 과정"
   ]
  },
  {
   "cell_type": "markdown",
   "id": "9368305e",
   "metadata": {},
   "source": [
    "### 2) 전처리의 필요성\n",
    "#### [ 이상값, 결측값의 영향 ]\n",
    "- 이상값이 존재한다면 데이터가 불완전하기 때문에 오차 분산을 증가시키고 추정치가 편향되는 등 데이터 분석의 결과 자체에 영향을 주게 됨\n",
    "\n",
    "\n",
    "- 결측값이 존재하는데 그것을 처리하지 않고 데이터 분석을 진행한다면 그 데이터를 통해 얻은 결과는 유의미하다고 볼 수 없음\n",
    "\n",
    "\n",
    "- 유의미한 결과를 얻어내기 위해서는 이상값과 결측값을 제거 및 대체하는 과정 필요\n",
    "\n",
    "#### [ 데이터 파악 및 가공 ] \n",
    "- 본격적으로 분석에 들어가기 앞서 먼저 결측치나 이상값이 존재하는지, 데이터의 단위가 잘못되어 있는지 등 데이터의 상태와 가치에 대해 파악하는 과정 필요\n",
    "\n",
    "\n",
    "- 우리가 해당 데이터를 사용하려는 목적에 맞춰 '범주형 데이터를 숫자로 변경'하거나, '수치 데이터의 분포를 정규화'하는 등의 과정 필요"
   ]
  },
  {
   "cell_type": "markdown",
   "id": "c2badad4",
   "metadata": {},
   "source": [
    "## 2. 결측치 처리\n",
    "- 결측치는 컬럼에 값이 없는, 즉 NULL인 경우를 의미하며 numpy의 NaN으로 표시"
   ]
  },
  {
   "cell_type": "markdown",
   "id": "97609675",
   "metadata": {},
   "source": [
    "### 1) 결측치 여부 확인하기: isna()\n",
    "- isna(): 데이터가 NaN인지 아닌지를 알려주는 API, 모든 컬럼의 값이 NaN인지 아닌지를 True나 False로 변환하여 알려줌"
   ]
  },
  {
   "cell_type": "code",
   "execution_count": 1,
   "id": "a10585f8",
   "metadata": {},
   "outputs": [
    {
     "data": {
      "text/html": [
       "<div>\n",
       "<style scoped>\n",
       "    .dataframe tbody tr th:only-of-type {\n",
       "        vertical-align: middle;\n",
       "    }\n",
       "\n",
       "    .dataframe tbody tr th {\n",
       "        vertical-align: top;\n",
       "    }\n",
       "\n",
       "    .dataframe thead th {\n",
       "        text-align: right;\n",
       "    }\n",
       "</style>\n",
       "<table border=\"1\" class=\"dataframe\">\n",
       "  <thead>\n",
       "    <tr style=\"text-align: right;\">\n",
       "      <th></th>\n",
       "      <th>index</th>\n",
       "      <th>quality</th>\n",
       "      <th>fixed acidity</th>\n",
       "      <th>volatile acidity</th>\n",
       "      <th>citric acid</th>\n",
       "      <th>residual sugar</th>\n",
       "      <th>chlorides</th>\n",
       "      <th>free sulfur dioxide</th>\n",
       "      <th>total sulfur dioxide</th>\n",
       "      <th>density</th>\n",
       "      <th>pH</th>\n",
       "      <th>sulphates</th>\n",
       "      <th>alcohol</th>\n",
       "      <th>type</th>\n",
       "    </tr>\n",
       "  </thead>\n",
       "  <tbody>\n",
       "    <tr>\n",
       "      <th>0</th>\n",
       "      <td>0</td>\n",
       "      <td>5</td>\n",
       "      <td>5.6</td>\n",
       "      <td>0.695</td>\n",
       "      <td>0.06</td>\n",
       "      <td>6.8</td>\n",
       "      <td>0.042</td>\n",
       "      <td>9.0</td>\n",
       "      <td>84.0</td>\n",
       "      <td>0.99432</td>\n",
       "      <td>3.44</td>\n",
       "      <td>0.44</td>\n",
       "      <td>10.2</td>\n",
       "      <td>white</td>\n",
       "    </tr>\n",
       "    <tr>\n",
       "      <th>1</th>\n",
       "      <td>1</td>\n",
       "      <td>5</td>\n",
       "      <td>8.8</td>\n",
       "      <td>0.610</td>\n",
       "      <td>0.14</td>\n",
       "      <td>2.4</td>\n",
       "      <td>0.067</td>\n",
       "      <td>10.0</td>\n",
       "      <td>42.0</td>\n",
       "      <td>0.99690</td>\n",
       "      <td>3.19</td>\n",
       "      <td>0.59</td>\n",
       "      <td>9.5</td>\n",
       "      <td>red</td>\n",
       "    </tr>\n",
       "    <tr>\n",
       "      <th>2</th>\n",
       "      <td>2</td>\n",
       "      <td>5</td>\n",
       "      <td>7.9</td>\n",
       "      <td>0.210</td>\n",
       "      <td>0.39</td>\n",
       "      <td>2.0</td>\n",
       "      <td>0.057</td>\n",
       "      <td>21.0</td>\n",
       "      <td>138.0</td>\n",
       "      <td>0.99176</td>\n",
       "      <td>3.05</td>\n",
       "      <td>0.52</td>\n",
       "      <td>10.9</td>\n",
       "      <td>white</td>\n",
       "    </tr>\n",
       "    <tr>\n",
       "      <th>3</th>\n",
       "      <td>3</td>\n",
       "      <td>6</td>\n",
       "      <td>7.0</td>\n",
       "      <td>0.210</td>\n",
       "      <td>0.31</td>\n",
       "      <td>6.0</td>\n",
       "      <td>0.046</td>\n",
       "      <td>29.0</td>\n",
       "      <td>108.0</td>\n",
       "      <td>0.99390</td>\n",
       "      <td>3.26</td>\n",
       "      <td>0.50</td>\n",
       "      <td>10.8</td>\n",
       "      <td>white</td>\n",
       "    </tr>\n",
       "    <tr>\n",
       "      <th>4</th>\n",
       "      <td>4</td>\n",
       "      <td>6</td>\n",
       "      <td>7.8</td>\n",
       "      <td>0.400</td>\n",
       "      <td>0.26</td>\n",
       "      <td>9.5</td>\n",
       "      <td>0.059</td>\n",
       "      <td>32.0</td>\n",
       "      <td>178.0</td>\n",
       "      <td>0.99550</td>\n",
       "      <td>3.04</td>\n",
       "      <td>0.43</td>\n",
       "      <td>10.9</td>\n",
       "      <td>white</td>\n",
       "    </tr>\n",
       "    <tr>\n",
       "      <th>...</th>\n",
       "      <td>...</td>\n",
       "      <td>...</td>\n",
       "      <td>...</td>\n",
       "      <td>...</td>\n",
       "      <td>...</td>\n",
       "      <td>...</td>\n",
       "      <td>...</td>\n",
       "      <td>...</td>\n",
       "      <td>...</td>\n",
       "      <td>...</td>\n",
       "      <td>...</td>\n",
       "      <td>...</td>\n",
       "      <td>...</td>\n",
       "      <td>...</td>\n",
       "    </tr>\n",
       "    <tr>\n",
       "      <th>5492</th>\n",
       "      <td>5492</td>\n",
       "      <td>5</td>\n",
       "      <td>7.7</td>\n",
       "      <td>0.150</td>\n",
       "      <td>0.29</td>\n",
       "      <td>1.3</td>\n",
       "      <td>0.029</td>\n",
       "      <td>10.0</td>\n",
       "      <td>64.0</td>\n",
       "      <td>0.99320</td>\n",
       "      <td>3.35</td>\n",
       "      <td>0.39</td>\n",
       "      <td>10.1</td>\n",
       "      <td>white</td>\n",
       "    </tr>\n",
       "    <tr>\n",
       "      <th>5493</th>\n",
       "      <td>5493</td>\n",
       "      <td>6</td>\n",
       "      <td>6.3</td>\n",
       "      <td>0.180</td>\n",
       "      <td>0.36</td>\n",
       "      <td>1.2</td>\n",
       "      <td>0.034</td>\n",
       "      <td>26.0</td>\n",
       "      <td>111.0</td>\n",
       "      <td>0.99074</td>\n",
       "      <td>3.16</td>\n",
       "      <td>0.51</td>\n",
       "      <td>11.0</td>\n",
       "      <td>white</td>\n",
       "    </tr>\n",
       "    <tr>\n",
       "      <th>5494</th>\n",
       "      <td>5494</td>\n",
       "      <td>7</td>\n",
       "      <td>7.8</td>\n",
       "      <td>0.150</td>\n",
       "      <td>0.34</td>\n",
       "      <td>1.1</td>\n",
       "      <td>0.035</td>\n",
       "      <td>31.0</td>\n",
       "      <td>93.0</td>\n",
       "      <td>0.99096</td>\n",
       "      <td>3.07</td>\n",
       "      <td>0.72</td>\n",
       "      <td>11.3</td>\n",
       "      <td>white</td>\n",
       "    </tr>\n",
       "    <tr>\n",
       "      <th>5495</th>\n",
       "      <td>5495</td>\n",
       "      <td>5</td>\n",
       "      <td>6.6</td>\n",
       "      <td>0.410</td>\n",
       "      <td>0.31</td>\n",
       "      <td>1.6</td>\n",
       "      <td>0.042</td>\n",
       "      <td>18.0</td>\n",
       "      <td>101.0</td>\n",
       "      <td>0.99195</td>\n",
       "      <td>3.13</td>\n",
       "      <td>0.41</td>\n",
       "      <td>10.5</td>\n",
       "      <td>white</td>\n",
       "    </tr>\n",
       "    <tr>\n",
       "      <th>5496</th>\n",
       "      <td>5496</td>\n",
       "      <td>6</td>\n",
       "      <td>7.0</td>\n",
       "      <td>0.350</td>\n",
       "      <td>0.17</td>\n",
       "      <td>1.1</td>\n",
       "      <td>0.049</td>\n",
       "      <td>7.0</td>\n",
       "      <td>119.0</td>\n",
       "      <td>0.99297</td>\n",
       "      <td>3.13</td>\n",
       "      <td>0.36</td>\n",
       "      <td>9.7</td>\n",
       "      <td>white</td>\n",
       "    </tr>\n",
       "  </tbody>\n",
       "</table>\n",
       "<p>5497 rows × 14 columns</p>\n",
       "</div>"
      ],
      "text/plain": [
       "      index  quality  fixed acidity  volatile acidity  citric acid  \\\n",
       "0         0        5            5.6             0.695         0.06   \n",
       "1         1        5            8.8             0.610         0.14   \n",
       "2         2        5            7.9             0.210         0.39   \n",
       "3         3        6            7.0             0.210         0.31   \n",
       "4         4        6            7.8             0.400         0.26   \n",
       "...     ...      ...            ...               ...          ...   \n",
       "5492   5492        5            7.7             0.150         0.29   \n",
       "5493   5493        6            6.3             0.180         0.36   \n",
       "5494   5494        7            7.8             0.150         0.34   \n",
       "5495   5495        5            6.6             0.410         0.31   \n",
       "5496   5496        6            7.0             0.350         0.17   \n",
       "\n",
       "      residual sugar  chlorides  free sulfur dioxide  total sulfur dioxide  \\\n",
       "0                6.8      0.042                  9.0                  84.0   \n",
       "1                2.4      0.067                 10.0                  42.0   \n",
       "2                2.0      0.057                 21.0                 138.0   \n",
       "3                6.0      0.046                 29.0                 108.0   \n",
       "4                9.5      0.059                 32.0                 178.0   \n",
       "...              ...        ...                  ...                   ...   \n",
       "5492             1.3      0.029                 10.0                  64.0   \n",
       "5493             1.2      0.034                 26.0                 111.0   \n",
       "5494             1.1      0.035                 31.0                  93.0   \n",
       "5495             1.6      0.042                 18.0                 101.0   \n",
       "5496             1.1      0.049                  7.0                 119.0   \n",
       "\n",
       "      density    pH  sulphates  alcohol   type  \n",
       "0     0.99432  3.44       0.44     10.2  white  \n",
       "1     0.99690  3.19       0.59      9.5    red  \n",
       "2     0.99176  3.05       0.52     10.9  white  \n",
       "3     0.99390  3.26       0.50     10.8  white  \n",
       "4     0.99550  3.04       0.43     10.9  white  \n",
       "...       ...   ...        ...      ...    ...  \n",
       "5492  0.99320  3.35       0.39     10.1  white  \n",
       "5493  0.99074  3.16       0.51     11.0  white  \n",
       "5494  0.99096  3.07       0.72     11.3  white  \n",
       "5495  0.99195  3.13       0.41     10.5  white  \n",
       "5496  0.99297  3.13       0.36      9.7  white  \n",
       "\n",
       "[5497 rows x 14 columns]"
      ]
     },
     "execution_count": 1,
     "metadata": {},
     "output_type": "execute_result"
    }
   ],
   "source": [
    "# csv 데이터 가져오기\n",
    "import pandas as pd\n",
    "df = pd.read_csv('./data/train.csv')\n",
    "df"
   ]
  },
  {
   "cell_type": "code",
   "execution_count": 2,
   "id": "462629ed",
   "metadata": {},
   "outputs": [
    {
     "data": {
      "text/html": [
       "<div>\n",
       "<style scoped>\n",
       "    .dataframe tbody tr th:only-of-type {\n",
       "        vertical-align: middle;\n",
       "    }\n",
       "\n",
       "    .dataframe tbody tr th {\n",
       "        vertical-align: top;\n",
       "    }\n",
       "\n",
       "    .dataframe thead th {\n",
       "        text-align: right;\n",
       "    }\n",
       "</style>\n",
       "<table border=\"1\" class=\"dataframe\">\n",
       "  <thead>\n",
       "    <tr style=\"text-align: right;\">\n",
       "      <th></th>\n",
       "      <th>index</th>\n",
       "      <th>quality</th>\n",
       "      <th>fixed acidity</th>\n",
       "      <th>volatile acidity</th>\n",
       "      <th>citric acid</th>\n",
       "      <th>residual sugar</th>\n",
       "      <th>chlorides</th>\n",
       "      <th>free sulfur dioxide</th>\n",
       "      <th>total sulfur dioxide</th>\n",
       "      <th>density</th>\n",
       "      <th>pH</th>\n",
       "      <th>sulphates</th>\n",
       "      <th>alcohol</th>\n",
       "      <th>type</th>\n",
       "    </tr>\n",
       "  </thead>\n",
       "  <tbody>\n",
       "    <tr>\n",
       "      <th>0</th>\n",
       "      <td>False</td>\n",
       "      <td>False</td>\n",
       "      <td>False</td>\n",
       "      <td>False</td>\n",
       "      <td>False</td>\n",
       "      <td>False</td>\n",
       "      <td>False</td>\n",
       "      <td>False</td>\n",
       "      <td>False</td>\n",
       "      <td>False</td>\n",
       "      <td>False</td>\n",
       "      <td>False</td>\n",
       "      <td>False</td>\n",
       "      <td>False</td>\n",
       "    </tr>\n",
       "    <tr>\n",
       "      <th>1</th>\n",
       "      <td>False</td>\n",
       "      <td>False</td>\n",
       "      <td>False</td>\n",
       "      <td>False</td>\n",
       "      <td>False</td>\n",
       "      <td>False</td>\n",
       "      <td>False</td>\n",
       "      <td>False</td>\n",
       "      <td>False</td>\n",
       "      <td>False</td>\n",
       "      <td>False</td>\n",
       "      <td>False</td>\n",
       "      <td>False</td>\n",
       "      <td>False</td>\n",
       "    </tr>\n",
       "    <tr>\n",
       "      <th>2</th>\n",
       "      <td>False</td>\n",
       "      <td>False</td>\n",
       "      <td>False</td>\n",
       "      <td>False</td>\n",
       "      <td>False</td>\n",
       "      <td>False</td>\n",
       "      <td>False</td>\n",
       "      <td>False</td>\n",
       "      <td>False</td>\n",
       "      <td>False</td>\n",
       "      <td>False</td>\n",
       "      <td>False</td>\n",
       "      <td>False</td>\n",
       "      <td>False</td>\n",
       "    </tr>\n",
       "    <tr>\n",
       "      <th>3</th>\n",
       "      <td>False</td>\n",
       "      <td>False</td>\n",
       "      <td>False</td>\n",
       "      <td>False</td>\n",
       "      <td>False</td>\n",
       "      <td>False</td>\n",
       "      <td>False</td>\n",
       "      <td>False</td>\n",
       "      <td>False</td>\n",
       "      <td>False</td>\n",
       "      <td>False</td>\n",
       "      <td>False</td>\n",
       "      <td>False</td>\n",
       "      <td>False</td>\n",
       "    </tr>\n",
       "    <tr>\n",
       "      <th>4</th>\n",
       "      <td>False</td>\n",
       "      <td>False</td>\n",
       "      <td>False</td>\n",
       "      <td>False</td>\n",
       "      <td>False</td>\n",
       "      <td>False</td>\n",
       "      <td>False</td>\n",
       "      <td>False</td>\n",
       "      <td>False</td>\n",
       "      <td>False</td>\n",
       "      <td>False</td>\n",
       "      <td>False</td>\n",
       "      <td>False</td>\n",
       "      <td>False</td>\n",
       "    </tr>\n",
       "  </tbody>\n",
       "</table>\n",
       "</div>"
      ],
      "text/plain": [
       "   index  quality  fixed acidity  volatile acidity  citric acid  \\\n",
       "0  False    False          False             False        False   \n",
       "1  False    False          False             False        False   \n",
       "2  False    False          False             False        False   \n",
       "3  False    False          False             False        False   \n",
       "4  False    False          False             False        False   \n",
       "\n",
       "   residual sugar  chlorides  free sulfur dioxide  total sulfur dioxide  \\\n",
       "0           False      False                False                 False   \n",
       "1           False      False                False                 False   \n",
       "2           False      False                False                 False   \n",
       "3           False      False                False                 False   \n",
       "4           False      False                False                 False   \n",
       "\n",
       "   density     pH  sulphates  alcohol   type  \n",
       "0    False  False      False    False  False  \n",
       "1    False  False      False    False  False  \n",
       "2    False  False      False    False  False  \n",
       "3    False  False      False    False  False  \n",
       "4    False  False      False    False  False  "
      ]
     },
     "execution_count": 2,
     "metadata": {},
     "output_type": "execute_result"
    }
   ],
   "source": [
    "df.isna().head(5)"
   ]
  },
  {
   "cell_type": "code",
   "execution_count": 3,
   "id": "75ea6cd5",
   "metadata": {},
   "outputs": [
    {
     "data": {
      "text/plain": [
       "index                   0\n",
       "quality                 0\n",
       "fixed acidity           0\n",
       "volatile acidity        0\n",
       "citric acid             0\n",
       "residual sugar          1\n",
       "chlorides               0\n",
       "free sulfur dioxide     2\n",
       "total sulfur dioxide    0\n",
       "density                 0\n",
       "pH                      0\n",
       "sulphates               2\n",
       "alcohol                 0\n",
       "type                    0\n",
       "dtype: int64"
      ]
     },
     "execution_count": 3,
     "metadata": {},
     "output_type": "execute_result"
    }
   ],
   "source": [
    "df.isna().sum()"
   ]
  },
  {
   "cell_type": "markdown",
   "id": "30b99fd6",
   "metadata": {},
   "source": [
    "### 2) 결측치 대체하기: fillna()\n",
    "- fillna(): 결측치를 편리하게 다른 값으로 대체할 수 있는 API"
   ]
  },
  {
   "cell_type": "code",
   "execution_count": 4,
   "id": "f4406493",
   "metadata": {},
   "outputs": [],
   "source": [
    "df_na = df\n",
    "df_na['residual sugar'] = df_na['residual sugar'].fillna(0)"
   ]
  },
  {
   "cell_type": "code",
   "execution_count": 5,
   "id": "801f3e0e",
   "metadata": {},
   "outputs": [
    {
     "data": {
      "text/plain": [
       "0"
      ]
     },
     "execution_count": 5,
     "metadata": {},
     "output_type": "execute_result"
    }
   ],
   "source": [
    "df_na['residual sugar'].isna().sum()"
   ]
  },
  {
   "cell_type": "markdown",
   "id": "10beb116",
   "metadata": {},
   "source": [
    "## 3. 데이터 삭제: Drop\n",
    "- drop(): 데이터를 삭제할 때 사용"
   ]
  },
  {
   "cell_type": "code",
   "execution_count": 6,
   "id": "cce6f518",
   "metadata": {},
   "outputs": [
    {
     "data": {
      "text/html": [
       "<div>\n",
       "<style scoped>\n",
       "    .dataframe tbody tr th:only-of-type {\n",
       "        vertical-align: middle;\n",
       "    }\n",
       "\n",
       "    .dataframe tbody tr th {\n",
       "        vertical-align: top;\n",
       "    }\n",
       "\n",
       "    .dataframe thead th {\n",
       "        text-align: right;\n",
       "    }\n",
       "</style>\n",
       "<table border=\"1\" class=\"dataframe\">\n",
       "  <thead>\n",
       "    <tr style=\"text-align: right;\">\n",
       "      <th></th>\n",
       "      <th>index</th>\n",
       "      <th>quality</th>\n",
       "      <th>fixed acidity</th>\n",
       "      <th>volatile acidity</th>\n",
       "      <th>citric acid</th>\n",
       "      <th>residual sugar</th>\n",
       "      <th>free sulfur dioxide</th>\n",
       "      <th>total sulfur dioxide</th>\n",
       "      <th>density</th>\n",
       "      <th>pH</th>\n",
       "      <th>sulphates</th>\n",
       "      <th>alcohol</th>\n",
       "      <th>type</th>\n",
       "    </tr>\n",
       "  </thead>\n",
       "  <tbody>\n",
       "    <tr>\n",
       "      <th>0</th>\n",
       "      <td>0</td>\n",
       "      <td>5</td>\n",
       "      <td>5.6</td>\n",
       "      <td>0.695</td>\n",
       "      <td>0.06</td>\n",
       "      <td>6.8</td>\n",
       "      <td>9.0</td>\n",
       "      <td>84.0</td>\n",
       "      <td>0.99432</td>\n",
       "      <td>3.44</td>\n",
       "      <td>0.44</td>\n",
       "      <td>10.2</td>\n",
       "      <td>white</td>\n",
       "    </tr>\n",
       "    <tr>\n",
       "      <th>1</th>\n",
       "      <td>1</td>\n",
       "      <td>5</td>\n",
       "      <td>8.8</td>\n",
       "      <td>0.610</td>\n",
       "      <td>0.14</td>\n",
       "      <td>2.4</td>\n",
       "      <td>10.0</td>\n",
       "      <td>42.0</td>\n",
       "      <td>0.99690</td>\n",
       "      <td>3.19</td>\n",
       "      <td>0.59</td>\n",
       "      <td>9.5</td>\n",
       "      <td>red</td>\n",
       "    </tr>\n",
       "    <tr>\n",
       "      <th>2</th>\n",
       "      <td>2</td>\n",
       "      <td>5</td>\n",
       "      <td>7.9</td>\n",
       "      <td>0.210</td>\n",
       "      <td>0.39</td>\n",
       "      <td>2.0</td>\n",
       "      <td>21.0</td>\n",
       "      <td>138.0</td>\n",
       "      <td>0.99176</td>\n",
       "      <td>3.05</td>\n",
       "      <td>0.52</td>\n",
       "      <td>10.9</td>\n",
       "      <td>white</td>\n",
       "    </tr>\n",
       "  </tbody>\n",
       "</table>\n",
       "</div>"
      ],
      "text/plain": [
       "   index  quality  fixed acidity  volatile acidity  citric acid  \\\n",
       "0      0        5            5.6             0.695         0.06   \n",
       "1      1        5            8.8             0.610         0.14   \n",
       "2      2        5            7.9             0.210         0.39   \n",
       "\n",
       "   residual sugar  free sulfur dioxide  total sulfur dioxide  density    pH  \\\n",
       "0             6.8                  9.0                  84.0  0.99432  3.44   \n",
       "1             2.4                 10.0                  42.0  0.99690  3.19   \n",
       "2             2.0                 21.0                 138.0  0.99176  3.05   \n",
       "\n",
       "   sulphates  alcohol   type  \n",
       "0       0.44     10.2  white  \n",
       "1       0.59      9.5    red  \n",
       "2       0.52     10.9  white  "
      ]
     },
     "execution_count": 6,
     "metadata": {},
     "output_type": "execute_result"
    }
   ],
   "source": [
    "# axis = 1\n",
    "df_drop = df.drop('chlorides', axis=1)\n",
    "df_drop.head(3)"
   ]
  },
  {
   "cell_type": "code",
   "execution_count": 7,
   "id": "0045f756",
   "metadata": {},
   "outputs": [
    {
     "data": {
      "text/html": [
       "<div>\n",
       "<style scoped>\n",
       "    .dataframe tbody tr th:only-of-type {\n",
       "        vertical-align: middle;\n",
       "    }\n",
       "\n",
       "    .dataframe tbody tr th {\n",
       "        vertical-align: top;\n",
       "    }\n",
       "\n",
       "    .dataframe thead th {\n",
       "        text-align: right;\n",
       "    }\n",
       "</style>\n",
       "<table border=\"1\" class=\"dataframe\">\n",
       "  <thead>\n",
       "    <tr style=\"text-align: right;\">\n",
       "      <th></th>\n",
       "      <th>index</th>\n",
       "      <th>quality</th>\n",
       "      <th>fixed acidity</th>\n",
       "      <th>volatile acidity</th>\n",
       "      <th>citric acid</th>\n",
       "      <th>residual sugar</th>\n",
       "      <th>chlorides</th>\n",
       "      <th>free sulfur dioxide</th>\n",
       "      <th>total sulfur dioxide</th>\n",
       "      <th>density</th>\n",
       "      <th>pH</th>\n",
       "      <th>sulphates</th>\n",
       "      <th>alcohol</th>\n",
       "      <th>type</th>\n",
       "    </tr>\n",
       "  </thead>\n",
       "  <tbody>\n",
       "    <tr>\n",
       "      <th>3</th>\n",
       "      <td>3</td>\n",
       "      <td>6</td>\n",
       "      <td>7.0</td>\n",
       "      <td>0.21</td>\n",
       "      <td>0.31</td>\n",
       "      <td>6.0</td>\n",
       "      <td>0.046</td>\n",
       "      <td>29.0</td>\n",
       "      <td>108.0</td>\n",
       "      <td>0.9939</td>\n",
       "      <td>3.26</td>\n",
       "      <td>0.50</td>\n",
       "      <td>10.8</td>\n",
       "      <td>white</td>\n",
       "    </tr>\n",
       "    <tr>\n",
       "      <th>4</th>\n",
       "      <td>4</td>\n",
       "      <td>6</td>\n",
       "      <td>7.8</td>\n",
       "      <td>0.40</td>\n",
       "      <td>0.26</td>\n",
       "      <td>9.5</td>\n",
       "      <td>0.059</td>\n",
       "      <td>32.0</td>\n",
       "      <td>178.0</td>\n",
       "      <td>0.9955</td>\n",
       "      <td>3.04</td>\n",
       "      <td>0.43</td>\n",
       "      <td>10.9</td>\n",
       "      <td>white</td>\n",
       "    </tr>\n",
       "    <tr>\n",
       "      <th>5</th>\n",
       "      <td>5</td>\n",
       "      <td>6</td>\n",
       "      <td>6.0</td>\n",
       "      <td>0.19</td>\n",
       "      <td>0.37</td>\n",
       "      <td>9.7</td>\n",
       "      <td>0.032</td>\n",
       "      <td>17.0</td>\n",
       "      <td>50.0</td>\n",
       "      <td>0.9932</td>\n",
       "      <td>3.08</td>\n",
       "      <td>0.66</td>\n",
       "      <td>12.0</td>\n",
       "      <td>white</td>\n",
       "    </tr>\n",
       "  </tbody>\n",
       "</table>\n",
       "</div>"
      ],
      "text/plain": [
       "   index  quality  fixed acidity  volatile acidity  citric acid  \\\n",
       "3      3        6            7.0              0.21         0.31   \n",
       "4      4        6            7.8              0.40         0.26   \n",
       "5      5        6            6.0              0.19         0.37   \n",
       "\n",
       "   residual sugar  chlorides  free sulfur dioxide  total sulfur dioxide  \\\n",
       "3             6.0      0.046                 29.0                 108.0   \n",
       "4             9.5      0.059                 32.0                 178.0   \n",
       "5             9.7      0.032                 17.0                  50.0   \n",
       "\n",
       "   density    pH  sulphates  alcohol   type  \n",
       "3   0.9939  3.26       0.50     10.8  white  \n",
       "4   0.9955  3.04       0.43     10.9  white  \n",
       "5   0.9932  3.08       0.66     12.0  white  "
      ]
     },
     "execution_count": 7,
     "metadata": {},
     "output_type": "execute_result"
    }
   ],
   "source": [
    "# axis = 0\n",
    "df_drop = df.drop([0, 1, 2], axis=0)\n",
    "df_drop.head(3)"
   ]
  },
  {
   "cell_type": "code",
   "execution_count": 8,
   "id": "fdf8b175",
   "metadata": {},
   "outputs": [
    {
     "data": {
      "text/html": [
       "<div>\n",
       "<style scoped>\n",
       "    .dataframe tbody tr th:only-of-type {\n",
       "        vertical-align: middle;\n",
       "    }\n",
       "\n",
       "    .dataframe tbody tr th {\n",
       "        vertical-align: top;\n",
       "    }\n",
       "\n",
       "    .dataframe thead th {\n",
       "        text-align: right;\n",
       "    }\n",
       "</style>\n",
       "<table border=\"1\" class=\"dataframe\">\n",
       "  <thead>\n",
       "    <tr style=\"text-align: right;\">\n",
       "      <th></th>\n",
       "      <th>index</th>\n",
       "      <th>quality</th>\n",
       "      <th>fixed acidity</th>\n",
       "      <th>volatile acidity</th>\n",
       "      <th>citric acid</th>\n",
       "      <th>residual sugar</th>\n",
       "      <th>chlorides</th>\n",
       "      <th>free sulfur dioxide</th>\n",
       "      <th>total sulfur dioxide</th>\n",
       "      <th>density</th>\n",
       "      <th>pH</th>\n",
       "      <th>sulphates</th>\n",
       "      <th>alcohol</th>\n",
       "      <th>type</th>\n",
       "    </tr>\n",
       "  </thead>\n",
       "  <tbody>\n",
       "    <tr>\n",
       "      <th>0</th>\n",
       "      <td>0</td>\n",
       "      <td>5</td>\n",
       "      <td>5.6</td>\n",
       "      <td>0.695</td>\n",
       "      <td>0.06</td>\n",
       "      <td>6.8</td>\n",
       "      <td>0.042</td>\n",
       "      <td>9.0</td>\n",
       "      <td>84.0</td>\n",
       "      <td>0.99432</td>\n",
       "      <td>3.44</td>\n",
       "      <td>0.44</td>\n",
       "      <td>10.2</td>\n",
       "      <td>white</td>\n",
       "    </tr>\n",
       "    <tr>\n",
       "      <th>1</th>\n",
       "      <td>1</td>\n",
       "      <td>5</td>\n",
       "      <td>8.8</td>\n",
       "      <td>0.610</td>\n",
       "      <td>0.14</td>\n",
       "      <td>2.4</td>\n",
       "      <td>0.067</td>\n",
       "      <td>10.0</td>\n",
       "      <td>42.0</td>\n",
       "      <td>0.99690</td>\n",
       "      <td>3.19</td>\n",
       "      <td>0.59</td>\n",
       "      <td>9.5</td>\n",
       "      <td>red</td>\n",
       "    </tr>\n",
       "    <tr>\n",
       "      <th>2</th>\n",
       "      <td>2</td>\n",
       "      <td>5</td>\n",
       "      <td>7.9</td>\n",
       "      <td>0.210</td>\n",
       "      <td>0.39</td>\n",
       "      <td>2.0</td>\n",
       "      <td>0.057</td>\n",
       "      <td>21.0</td>\n",
       "      <td>138.0</td>\n",
       "      <td>0.99176</td>\n",
       "      <td>3.05</td>\n",
       "      <td>0.52</td>\n",
       "      <td>10.9</td>\n",
       "      <td>white</td>\n",
       "    </tr>\n",
       "  </tbody>\n",
       "</table>\n",
       "</div>"
      ],
      "text/plain": [
       "   index  quality  fixed acidity  volatile acidity  citric acid  \\\n",
       "0      0        5            5.6             0.695         0.06   \n",
       "1      1        5            8.8             0.610         0.14   \n",
       "2      2        5            7.9             0.210         0.39   \n",
       "\n",
       "   residual sugar  chlorides  free sulfur dioxide  total sulfur dioxide  \\\n",
       "0             6.8      0.042                  9.0                  84.0   \n",
       "1             2.4      0.067                 10.0                  42.0   \n",
       "2             2.0      0.057                 21.0                 138.0   \n",
       "\n",
       "   density    pH  sulphates  alcohol   type  \n",
       "0  0.99432  3.44       0.44     10.2  white  \n",
       "1  0.99690  3.19       0.59      9.5    red  \n",
       "2  0.99176  3.05       0.52     10.9  white  "
      ]
     },
     "execution_count": 8,
     "metadata": {},
     "output_type": "execute_result"
    }
   ],
   "source": [
    "df.head(3)  # inplace=False(디폴트): 원본 DataFrame은 유지"
   ]
  },
  {
   "cell_type": "code",
   "execution_count": 9,
   "id": "94f17e07",
   "metadata": {},
   "outputs": [
    {
     "name": "stdout",
     "output_type": "stream",
     "text": [
      "inplace = True로 drop 후 반환된 값: None\n"
     ]
    },
    {
     "data": {
      "text/html": [
       "<div>\n",
       "<style scoped>\n",
       "    .dataframe tbody tr th:only-of-type {\n",
       "        vertical-align: middle;\n",
       "    }\n",
       "\n",
       "    .dataframe tbody tr th {\n",
       "        vertical-align: top;\n",
       "    }\n",
       "\n",
       "    .dataframe thead th {\n",
       "        text-align: right;\n",
       "    }\n",
       "</style>\n",
       "<table border=\"1\" class=\"dataframe\">\n",
       "  <thead>\n",
       "    <tr style=\"text-align: right;\">\n",
       "      <th></th>\n",
       "      <th>index</th>\n",
       "      <th>quality</th>\n",
       "      <th>fixed acidity</th>\n",
       "      <th>volatile acidity</th>\n",
       "      <th>citric acid</th>\n",
       "      <th>residual sugar</th>\n",
       "      <th>free sulfur dioxide</th>\n",
       "      <th>total sulfur dioxide</th>\n",
       "      <th>density</th>\n",
       "      <th>pH</th>\n",
       "      <th>sulphates</th>\n",
       "      <th>alcohol</th>\n",
       "      <th>type</th>\n",
       "    </tr>\n",
       "  </thead>\n",
       "  <tbody>\n",
       "    <tr>\n",
       "      <th>0</th>\n",
       "      <td>0</td>\n",
       "      <td>5</td>\n",
       "      <td>5.6</td>\n",
       "      <td>0.695</td>\n",
       "      <td>0.06</td>\n",
       "      <td>6.8</td>\n",
       "      <td>9.0</td>\n",
       "      <td>84.0</td>\n",
       "      <td>0.99432</td>\n",
       "      <td>3.44</td>\n",
       "      <td>0.44</td>\n",
       "      <td>10.2</td>\n",
       "      <td>white</td>\n",
       "    </tr>\n",
       "    <tr>\n",
       "      <th>1</th>\n",
       "      <td>1</td>\n",
       "      <td>5</td>\n",
       "      <td>8.8</td>\n",
       "      <td>0.610</td>\n",
       "      <td>0.14</td>\n",
       "      <td>2.4</td>\n",
       "      <td>10.0</td>\n",
       "      <td>42.0</td>\n",
       "      <td>0.99690</td>\n",
       "      <td>3.19</td>\n",
       "      <td>0.59</td>\n",
       "      <td>9.5</td>\n",
       "      <td>red</td>\n",
       "    </tr>\n",
       "    <tr>\n",
       "      <th>2</th>\n",
       "      <td>2</td>\n",
       "      <td>5</td>\n",
       "      <td>7.9</td>\n",
       "      <td>0.210</td>\n",
       "      <td>0.39</td>\n",
       "      <td>2.0</td>\n",
       "      <td>21.0</td>\n",
       "      <td>138.0</td>\n",
       "      <td>0.99176</td>\n",
       "      <td>3.05</td>\n",
       "      <td>0.52</td>\n",
       "      <td>10.9</td>\n",
       "      <td>white</td>\n",
       "    </tr>\n",
       "  </tbody>\n",
       "</table>\n",
       "</div>"
      ],
      "text/plain": [
       "   index  quality  fixed acidity  volatile acidity  citric acid  \\\n",
       "0      0        5            5.6             0.695         0.06   \n",
       "1      1        5            8.8             0.610         0.14   \n",
       "2      2        5            7.9             0.210         0.39   \n",
       "\n",
       "   residual sugar  free sulfur dioxide  total sulfur dioxide  density    pH  \\\n",
       "0             6.8                  9.0                  84.0  0.99432  3.44   \n",
       "1             2.4                 10.0                  42.0  0.99690  3.19   \n",
       "2             2.0                 21.0                 138.0  0.99176  3.05   \n",
       "\n",
       "   sulphates  alcohol   type  \n",
       "0       0.44     10.2  white  \n",
       "1       0.59      9.5    red  \n",
       "2       0.52     10.9  white  "
      ]
     },
     "execution_count": 9,
     "metadata": {},
     "output_type": "execute_result"
    }
   ],
   "source": [
    "# inplace = True\n",
    "df1 = df\n",
    "drop_result = df1.drop('chlorides', axis=1, inplace=True)\n",
    "print('inplace = True로 drop 후 반환된 값:', drop_result)\n",
    "df1.head(3)"
   ]
  },
  {
   "cell_type": "code",
   "execution_count": 10,
   "id": "028ed177",
   "metadata": {},
   "outputs": [
    {
     "name": "stdout",
     "output_type": "stream",
     "text": [
      "None\n"
     ]
    }
   ],
   "source": [
    "df0 = df\n",
    "df0 = df0.drop('fixed acidity', axis=1, inplace=True)\n",
    "print(df0)"
   ]
  },
  {
   "cell_type": "markdown",
   "id": "7cec54a9",
   "metadata": {},
   "source": [
    "## 4. 데이터 병합: Merge"
   ]
  },
  {
   "cell_type": "markdown",
   "id": "99dce8e7",
   "metadata": {},
   "source": [
    "- 기준열 이름이 같을 때 \n",
    "    \n",
    "    pd.merge(left, right, on='기준열', how='조인방식')\n",
    "\n",
    "\n",
    "- 기준열 이름이 다를 때 \n",
    "    \n",
    "    pd.merge(left, right, left_on='왼쪽 열', right_on='오른쪽 열', how='조인방식')"
   ]
  },
  {
   "attachments": {
    "image.png": {
     "image/png": "[encoded data removed]"
    }
   },
   "cell_type": "markdown",
   "id": "75889405",
   "metadata": {},
   "source": [
    "### 1) how: 결합 방법\n",
    "![image.png](attachment:image.png)"
   ]
  },
  {
   "cell_type": "code",
   "execution_count": 11,
   "id": "da478aab",
   "metadata": {},
   "outputs": [
    {
     "name": "stdout",
     "output_type": "stream",
     "text": [
      "    Num   Fruit\n",
      "0   123   Apple\n",
      "1   456  Banana\n",
      "2   789  Cherry\n",
      "3  1011   Lemon\n",
      "4  1112   Peach\n",
      "    Num Grade\n",
      "0   123     A\n",
      "1   789     B\n",
      "2  1314     C\n"
     ]
    }
   ],
   "source": [
    "# 예시 데이터 생성\n",
    "fruit = pd.DataFrame({'Num': [123, 456, 789, 1011, 1112], \n",
    "                      'Fruit': ['Apple', 'Banana', 'Cherry', 'Lemon', 'Peach']})\n",
    "grade = pd.DataFrame({'Num': [123, 789, 1314], 'Grade': ['A', 'B', 'C']})\n",
    "print(fruit)\n",
    "print(grade)"
   ]
  },
  {
   "cell_type": "code",
   "execution_count": 12,
   "id": "889efba4",
   "metadata": {},
   "outputs": [
    {
     "data": {
      "text/html": [
       "<div>\n",
       "<style scoped>\n",
       "    .dataframe tbody tr th:only-of-type {\n",
       "        vertical-align: middle;\n",
       "    }\n",
       "\n",
       "    .dataframe tbody tr th {\n",
       "        vertical-align: top;\n",
       "    }\n",
       "\n",
       "    .dataframe thead th {\n",
       "        text-align: right;\n",
       "    }\n",
       "</style>\n",
       "<table border=\"1\" class=\"dataframe\">\n",
       "  <thead>\n",
       "    <tr style=\"text-align: right;\">\n",
       "      <th></th>\n",
       "      <th>Num</th>\n",
       "      <th>Fruit</th>\n",
       "      <th>Grade</th>\n",
       "    </tr>\n",
       "  </thead>\n",
       "  <tbody>\n",
       "    <tr>\n",
       "      <th>0</th>\n",
       "      <td>123</td>\n",
       "      <td>Apple</td>\n",
       "      <td>A</td>\n",
       "    </tr>\n",
       "    <tr>\n",
       "      <th>1</th>\n",
       "      <td>456</td>\n",
       "      <td>Banana</td>\n",
       "      <td>NaN</td>\n",
       "    </tr>\n",
       "    <tr>\n",
       "      <th>2</th>\n",
       "      <td>789</td>\n",
       "      <td>Cherry</td>\n",
       "      <td>B</td>\n",
       "    </tr>\n",
       "    <tr>\n",
       "      <th>3</th>\n",
       "      <td>1011</td>\n",
       "      <td>Lemon</td>\n",
       "      <td>NaN</td>\n",
       "    </tr>\n",
       "    <tr>\n",
       "      <th>4</th>\n",
       "      <td>1112</td>\n",
       "      <td>Peach</td>\n",
       "      <td>NaN</td>\n",
       "    </tr>\n",
       "  </tbody>\n",
       "</table>\n",
       "</div>"
      ],
      "text/plain": [
       "    Num   Fruit Grade\n",
       "0   123   Apple     A\n",
       "1   456  Banana   NaN\n",
       "2   789  Cherry     B\n",
       "3  1011   Lemon   NaN\n",
       "4  1112   Peach   NaN"
      ]
     },
     "execution_count": 12,
     "metadata": {},
     "output_type": "execute_result"
    }
   ],
   "source": [
    "# left join: 왼쪽 데이터프레임 기준 결합\n",
    "pd.merge(fruit, grade, on='Num', how='left')"
   ]
  },
  {
   "cell_type": "code",
   "execution_count": 13,
   "id": "0263c520",
   "metadata": {},
   "outputs": [
    {
     "data": {
      "text/html": [
       "<div>\n",
       "<style scoped>\n",
       "    .dataframe tbody tr th:only-of-type {\n",
       "        vertical-align: middle;\n",
       "    }\n",
       "\n",
       "    .dataframe tbody tr th {\n",
       "        vertical-align: top;\n",
       "    }\n",
       "\n",
       "    .dataframe thead th {\n",
       "        text-align: right;\n",
       "    }\n",
       "</style>\n",
       "<table border=\"1\" class=\"dataframe\">\n",
       "  <thead>\n",
       "    <tr style=\"text-align: right;\">\n",
       "      <th></th>\n",
       "      <th>Num</th>\n",
       "      <th>Fruit</th>\n",
       "      <th>Grade</th>\n",
       "    </tr>\n",
       "  </thead>\n",
       "  <tbody>\n",
       "    <tr>\n",
       "      <th>0</th>\n",
       "      <td>123</td>\n",
       "      <td>Apple</td>\n",
       "      <td>A</td>\n",
       "    </tr>\n",
       "    <tr>\n",
       "      <th>1</th>\n",
       "      <td>789</td>\n",
       "      <td>Cherry</td>\n",
       "      <td>B</td>\n",
       "    </tr>\n",
       "    <tr>\n",
       "      <th>2</th>\n",
       "      <td>1314</td>\n",
       "      <td>NaN</td>\n",
       "      <td>C</td>\n",
       "    </tr>\n",
       "  </tbody>\n",
       "</table>\n",
       "</div>"
      ],
      "text/plain": [
       "    Num   Fruit Grade\n",
       "0   123   Apple     A\n",
       "1   789  Cherry     B\n",
       "2  1314     NaN     C"
      ]
     },
     "execution_count": 13,
     "metadata": {},
     "output_type": "execute_result"
    }
   ],
   "source": [
    "# right join: 오른쪽 데이터프레임 기준 결합\n",
    "pd.merge(fruit, grade, on='Num', how='right')"
   ]
  },
  {
   "cell_type": "code",
   "execution_count": 14,
   "id": "c729819d",
   "metadata": {},
   "outputs": [
    {
     "data": {
      "text/html": [
       "<div>\n",
       "<style scoped>\n",
       "    .dataframe tbody tr th:only-of-type {\n",
       "        vertical-align: middle;\n",
       "    }\n",
       "\n",
       "    .dataframe tbody tr th {\n",
       "        vertical-align: top;\n",
       "    }\n",
       "\n",
       "    .dataframe thead th {\n",
       "        text-align: right;\n",
       "    }\n",
       "</style>\n",
       "<table border=\"1\" class=\"dataframe\">\n",
       "  <thead>\n",
       "    <tr style=\"text-align: right;\">\n",
       "      <th></th>\n",
       "      <th>Num</th>\n",
       "      <th>Fruit</th>\n",
       "      <th>Grade</th>\n",
       "    </tr>\n",
       "  </thead>\n",
       "  <tbody>\n",
       "    <tr>\n",
       "      <th>0</th>\n",
       "      <td>123</td>\n",
       "      <td>Apple</td>\n",
       "      <td>A</td>\n",
       "    </tr>\n",
       "    <tr>\n",
       "      <th>1</th>\n",
       "      <td>789</td>\n",
       "      <td>Cherry</td>\n",
       "      <td>B</td>\n",
       "    </tr>\n",
       "  </tbody>\n",
       "</table>\n",
       "</div>"
      ],
      "text/plain": [
       "   Num   Fruit Grade\n",
       "0  123   Apple     A\n",
       "1  789  Cherry     B"
      ]
     },
     "execution_count": 14,
     "metadata": {},
     "output_type": "execute_result"
    }
   ],
   "source": [
    "# inner join: 교집합\n",
    "pd.merge(fruit, grade, on='Num', how='inner')"
   ]
  },
  {
   "cell_type": "code",
   "execution_count": 15,
   "id": "3f13781b",
   "metadata": {},
   "outputs": [
    {
     "data": {
      "text/html": [
       "<div>\n",
       "<style scoped>\n",
       "    .dataframe tbody tr th:only-of-type {\n",
       "        vertical-align: middle;\n",
       "    }\n",
       "\n",
       "    .dataframe tbody tr th {\n",
       "        vertical-align: top;\n",
       "    }\n",
       "\n",
       "    .dataframe thead th {\n",
       "        text-align: right;\n",
       "    }\n",
       "</style>\n",
       "<table border=\"1\" class=\"dataframe\">\n",
       "  <thead>\n",
       "    <tr style=\"text-align: right;\">\n",
       "      <th></th>\n",
       "      <th>Num</th>\n",
       "      <th>Fruit</th>\n",
       "      <th>Grade</th>\n",
       "    </tr>\n",
       "  </thead>\n",
       "  <tbody>\n",
       "    <tr>\n",
       "      <th>0</th>\n",
       "      <td>123</td>\n",
       "      <td>Apple</td>\n",
       "      <td>A</td>\n",
       "    </tr>\n",
       "    <tr>\n",
       "      <th>1</th>\n",
       "      <td>456</td>\n",
       "      <td>Banana</td>\n",
       "      <td>NaN</td>\n",
       "    </tr>\n",
       "    <tr>\n",
       "      <th>2</th>\n",
       "      <td>789</td>\n",
       "      <td>Cherry</td>\n",
       "      <td>B</td>\n",
       "    </tr>\n",
       "    <tr>\n",
       "      <th>3</th>\n",
       "      <td>1011</td>\n",
       "      <td>Lemon</td>\n",
       "      <td>NaN</td>\n",
       "    </tr>\n",
       "    <tr>\n",
       "      <th>4</th>\n",
       "      <td>1112</td>\n",
       "      <td>Peach</td>\n",
       "      <td>NaN</td>\n",
       "    </tr>\n",
       "    <tr>\n",
       "      <th>5</th>\n",
       "      <td>1314</td>\n",
       "      <td>NaN</td>\n",
       "      <td>C</td>\n",
       "    </tr>\n",
       "  </tbody>\n",
       "</table>\n",
       "</div>"
      ],
      "text/plain": [
       "    Num   Fruit Grade\n",
       "0   123   Apple     A\n",
       "1   456  Banana   NaN\n",
       "2   789  Cherry     B\n",
       "3  1011   Lemon   NaN\n",
       "4  1112   Peach   NaN\n",
       "5  1314     NaN     C"
      ]
     },
     "execution_count": 15,
     "metadata": {},
     "output_type": "execute_result"
    }
   ],
   "source": [
    "# outer join: 모든 값이 나타나도록 함\n",
    "pd.merge(fruit, grade, on='Num', how='outer')"
   ]
  },
  {
   "cell_type": "markdown",
   "id": "029ee365",
   "metadata": {},
   "source": [
    "### 2) on = 기준열\n",
    "- 공통이 되는 기준 열이 여러 개일 때\n",
    "\n",
    "    pd.merge(left, right, on=['col1', 'col2'])\n",
    "    \n",
    "\n",
    "- 두 데이터프레임의 열 이름이 다를 때\n",
    "\n",
    "    pd.merge(left, right, on='왼쪽 열', right_on='오른쪽 열')"
   ]
  },
  {
   "cell_type": "markdown",
   "id": "653366b9",
   "metadata": {},
   "source": [
    "## 5. Datetime형 처리\n",
    "- Datetime: 날짜와 시간을 처리할 수 있는 파이썬 내장 모듈"
   ]
  },
  {
   "cell_type": "markdown",
   "id": "5d3f59e7",
   "metadata": {},
   "source": [
    "### 1) timedelta (주, 일, 시, 분, 초, 밀리 초, 마이크로 초)\n",
    "- timedelta 클래스: 기간을 표현하기 위해서 사용"
   ]
  },
  {
   "cell_type": "code",
   "execution_count": 16,
   "id": "0b83cffd",
   "metadata": {},
   "outputs": [
    {
     "data": {
      "text/plain": [
       "datetime.timedelta(days=5, seconds=63000)"
      ]
     },
     "execution_count": 16,
     "metadata": {},
     "output_type": "execute_result"
    }
   ],
   "source": [
    "# timedelta 클래스 import\n",
    "from datetime import timedelta\n",
    "\n",
    "# 기간 표현\n",
    "timedelta(days=5, hours=17, minutes=30)"
   ]
  },
  {
   "cell_type": "code",
   "execution_count": 17,
   "id": "f7d80360",
   "metadata": {},
   "outputs": [
    {
     "name": "stdout",
     "output_type": "stream",
     "text": [
      "2022-10-11\n",
      "7 days, 0:00:00\n",
      "2022-10-18\n",
      "14 days, 0:00:00\n",
      "True\n",
      "False\n",
      "2022-10-04\n"
     ]
    }
   ],
   "source": [
    "from datetime import date, timedelta\n",
    "today = date.today()\n",
    "print(today)\n",
    "\n",
    "# 1주의 기간을 담은 변수 생성\n",
    "one_week = timedelta(weeks=1)\n",
    "print(one_week)\n",
    "\n",
    "# 다음 주 구하기\n",
    "next_week = today + one_week\n",
    "print(next_week)\n",
    "\n",
    "# 2주의 기간을 담은 변수 생성\n",
    "two_weeks = one_week * 2\n",
    "print(two_weeks)\n",
    "\n",
    "# 두 변수의 대소 관계\n",
    "print(one_week < two_weeks)\n",
    "\n",
    "# 내용이 같은지 파악\n",
    "print(two_weeks == timedelta(weeks=14))\n",
    "\n",
    "# 저번 주 구하기\n",
    "last_week = next_week - two_weeks\n",
    "print(last_week)"
   ]
  },
  {
   "cell_type": "markdown",
   "id": "bc48180e",
   "metadata": {},
   "source": [
    "### 2) timezone\n",
    "- timezoone 클래스: 시간대를 표현하기 위해 사용"
   ]
  },
  {
   "cell_type": "code",
   "execution_count": 18,
   "id": "dc6d9bae",
   "metadata": {},
   "outputs": [
    {
     "data": {
      "text/plain": [
       "datetime.timezone(datetime.timedelta(seconds=32400))"
      ]
     },
     "execution_count": 18,
     "metadata": {},
     "output_type": "execute_result"
    }
   ],
   "source": [
    "from datetime import timedelta, timezone\n",
    "\n",
    "# timedelta를 이용해서 시간대 표현\n",
    "timezone(timedelta(hours=9))"
   ]
  },
  {
   "cell_type": "markdown",
   "id": "4fecfc90",
   "metadata": {},
   "source": [
    "### 3) date (연, 월, 일)\n",
    "- date 클래스: 날짜를 표현하는데 사용"
   ]
  },
  {
   "cell_type": "code",
   "execution_count": 19,
   "id": "d1768416",
   "metadata": {},
   "outputs": [
    {
     "data": {
      "text/plain": [
       "datetime.date(2019, 12, 25)"
      ]
     },
     "execution_count": 19,
     "metadata": {},
     "output_type": "execute_result"
    }
   ],
   "source": [
    "from datetime import date\n",
    "\n",
    "# 날짜 표현\n",
    "date(2019, 12, 25)"
   ]
  },
  {
   "cell_type": "markdown",
   "id": "40b5bd62",
   "metadata": {},
   "source": [
    "#### [ today ]\n",
    "- today(): 오늘 날짜 얻을 때 사용"
   ]
  },
  {
   "cell_type": "code",
   "execution_count": 20,
   "id": "1b49bf0e",
   "metadata": {},
   "outputs": [
    {
     "data": {
      "text/plain": [
       "datetime.date(2022, 10, 11)"
      ]
     },
     "execution_count": 20,
     "metadata": {},
     "output_type": "execute_result"
    }
   ],
   "source": [
    "date.today()"
   ]
  },
  {
   "cell_type": "markdown",
   "id": "09c2c5e3",
   "metadata": {},
   "source": [
    "#### [ isoformat() ]\n",
    "- isoformat(): date 객체를 YYYY-MM-DD 형태의 문자열로 변환"
   ]
  },
  {
   "cell_type": "code",
   "execution_count": 21,
   "id": "3ec3992b",
   "metadata": {},
   "outputs": [
    {
     "data": {
      "text/plain": [
       "'2022-10-11'"
      ]
     },
     "execution_count": 21,
     "metadata": {},
     "output_type": "execute_result"
    }
   ],
   "source": [
    "today.isoformat()"
   ]
  },
  {
   "cell_type": "markdown",
   "id": "8e581bb6",
   "metadata": {},
   "source": [
    "#### [ fromisoformat() ]\n",
    "- fromisoformat(): YYYY-MM-DD 형태의 문자열을 date 객체로 변환"
   ]
  },
  {
   "cell_type": "code",
   "execution_count": 22,
   "id": "82ee7257",
   "metadata": {},
   "outputs": [
    {
     "data": {
      "text/plain": [
       "datetime.date(2020, 7, 18)"
      ]
     },
     "execution_count": 22,
     "metadata": {},
     "output_type": "execute_result"
    }
   ],
   "source": [
    "date.fromisoformat('2020-07-18')"
   ]
  },
  {
   "cell_type": "markdown",
   "id": "bfae4973",
   "metadata": {},
   "source": [
    "#### [ year, month, day 접근 ]\n",
    "- date 객체 내에 있는 연, 월, 일 데이터는 각각 year, month, day 속성을 통해 접근"
   ]
  },
  {
   "cell_type": "code",
   "execution_count": 23,
   "id": "5dfc4693",
   "metadata": {},
   "outputs": [
    {
     "name": "stdout",
     "output_type": "stream",
     "text": [
      "2022\n",
      "10\n",
      "11\n"
     ]
    }
   ],
   "source": [
    "today = date.today()\n",
    "\n",
    "print(today.year)\n",
    "print(today.month)\n",
    "print(today.day)"
   ]
  },
  {
   "cell_type": "markdown",
   "id": "a05321eb",
   "metadata": {},
   "source": [
    "#### [ weekday() & isoweekday() ]\n",
    "- 해당 날짜가 무슨 요일인지를 파악하기 위해 사용\n",
    "\n",
    "\n",
    "- weekday()는 월요일이 0으로 시작 / isoweekday()는 월요일이 1로 시작"
   ]
  },
  {
   "cell_type": "code",
   "execution_count": 24,
   "id": "2290a0f0",
   "metadata": {},
   "outputs": [
    {
     "name": "stdout",
     "output_type": "stream",
     "text": [
      "1\n",
      "2\n"
     ]
    }
   ],
   "source": [
    "print(today.weekday())\n",
    "print(today.isoweekday())"
   ]
  },
  {
   "cell_type": "markdown",
   "id": "7e21a3f1",
   "metadata": {},
   "source": [
    "#### [ replace() ]\n",
    "- replace(): date 객체의 연, 월, 일 데이터 변경 가능\n",
    "\n",
    "\n",
    "- date 객체는 불변하기 때문에 속성값이 변경된 새로운 date 객체를 생성하여 반환"
   ]
  },
  {
   "cell_type": "code",
   "execution_count": 25,
   "id": "dd746c4b",
   "metadata": {},
   "outputs": [
    {
     "data": {
      "text/plain": [
       "datetime.date(2018, 10, 11)"
      ]
     },
     "execution_count": 25,
     "metadata": {},
     "output_type": "execute_result"
    }
   ],
   "source": [
    "today.replace(year=2018)"
   ]
  },
  {
   "cell_type": "markdown",
   "id": "5d0fdfb3",
   "metadata": {},
   "source": [
    "### 4) time (시, 분, 초, 마이크로 초, 시간대)\n",
    "- time 클래스: 시간을 표현하기 위해 사용"
   ]
  },
  {
   "cell_type": "code",
   "execution_count": 26,
   "id": "ad2673d6",
   "metadata": {},
   "outputs": [
    {
     "data": {
      "text/plain": [
       "datetime.time(13, 42, 35)"
      ]
     },
     "execution_count": 26,
     "metadata": {},
     "output_type": "execute_result"
    }
   ],
   "source": [
    "from datetime import time\n",
    "\n",
    "# 시간 생성\n",
    "time(13, 42, 35)"
   ]
  },
  {
   "cell_type": "markdown",
   "id": "855ba0f8",
   "metadata": {},
   "source": [
    "#### [ isoformat() ]\n",
    "- isoformat(): time 객체를 HH[:MM[:SS[.fff[fff]]]][+HH:MM[:SS[.ffffff]]] 형태의 문자열로 변환"
   ]
  },
  {
   "cell_type": "code",
   "execution_count": 27,
   "id": "7b6f08c3",
   "metadata": {},
   "outputs": [
    {
     "data": {
      "text/plain": [
       "'13:42:35.458000+09:00'"
      ]
     },
     "execution_count": 27,
     "metadata": {},
     "output_type": "execute_result"
    }
   ],
   "source": [
    "from datetime import time, timedelta, timezone\n",
    "t = time(13, 42, 35, 458000, tzinfo=timezone(timedelta(hours=9)))\n",
    "t.isoformat()"
   ]
  },
  {
   "cell_type": "markdown",
   "id": "ed6ccbef",
   "metadata": {},
   "source": [
    "#### [ fromisoformat() ]\n",
    "- froisoformat(): HH[:MM[:SS[.fff[fff]]]][+HH:MM[:SS[.ffffff]]] 형태의 문자열을 time 객체로 변환"
   ]
  },
  {
   "cell_type": "code",
   "execution_count": 28,
   "id": "302ec79a",
   "metadata": {},
   "outputs": [
    {
     "data": {
      "text/plain": [
       "datetime.time(13, 42, 35, 458000, tzinfo=datetime.timezone(datetime.timedelta(seconds=32400)))"
      ]
     },
     "execution_count": 28,
     "metadata": {},
     "output_type": "execute_result"
    }
   ],
   "source": [
    "time.fromisoformat('13:42:35.458+09:00')"
   ]
  },
  {
   "cell_type": "markdown",
   "id": "da517b41",
   "metadata": {},
   "source": [
    "#### [ hour, minute, second 접근 ]\n",
    "- time 객체가 보관하고 있는 시, 분, 초 데이터는 각각 hour, minute, second 속성을 통해 접근 가능"
   ]
  },
  {
   "cell_type": "code",
   "execution_count": 29,
   "id": "d66bd352",
   "metadata": {},
   "outputs": [
    {
     "name": "stdout",
     "output_type": "stream",
     "text": [
      "13\n",
      "42\n",
      "35\n",
      "458000\n",
      "UTC+09:00\n"
     ]
    }
   ],
   "source": [
    "t = time(13, 42, 35, 458000, tzinfo=timezone(timedelta(hours=9)))\n",
    "\n",
    "print(t.hour)\n",
    "print(t.minute)\n",
    "print(t.second)\n",
    "print(t.microsecond)\n",
    "print(t.tzinfo)"
   ]
  },
  {
   "cell_type": "markdown",
   "id": "348b0ff1",
   "metadata": {},
   "source": [
    "#### [ replace() ]\n",
    "- replace 메소드: time 객체의 시, 분, 초 데이터 변경 가능\n",
    "\n",
    "\n",
    "- date 클래스와 마찬가지로 time 클래스도 불변하기 때문에 새로운 time 객체가 생성되어 반환"
   ]
  },
  {
   "cell_type": "code",
   "execution_count": 30,
   "id": "3b4d785f",
   "metadata": {},
   "outputs": [
    {
     "data": {
      "text/plain": [
       "datetime.time(14, 42, 35, 458000, tzinfo=datetime.timezone(datetime.timedelta(seconds=32400)))"
      ]
     },
     "execution_count": 30,
     "metadata": {},
     "output_type": "execute_result"
    }
   ],
   "source": [
    "t.replace(hour=14)"
   ]
  },
  {
   "cell_type": "markdown",
   "id": "1138eead",
   "metadata": {},
   "source": [
    "### 5) datetime (연, 월, 일, 시, 분, 초, 마이크로 초, 시간대)\n",
    "- datetime 클래스: 날짜와 시간을 동시에 표현하기 위해서 사용"
   ]
  },
  {
   "cell_type": "code",
   "execution_count": 31,
   "id": "45b6c785",
   "metadata": {},
   "outputs": [
    {
     "data": {
      "text/plain": [
       "datetime.datetime(2020, 7, 18, 13, 26, 23)"
      ]
     },
     "execution_count": 31,
     "metadata": {},
     "output_type": "execute_result"
    }
   ],
   "source": [
    "from datetime import datetime\n",
    "datetime(2020, 7, 18, 13, 26, 23)"
   ]
  },
  {
   "cell_type": "markdown",
   "id": "7c8e7ca9",
   "metadata": {},
   "source": [
    "#### [ combine() ]\n",
    "- combine(): 기존에 생성해둔 date나 time 객체를 활용해서 datetime 객체 생성"
   ]
  },
  {
   "cell_type": "code",
   "execution_count": 32,
   "id": "bd6077f0",
   "metadata": {},
   "outputs": [
    {
     "data": {
      "text/plain": [
       "datetime.datetime(2020, 7, 18, 13, 26, 23)"
      ]
     },
     "execution_count": 32,
     "metadata": {},
     "output_type": "execute_result"
    }
   ],
   "source": [
    "from datetime import date, datetime, time\n",
    "\n",
    "d = date(2020, 7, 18)\n",
    "t = time(13, 26, 23)\n",
    "\n",
    "datetime.combine(d, t)"
   ]
  },
  {
   "cell_type": "markdown",
   "id": "49715286",
   "metadata": {},
   "source": [
    "#### [ now() ]\n",
    "- now(): 현재 시각 알 수 있음"
   ]
  },
  {
   "cell_type": "code",
   "execution_count": 33,
   "id": "65e80055",
   "metadata": {},
   "outputs": [
    {
     "data": {
      "text/plain": [
       "datetime.datetime(2022, 10, 11, 15, 38, 10, 543274)"
      ]
     },
     "execution_count": 33,
     "metadata": {},
     "output_type": "execute_result"
    }
   ],
   "source": [
    "from datetime import datetime, timezone\n",
    "datetime.now()"
   ]
  },
  {
   "cell_type": "markdown",
   "id": "2aafdd27",
   "metadata": {},
   "source": [
    "#### [ strftime() ]\n",
    "- strftime(): datetime 객체를 다양한 포맷의 문자열로 변환"
   ]
  },
  {
   "cell_type": "code",
   "execution_count": 34,
   "id": "61b02719",
   "metadata": {},
   "outputs": [
    {
     "data": {
      "text/plain": [
       "'2022/10/11'"
      ]
     },
     "execution_count": 34,
     "metadata": {},
     "output_type": "execute_result"
    }
   ],
   "source": [
    "# Y/m/d 형태의 문자열로 변환\n",
    "today.strftime('%Y/%m/%d')"
   ]
  },
  {
   "cell_type": "code",
   "execution_count": 35,
   "id": "4830a371",
   "metadata": {},
   "outputs": [
    {
     "data": {
      "text/plain": [
       "'2022-10-11'"
      ]
     },
     "execution_count": 35,
     "metadata": {},
     "output_type": "execute_result"
    }
   ],
   "source": [
    "# Y-m-d 형태의 문자열로 변환\n",
    "today.strftime('%Y-%m-%d')"
   ]
  },
  {
   "cell_type": "code",
   "execution_count": 36,
   "id": "350c2ad0",
   "metadata": {},
   "outputs": [
    {
     "data": {
      "text/plain": [
       "'Tue Oct 11 00:00:00 2022'"
      ]
     },
     "execution_count": 36,
     "metadata": {},
     "output_type": "execute_result"
    }
   ],
   "source": [
    "# 날짜와 시간으로 변환\n",
    "today.strftime('%c')"
   ]
  },
  {
   "cell_type": "markdown",
   "id": "add06180",
   "metadata": {},
   "source": [
    "#### [ strptime() ]\n",
    "- strptime(): 다양한 포맷의 문자열을 datetime 객체로 변환"
   ]
  },
  {
   "cell_type": "code",
   "execution_count": 37,
   "id": "23fdb854",
   "metadata": {},
   "outputs": [
    {
     "data": {
      "text/plain": [
       "datetime.datetime(2020, 7, 18, 0, 0)"
      ]
     },
     "execution_count": 37,
     "metadata": {},
     "output_type": "execute_result"
    }
   ],
   "source": [
    "datetime.strptime('2020/07/18', '%Y/%m/%d')"
   ]
  },
  {
   "cell_type": "markdown",
   "id": "b0667de6",
   "metadata": {},
   "source": [
    "## 6. 데이터 인코딩 (encoding)\n",
    "- 인코딩: 문자열 값을 숫자형으로 변환하는 과정\n",
    "\n",
    "\n",
    "    - 카데고리형 피처: 카테고리 의미대로 특정 분류에 쓰이는 경우\n",
    "    - 텍스트형 피처: 주민번호나 단순 문자열 id와 같은 데이터의 경우 예측 성능을 떨어뜨리는 경우가 많기 때문에 삭제하는 것이 좋음"
   ]
  },
  {
   "cell_type": "markdown",
   "id": "3123f846",
   "metadata": {},
   "source": [
    "### 1) 레이블 인코딩 (label encoding)\n",
    "- 레이블 인코딩: LabelEncoder 클래스로 구현\n",
    "\n",
    "\n",
    "    - fit(): 문자열 데이터를 숫자형으로 바꾸는 메소드\n",
    "    - transform(): 변환된 숫자형 데이터 값을 반환하는 메소드"
   ]
  },
  {
   "cell_type": "code",
   "execution_count": 38,
   "id": "0d59fcbe",
   "metadata": {},
   "outputs": [
    {
     "name": "stdout",
     "output_type": "stream",
     "text": [
      "인코딩 변환값: [0 1 4 5 3 3 2 2]\n"
     ]
    }
   ],
   "source": [
    "from sklearn.preprocessing import LabelEncoder\n",
    "items = ['TV', '냉장고', '전자레인지', '컴퓨터', '선풍기', '선풍기', '믹서', '믹서']\n",
    "\n",
    "# LabelEncoder를 객체로 생성한 후, fit()과 transform()으로 label 인코딩 수행\n",
    "encoder = LabelEncoder()\n",
    "encoder.fit(items)\n",
    "labels = encoder.transform(items)\n",
    "print('인코딩 변환값:', labels)"
   ]
  },
  {
   "cell_type": "code",
   "execution_count": 39,
   "id": "bc98f685",
   "metadata": {},
   "outputs": [
    {
     "name": "stdout",
     "output_type": "stream",
     "text": [
      "인코딩 클래스: ['TV' '냉장고' '믹서' '선풍기' '전자레인지' '컴퓨터']\n"
     ]
    }
   ],
   "source": [
    "print('인코딩 클래스:', encoder.classes_)"
   ]
  },
  {
   "cell_type": "code",
   "execution_count": 40,
   "id": "9e7c68d5",
   "metadata": {},
   "outputs": [
    {
     "name": "stdout",
     "output_type": "stream",
     "text": [
      "디코딩 원본 값: ['전자레인지' '컴퓨터' '믹서' 'TV' '냉장고' '냉장고' '선풍기' '선풍기']\n"
     ]
    }
   ],
   "source": [
    "print('디코딩 원본 값:', encoder.inverse_transform([4, 5, 2, 0, 1, 1, 3, 3]))"
   ]
  },
  {
   "cell_type": "markdown",
   "id": "f03febc9",
   "metadata": {},
   "source": [
    "### 2) 원-핫 인코딩 (One-Hot encoding)\n",
    "- 원-핫 인코딩: 피처 값의 유형에 따라 새로운 피처를 추가해 고유값에 해당하는 컬럼에만 1을 표시하고 나머지 컬럼에는 0을 표시\n",
    "\n",
    "#### [ 변환할 때 주의할 점 ]\n",
    "- OneHotEncoder로 변환하기 전에 모든 문자열 값이 숫자형 값으로 변환되어야 함\n",
    "- 입력 값으로 2차원 데이터가 필요함"
   ]
  },
  {
   "cell_type": "code",
   "execution_count": 41,
   "id": "ee7b56ac",
   "metadata": {},
   "outputs": [],
   "source": [
    "from sklearn.preprocessing import OneHotEncoder\n",
    "import numpy as np\n",
    "\n",
    "items = ['TV', '냉장고', '전자레인지', '컴퓨터', '선풍기', '선풍기', '믹서', '믹서']\n",
    "\n",
    "# 먼저 숫자값으로 변환\n",
    "encoder = LabelEncoder()\n",
    "encoder.fit(items)\n",
    "labels = encoder.transform(items)"
   ]
  },
  {
   "cell_type": "code",
   "execution_count": 42,
   "id": "c3e08f68",
   "metadata": {},
   "outputs": [],
   "source": [
    "# 2차원 데이터로 변환\n",
    "labels = labels.reshape(-1, 1)"
   ]
  },
  {
   "cell_type": "code",
   "execution_count": 43,
   "id": "6712b7fb",
   "metadata": {},
   "outputs": [
    {
     "name": "stdout",
     "output_type": "stream",
     "text": [
      "원-핫 인코딩 데이터\n",
      "[[1. 0. 0. 0. 0. 0.]\n",
      " [0. 1. 0. 0. 0. 0.]\n",
      " [0. 0. 0. 0. 1. 0.]\n",
      " [0. 0. 0. 0. 0. 1.]\n",
      " [0. 0. 0. 1. 0. 0.]\n",
      " [0. 0. 0. 1. 0. 0.]\n",
      " [0. 0. 1. 0. 0. 0.]\n",
      " [0. 0. 1. 0. 0. 0.]]\n",
      "원-핫 인코딩 데이터 차원\n",
      "(8, 6)\n"
     ]
    }
   ],
   "source": [
    "# 원-핫 인코딩 적용\n",
    "oh_encoder = OneHotEncoder()\n",
    "oh_encoder.fit(labels)\n",
    "oh_labels = oh_encoder.transform(labels)\n",
    "\n",
    "print('원-핫 인코딩 데이터')\n",
    "print(oh_labels.toarray())\n",
    "\n",
    "print('원-핫 인코딩 데이터 차원')\n",
    "print(oh_labels.shape)"
   ]
  },
  {
   "cell_type": "markdown",
   "id": "e69083cb",
   "metadata": {},
   "source": [
    "#### [ get_dummies() ]\n",
    "- get_dummies(): 판다스에서 원-핫 인코딩을 더 쉽게 지원하는 API\n",
    "\n",
    "\n",
    "- 문자열 카테고리 값을 숫자형으로 먼저 변환할 필요없이 바로 변환 가능"
   ]
  },
  {
   "cell_type": "code",
   "execution_count": 44,
   "id": "f290555e",
   "metadata": {},
   "outputs": [
    {
     "data": {
      "text/html": [
       "<div>\n",
       "<style scoped>\n",
       "    .dataframe tbody tr th:only-of-type {\n",
       "        vertical-align: middle;\n",
       "    }\n",
       "\n",
       "    .dataframe tbody tr th {\n",
       "        vertical-align: top;\n",
       "    }\n",
       "\n",
       "    .dataframe thead th {\n",
       "        text-align: right;\n",
       "    }\n",
       "</style>\n",
       "<table border=\"1\" class=\"dataframe\">\n",
       "  <thead>\n",
       "    <tr style=\"text-align: right;\">\n",
       "      <th></th>\n",
       "      <th>item_TV</th>\n",
       "      <th>item_냉장고</th>\n",
       "      <th>item_믹서</th>\n",
       "      <th>item_선풍기</th>\n",
       "      <th>item_전자레인지</th>\n",
       "      <th>item_컴퓨터</th>\n",
       "    </tr>\n",
       "  </thead>\n",
       "  <tbody>\n",
       "    <tr>\n",
       "      <th>0</th>\n",
       "      <td>1</td>\n",
       "      <td>0</td>\n",
       "      <td>0</td>\n",
       "      <td>0</td>\n",
       "      <td>0</td>\n",
       "      <td>0</td>\n",
       "    </tr>\n",
       "    <tr>\n",
       "      <th>1</th>\n",
       "      <td>0</td>\n",
       "      <td>1</td>\n",
       "      <td>0</td>\n",
       "      <td>0</td>\n",
       "      <td>0</td>\n",
       "      <td>0</td>\n",
       "    </tr>\n",
       "    <tr>\n",
       "      <th>2</th>\n",
       "      <td>0</td>\n",
       "      <td>0</td>\n",
       "      <td>0</td>\n",
       "      <td>0</td>\n",
       "      <td>1</td>\n",
       "      <td>0</td>\n",
       "    </tr>\n",
       "    <tr>\n",
       "      <th>3</th>\n",
       "      <td>0</td>\n",
       "      <td>0</td>\n",
       "      <td>0</td>\n",
       "      <td>0</td>\n",
       "      <td>0</td>\n",
       "      <td>1</td>\n",
       "    </tr>\n",
       "    <tr>\n",
       "      <th>4</th>\n",
       "      <td>0</td>\n",
       "      <td>0</td>\n",
       "      <td>0</td>\n",
       "      <td>1</td>\n",
       "      <td>0</td>\n",
       "      <td>0</td>\n",
       "    </tr>\n",
       "    <tr>\n",
       "      <th>5</th>\n",
       "      <td>0</td>\n",
       "      <td>0</td>\n",
       "      <td>0</td>\n",
       "      <td>1</td>\n",
       "      <td>0</td>\n",
       "      <td>0</td>\n",
       "    </tr>\n",
       "    <tr>\n",
       "      <th>6</th>\n",
       "      <td>0</td>\n",
       "      <td>0</td>\n",
       "      <td>1</td>\n",
       "      <td>0</td>\n",
       "      <td>0</td>\n",
       "      <td>0</td>\n",
       "    </tr>\n",
       "    <tr>\n",
       "      <th>7</th>\n",
       "      <td>0</td>\n",
       "      <td>0</td>\n",
       "      <td>1</td>\n",
       "      <td>0</td>\n",
       "      <td>0</td>\n",
       "      <td>0</td>\n",
       "    </tr>\n",
       "  </tbody>\n",
       "</table>\n",
       "</div>"
      ],
      "text/plain": [
       "   item_TV  item_냉장고  item_믹서  item_선풍기  item_전자레인지  item_컴퓨터\n",
       "0        1         0        0         0           0         0\n",
       "1        0         1        0         0           0         0\n",
       "2        0         0        0         0           1         0\n",
       "3        0         0        0         0           0         1\n",
       "4        0         0        0         1           0         0\n",
       "5        0         0        0         1           0         0\n",
       "6        0         0        1         0           0         0\n",
       "7        0         0        1         0           0         0"
      ]
     },
     "execution_count": 44,
     "metadata": {},
     "output_type": "execute_result"
    }
   ],
   "source": [
    "import pandas as pd\n",
    "\n",
    "df = pd.DataFrame({'item': ['TV', '냉장고', '전자레인지', '컴퓨터', '선풍기', '선풍기', '믹서', '믹서']})\n",
    "pd.get_dummies(df)"
   ]
  },
  {
   "cell_type": "markdown",
   "id": "3bfa7dba",
   "metadata": {},
   "source": [
    "## 7. 스케일링 (Scailing)"
   ]
  },
  {
   "cell_type": "markdown",
   "id": "07be8004",
   "metadata": {},
   "source": [
    "### 1) 스케일링이란?\n",
    "- 스케일링: 서로 다른 변수의 값 범위를 일정한 수준으로 맞춰주는 작업\n",
    "\n",
    "\n",
    "#### [ 주의할 점 ]\n",
    "- 모두 같은 분포로 만들 필요 없음\n",
    "\n",
    "\n",
    "- 훈련 데이터에는 fit_transform() 적용 / 테스트 데이터에는 transform() 적용\n",
    "\n",
    "\n",
    "- transform()을 호출할 때 스케일 변환된 데이터 셋을 DataFrame으로 변환해야 함\n",
    "\n",
    "\n",
    "#### [ 스케일링의 필요성 ]\n",
    "- 편향성 방지\n",
    "\n",
    "\n",
    "- 데이터 간의 상관성이 없다고 판단할 가능성 존재"
   ]
  },
  {
   "attachments": {
    "image.png": {
     "image/png": "[encoded data removed]"
    }
   },
   "cell_type": "markdown",
   "id": "9d732417",
   "metadata": {},
   "source": [
    "### 2) 표준화 VS 정규화\n",
    "- 표준화를 통해 이상치를 제거한 후 정규화를 통해 상대적인 크기에 대한 영향 줄임\n",
    "![image.png](attachment:image.png)"
   ]
  },
  {
   "cell_type": "markdown",
   "id": "6769df8a",
   "metadata": {},
   "source": [
    "### 3) 표준화 (Standardization)\n",
    "- 표준화: 특성들의 평균을 0, 분산을 1로 만드는 것 -> 특성들의 분포를 정규분포로 만드는 과정\n",
    "\n",
    "#### [ StandardScaler ]\n",
    "- 개별 피처를 평균이 0, 분산이 1인 값으로 변환해주는 표준화 클래스\n",
    "\n",
    "\n",
    "- 이상치에 매우 민감\n",
    "\n",
    "\n",
    "- 회귀보다 분류에 유용한 클래스"
   ]
  },
  {
   "cell_type": "code",
   "execution_count": 45,
   "id": "1a3f0184",
   "metadata": {},
   "outputs": [
    {
     "name": "stdout",
     "output_type": "stream",
     "text": [
      "feature 들의 평균\n",
      "sepal length (cm)    5.843333\n",
      "sepal width (cm)     3.057333\n",
      "petal length (cm)    3.758000\n",
      "petal width (cm)     1.199333\n",
      "dtype: float64\n",
      "\n",
      "feature 들의 분산\n",
      "sepal length (cm)    0.685694\n",
      "sepal width (cm)     0.189979\n",
      "petal length (cm)    3.116278\n",
      "petal width (cm)     0.581006\n",
      "dtype: float64\n"
     ]
    }
   ],
   "source": [
    "from sklearn.datasets import load_iris\n",
    "import pandas as pd\n",
    "\n",
    "# 붓꽃 데이터 셋을 로딩하고 DataFrame으로 변환\n",
    "iris = load_iris()\n",
    "iris_data = iris.data\n",
    "iris_df = pd.DataFrame(data=iris_data, columns=iris.feature_names)\n",
    "\n",
    "print('feature 들의 평균')\n",
    "print(iris_df.mean())\n",
    "print('\\nfeature 들의 분산')\n",
    "print(iris_df.var())"
   ]
  },
  {
   "cell_type": "code",
   "execution_count": 46,
   "id": "96b86289",
   "metadata": {},
   "outputs": [
    {
     "name": "stdout",
     "output_type": "stream",
     "text": [
      "feature 들의 평균\n",
      "sepal length (cm)   -1.690315e-15\n",
      "sepal width (cm)    -1.842970e-15\n",
      "petal length (cm)   -1.698641e-15\n",
      "petal width (cm)    -1.409243e-15\n",
      "dtype: float64\n",
      "\n",
      "feature 들의 분산\n",
      "sepal length (cm)    1.006711\n",
      "sepal width (cm)     1.006711\n",
      "petal length (cm)    1.006711\n",
      "petal width (cm)     1.006711\n",
      "dtype: float64\n"
     ]
    }
   ],
   "source": [
    "from sklearn.preprocessing import StandardScaler\n",
    "\n",
    "# StandardScaler 객체 생성\n",
    "scaler = StandardScaler()\n",
    "\n",
    "# 데이터 셋 변환 후 fit()과 transform() 호출\n",
    "scaler.fit(iris_df)\n",
    "iris_scaled = scaler.transform(iris_df)\n",
    "\n",
    "# DataFrame으로 변환\n",
    "iris_df_scaled = pd.DataFrame(data=iris_scaled, columns=iris.feature_names)\n",
    "\n",
    "print('feature 들의 평균')\n",
    "print(iris_df_scaled.mean())\n",
    "print('\\nfeature 들의 분산')\n",
    "print(iris_df_scaled.var())"
   ]
  },
  {
   "cell_type": "markdown",
   "id": "70506daa",
   "metadata": {},
   "source": [
    "#### [ RobustScaler ]\n",
    "- 평균과 분산 대신 중앙값과 사분위값을 사용하여 이상치에 영향 최소화\n",
    "\n",
    "\n",
    "- RobustScaler()를 사용하여 중앙값이 0, IQR(Q3-Q1)이 1이 되도록 변환\n",
    "\n",
    "\n",
    "- 모든 피처가 같은 크기를 같는다는 점이 StandardScaler와 유사"
   ]
  },
  {
   "cell_type": "code",
   "execution_count": 47,
   "id": "684f030e",
   "metadata": {
    "scrolled": true
   },
   "outputs": [
    {
     "data": {
      "text/html": [
       "<div>\n",
       "<style scoped>\n",
       "    .dataframe tbody tr th:only-of-type {\n",
       "        vertical-align: middle;\n",
       "    }\n",
       "\n",
       "    .dataframe tbody tr th {\n",
       "        vertical-align: top;\n",
       "    }\n",
       "\n",
       "    .dataframe thead th {\n",
       "        text-align: right;\n",
       "    }\n",
       "</style>\n",
       "<table border=\"1\" class=\"dataframe\">\n",
       "  <thead>\n",
       "    <tr style=\"text-align: right;\">\n",
       "      <th></th>\n",
       "      <th>x1</th>\n",
       "      <th>x2</th>\n",
       "    </tr>\n",
       "  </thead>\n",
       "  <tbody>\n",
       "    <tr>\n",
       "      <th>0</th>\n",
       "      <td>0</td>\n",
       "      <td>0</td>\n",
       "    </tr>\n",
       "    <tr>\n",
       "      <th>1</th>\n",
       "      <td>1</td>\n",
       "      <td>1</td>\n",
       "    </tr>\n",
       "    <tr>\n",
       "      <th>2</th>\n",
       "      <td>2</td>\n",
       "      <td>4</td>\n",
       "    </tr>\n",
       "    <tr>\n",
       "      <th>3</th>\n",
       "      <td>3</td>\n",
       "      <td>9</td>\n",
       "    </tr>\n",
       "    <tr>\n",
       "      <th>4</th>\n",
       "      <td>4</td>\n",
       "      <td>16</td>\n",
       "    </tr>\n",
       "    <tr>\n",
       "      <th>5</th>\n",
       "      <td>5</td>\n",
       "      <td>25</td>\n",
       "    </tr>\n",
       "    <tr>\n",
       "      <th>6</th>\n",
       "      <td>6</td>\n",
       "      <td>36</td>\n",
       "    </tr>\n",
       "    <tr>\n",
       "      <th>7</th>\n",
       "      <td>7</td>\n",
       "      <td>49</td>\n",
       "    </tr>\n",
       "    <tr>\n",
       "      <th>8</th>\n",
       "      <td>8</td>\n",
       "      <td>64</td>\n",
       "    </tr>\n",
       "    <tr>\n",
       "      <th>9</th>\n",
       "      <td>9</td>\n",
       "      <td>81</td>\n",
       "    </tr>\n",
       "    <tr>\n",
       "      <th>10</th>\n",
       "      <td>10</td>\n",
       "      <td>100</td>\n",
       "    </tr>\n",
       "  </tbody>\n",
       "</table>\n",
       "</div>"
      ],
      "text/plain": [
       "    x1   x2\n",
       "0    0    0\n",
       "1    1    1\n",
       "2    2    4\n",
       "3    3    9\n",
       "4    4   16\n",
       "5    5   25\n",
       "6    6   36\n",
       "7    7   49\n",
       "8    8   64\n",
       "9    9   81\n",
       "10  10  100"
      ]
     },
     "execution_count": 47,
     "metadata": {},
     "output_type": "execute_result"
    }
   ],
   "source": [
    "import pandas as pd\n",
    "import numpy as np\n",
    "\n",
    "df = pd.DataFrame({'x1': np.arange(11), 'x2': np.arange(11) ** 2})\n",
    "df"
   ]
  },
  {
   "cell_type": "code",
   "execution_count": 50,
   "id": "516dcdc5",
   "metadata": {},
   "outputs": [
    {
     "data": {
      "text/html": [
       "<div>\n",
       "<style scoped>\n",
       "    .dataframe tbody tr th:only-of-type {\n",
       "        vertical-align: middle;\n",
       "    }\n",
       "\n",
       "    .dataframe tbody tr th {\n",
       "        vertical-align: top;\n",
       "    }\n",
       "\n",
       "    .dataframe thead th {\n",
       "        text-align: right;\n",
       "    }\n",
       "</style>\n",
       "<table border=\"1\" class=\"dataframe\">\n",
       "  <thead>\n",
       "    <tr style=\"text-align: right;\">\n",
       "      <th></th>\n",
       "      <th>x1_robust</th>\n",
       "      <th>x2_robust</th>\n",
       "    </tr>\n",
       "  </thead>\n",
       "  <tbody>\n",
       "    <tr>\n",
       "      <th>0</th>\n",
       "      <td>-1.0</td>\n",
       "      <td>-0.50</td>\n",
       "    </tr>\n",
       "    <tr>\n",
       "      <th>1</th>\n",
       "      <td>-0.8</td>\n",
       "      <td>-0.48</td>\n",
       "    </tr>\n",
       "    <tr>\n",
       "      <th>2</th>\n",
       "      <td>-0.6</td>\n",
       "      <td>-0.42</td>\n",
       "    </tr>\n",
       "    <tr>\n",
       "      <th>3</th>\n",
       "      <td>-0.4</td>\n",
       "      <td>-0.32</td>\n",
       "    </tr>\n",
       "    <tr>\n",
       "      <th>4</th>\n",
       "      <td>-0.2</td>\n",
       "      <td>-0.18</td>\n",
       "    </tr>\n",
       "    <tr>\n",
       "      <th>5</th>\n",
       "      <td>0.0</td>\n",
       "      <td>0.00</td>\n",
       "    </tr>\n",
       "    <tr>\n",
       "      <th>6</th>\n",
       "      <td>0.2</td>\n",
       "      <td>0.22</td>\n",
       "    </tr>\n",
       "    <tr>\n",
       "      <th>7</th>\n",
       "      <td>0.4</td>\n",
       "      <td>0.48</td>\n",
       "    </tr>\n",
       "    <tr>\n",
       "      <th>8</th>\n",
       "      <td>0.6</td>\n",
       "      <td>0.78</td>\n",
       "    </tr>\n",
       "    <tr>\n",
       "      <th>9</th>\n",
       "      <td>0.8</td>\n",
       "      <td>1.12</td>\n",
       "    </tr>\n",
       "    <tr>\n",
       "      <th>10</th>\n",
       "      <td>1.0</td>\n",
       "      <td>1.50</td>\n",
       "    </tr>\n",
       "  </tbody>\n",
       "</table>\n",
       "</div>"
      ],
      "text/plain": [
       "    x1_robust  x2_robust\n",
       "0        -1.0      -0.50\n",
       "1        -0.8      -0.48\n",
       "2        -0.6      -0.42\n",
       "3        -0.4      -0.32\n",
       "4        -0.2      -0.18\n",
       "5         0.0       0.00\n",
       "6         0.2       0.22\n",
       "7         0.4       0.48\n",
       "8         0.6       0.78\n",
       "9         0.8       1.12\n",
       "10        1.0       1.50"
      ]
     },
     "execution_count": 50,
     "metadata": {},
     "output_type": "execute_result"
    }
   ],
   "source": [
    "from sklearn.preprocessing import RobustScaler\n",
    "\n",
    "# RobustScaler 객체 생성\n",
    "scaler = RobustScaler()\n",
    "\n",
    "# RobustScaler로 데이터 셋 변환\n",
    "df_robust = scaler.fit_transform(df)\n",
    "\n",
    "# transform()시 scale 변환된 데이터 셋 DataFrame으로 변환\n",
    "df_robust1 = pd.DataFrame(df_robust, columns=['x1_robust', 'x2_robust'])\n",
    "df_robust1"
   ]
  },
  {
   "cell_type": "code",
   "execution_count": 51,
   "id": "c3539ac3",
   "metadata": {},
   "outputs": [
    {
     "name": "stdout",
     "output_type": "stream",
     "text": [
      "          x1_robust  x2_robust\n",
      "count  1.100000e+01  11.000000\n",
      "mean   2.018587e-17   0.200000\n",
      "std    6.633250e-01   0.688709\n",
      "min   -1.000000e+00  -0.500000\n",
      "25%   -5.000000e-01  -0.370000\n",
      "50%    0.000000e+00   0.000000\n",
      "75%    5.000000e-01   0.630000\n",
      "max    1.000000e+00   1.500000\n",
      "median: x1_robust    0.0\n",
      "x2_robust    0.0\n",
      "Name: 0.5, dtype: float64\n",
      "IQR: x1_robust    1.0\n",
      "x2_robust    1.0\n",
      "dtype: float64\n"
     ]
    }
   ],
   "source": [
    "print(df_robust1.describe())\n",
    "\n",
    "Q1 = df_robust1.quantile(.25)\n",
    "Q2 = df_robust1.quantile(.50)\n",
    "Q3 = df_robust1.quantile(.75)\n",
    "IQR = Q3 - Q1\n",
    "\n",
    "print('median:', Q2)\n",
    "print('IQR:', IQR)"
   ]
  },
  {
   "cell_type": "markdown",
   "id": "c37b0a9f",
   "metadata": {},
   "source": [
    "### 4) 정규화 (Normalization)\n",
    "- 정규화: 서로 다른 피처의 크기를 통일하기 위해 크기를 변환하는 과정\n",
    "\n",
    "\n",
    "- 일반적으로 [0, 1] 범위의 분포로 조정\n",
    "\n",
    "\n",
    "- 표준화의 결과에서 이상치를 제거한 후 정규화를 하는 것이 좋음"
   ]
  },
  {
   "cell_type": "markdown",
   "id": "60708786",
   "metadata": {},
   "source": [
    "#### [ 정규화를 하는 이유 ]\n",
    "- 각 컬럼에 들어있는 데이터의 상대적인 크기로 분석 결과가 달라질 수 있기 때문에 이러한 상대적인 크기 차이를 제거할 필요 있음\n",
    "\n",
    "\n",
    "- 정규화를 하지 않는다면 수치가 큰 데이터가 결과에 큰 영향을 주어 좋은 결과를 얻을 수 없음"
   ]
  },
  {
   "cell_type": "markdown",
   "id": "8930550c",
   "metadata": {},
   "source": [
    "#### [ MinMaxScaler ]\n",
    "- MinMaxScaler(): 각 피처의 최소값과 최대값을 기준으로 [0, 1] 사이 범위에 균등하게 값을 배정하는 정규화 방법\n",
    "\n",
    "\n",
    "- 음수 값이 있으면 [-1, 1] 사이의 값으로 변환\n",
    "\n",
    "\n",
    "- 데이터의 분포가 정규분포를 따르지 않을 때, MinMaxScaler를 이용할 수 있음"
   ]
  },
  {
   "cell_type": "code",
   "execution_count": 52,
   "id": "1459194b",
   "metadata": {},
   "outputs": [
    {
     "name": "stdout",
     "output_type": "stream",
     "text": [
      "feature들의 최소값\n",
      "sepal length (cm)    0.0\n",
      "sepal width (cm)     0.0\n",
      "petal length (cm)    0.0\n",
      "petal width (cm)     0.0\n",
      "dtype: float64\n",
      "feature들의 최대값\n",
      "sepal length (cm)    1.0\n",
      "sepal width (cm)     1.0\n",
      "petal length (cm)    1.0\n",
      "petal width (cm)     1.0\n",
      "dtype: float64\n"
     ]
    }
   ],
   "source": [
    "from sklearn.preprocessing import MinMaxScaler\n",
    "\n",
    "# MinMaxScaler 객체 생성\n",
    "scaler = MinMaxScaler()\n",
    "\n",
    "# MinMaxScaler로 데이터 셋 변환\n",
    "scaler.fit(iris_df)\n",
    "iris_scaled = scaler.transform(iris_df)\n",
    "\n",
    "# transform()시 scale 변환된 데이터 셋 DataFrame으로 변환\n",
    "iris_df_scaled = pd.DataFrame(data=iris_scaled, columns=iris.feature_names)\n",
    "\n",
    "print('feature들의 최소값')\n",
    "print(iris_df_scaled.min())\n",
    "\n",
    "print('feature들의 최대값')\n",
    "print(iris_df_scaled.max())"
   ]
  },
  {
   "cell_type": "markdown",
   "id": "7dc92851",
   "metadata": {},
   "source": [
    "#### [ MaxAbsScaler ]\n",
    "- MaxAbsScaler(): 각 특성의 절대값이 0과 1 사이가 되도록 변환하는 과정\n",
    "\n",
    "\n",
    "- 모든 값은 [-1, 1] 사이의 값으로 표현되며 데이터가 양수일 경우 MinMaxScaler와 유사함\n",
    "\n",
    "\n",
    "- 이상치에 매우 민감"
   ]
  },
  {
   "cell_type": "code",
   "execution_count": 53,
   "id": "a39b98ba",
   "metadata": {},
   "outputs": [
    {
     "data": {
      "text/html": [
       "<div>\n",
       "<style scoped>\n",
       "    .dataframe tbody tr th:only-of-type {\n",
       "        vertical-align: middle;\n",
       "    }\n",
       "\n",
       "    .dataframe tbody tr th {\n",
       "        vertical-align: top;\n",
       "    }\n",
       "\n",
       "    .dataframe thead th {\n",
       "        text-align: right;\n",
       "    }\n",
       "</style>\n",
       "<table border=\"1\" class=\"dataframe\">\n",
       "  <thead>\n",
       "    <tr style=\"text-align: right;\">\n",
       "      <th></th>\n",
       "      <th>x1</th>\n",
       "      <th>x2</th>\n",
       "    </tr>\n",
       "  </thead>\n",
       "  <tbody>\n",
       "    <tr>\n",
       "      <th>0</th>\n",
       "      <td>0</td>\n",
       "      <td>0</td>\n",
       "    </tr>\n",
       "    <tr>\n",
       "      <th>1</th>\n",
       "      <td>1</td>\n",
       "      <td>1</td>\n",
       "    </tr>\n",
       "    <tr>\n",
       "      <th>2</th>\n",
       "      <td>2</td>\n",
       "      <td>4</td>\n",
       "    </tr>\n",
       "    <tr>\n",
       "      <th>3</th>\n",
       "      <td>3</td>\n",
       "      <td>9</td>\n",
       "    </tr>\n",
       "    <tr>\n",
       "      <th>4</th>\n",
       "      <td>4</td>\n",
       "      <td>16</td>\n",
       "    </tr>\n",
       "    <tr>\n",
       "      <th>5</th>\n",
       "      <td>5</td>\n",
       "      <td>25</td>\n",
       "    </tr>\n",
       "    <tr>\n",
       "      <th>6</th>\n",
       "      <td>6</td>\n",
       "      <td>36</td>\n",
       "    </tr>\n",
       "    <tr>\n",
       "      <th>7</th>\n",
       "      <td>7</td>\n",
       "      <td>49</td>\n",
       "    </tr>\n",
       "    <tr>\n",
       "      <th>8</th>\n",
       "      <td>8</td>\n",
       "      <td>64</td>\n",
       "    </tr>\n",
       "    <tr>\n",
       "      <th>9</th>\n",
       "      <td>9</td>\n",
       "      <td>81</td>\n",
       "    </tr>\n",
       "    <tr>\n",
       "      <th>10</th>\n",
       "      <td>10</td>\n",
       "      <td>100</td>\n",
       "    </tr>\n",
       "  </tbody>\n",
       "</table>\n",
       "</div>"
      ],
      "text/plain": [
       "    x1   x2\n",
       "0    0    0\n",
       "1    1    1\n",
       "2    2    4\n",
       "3    3    9\n",
       "4    4   16\n",
       "5    5   25\n",
       "6    6   36\n",
       "7    7   49\n",
       "8    8   64\n",
       "9    9   81\n",
       "10  10  100"
      ]
     },
     "execution_count": 53,
     "metadata": {},
     "output_type": "execute_result"
    }
   ],
   "source": [
    "df"
   ]
  },
  {
   "cell_type": "code",
   "execution_count": 54,
   "id": "e7ed43c0",
   "metadata": {},
   "outputs": [
    {
     "data": {
      "text/html": [
       "<div>\n",
       "<style scoped>\n",
       "    .dataframe tbody tr th:only-of-type {\n",
       "        vertical-align: middle;\n",
       "    }\n",
       "\n",
       "    .dataframe tbody tr th {\n",
       "        vertical-align: top;\n",
       "    }\n",
       "\n",
       "    .dataframe thead th {\n",
       "        text-align: right;\n",
       "    }\n",
       "</style>\n",
       "<table border=\"1\" class=\"dataframe\">\n",
       "  <thead>\n",
       "    <tr style=\"text-align: right;\">\n",
       "      <th></th>\n",
       "      <th>x1_maxabs</th>\n",
       "      <th>x2_maxabs</th>\n",
       "    </tr>\n",
       "  </thead>\n",
       "  <tbody>\n",
       "    <tr>\n",
       "      <th>0</th>\n",
       "      <td>0.0</td>\n",
       "      <td>0.00</td>\n",
       "    </tr>\n",
       "    <tr>\n",
       "      <th>1</th>\n",
       "      <td>0.1</td>\n",
       "      <td>0.01</td>\n",
       "    </tr>\n",
       "    <tr>\n",
       "      <th>2</th>\n",
       "      <td>0.2</td>\n",
       "      <td>0.04</td>\n",
       "    </tr>\n",
       "    <tr>\n",
       "      <th>3</th>\n",
       "      <td>0.3</td>\n",
       "      <td>0.09</td>\n",
       "    </tr>\n",
       "    <tr>\n",
       "      <th>4</th>\n",
       "      <td>0.4</td>\n",
       "      <td>0.16</td>\n",
       "    </tr>\n",
       "    <tr>\n",
       "      <th>5</th>\n",
       "      <td>0.5</td>\n",
       "      <td>0.25</td>\n",
       "    </tr>\n",
       "    <tr>\n",
       "      <th>6</th>\n",
       "      <td>0.6</td>\n",
       "      <td>0.36</td>\n",
       "    </tr>\n",
       "    <tr>\n",
       "      <th>7</th>\n",
       "      <td>0.7</td>\n",
       "      <td>0.49</td>\n",
       "    </tr>\n",
       "    <tr>\n",
       "      <th>8</th>\n",
       "      <td>0.8</td>\n",
       "      <td>0.64</td>\n",
       "    </tr>\n",
       "    <tr>\n",
       "      <th>9</th>\n",
       "      <td>0.9</td>\n",
       "      <td>0.81</td>\n",
       "    </tr>\n",
       "    <tr>\n",
       "      <th>10</th>\n",
       "      <td>1.0</td>\n",
       "      <td>1.00</td>\n",
       "    </tr>\n",
       "  </tbody>\n",
       "</table>\n",
       "</div>"
      ],
      "text/plain": [
       "    x1_maxabs  x2_maxabs\n",
       "0         0.0       0.00\n",
       "1         0.1       0.01\n",
       "2         0.2       0.04\n",
       "3         0.3       0.09\n",
       "4         0.4       0.16\n",
       "5         0.5       0.25\n",
       "6         0.6       0.36\n",
       "7         0.7       0.49\n",
       "8         0.8       0.64\n",
       "9         0.9       0.81\n",
       "10        1.0       1.00"
      ]
     },
     "execution_count": 54,
     "metadata": {},
     "output_type": "execute_result"
    }
   ],
   "source": [
    "from sklearn.preprocessing import MaxAbsScaler\n",
    "\n",
    "# MaxAbsScaler 객체 생성\n",
    "maxabs_scaler = MaxAbsScaler()\n",
    "\n",
    "# MaxAbsScaler로 데이터 셋 변환\n",
    "maxabs_scaler.fit(df)\n",
    "maxabs_scaled = maxabs_scaler.transform(df)\n",
    "\n",
    "# transform() 시 scale 변환된 데이터 셋 DataFrame으로 변환\n",
    "df_maxabs = pd.DataFrame(maxabs_scaled, columns = ['x1_maxabs', 'x2_maxabs'])\n",
    "df_maxabs"
   ]
  }
 ],
 "metadata": {
  "kernelspec": {
   "display_name": "Python 3 (ipykernel)",
   "language": "python",
   "name": "python3"
  },
  "language_info": {
   "codemirror_mode": {
    "name": "ipython",
    "version": 3
   },
   "file_extension": ".py",
   "mimetype": "text/x-python",
   "name": "python",
   "nbconvert_exporter": "python",
   "pygments_lexer": "ipython3",
   "version": "3.9.12"
  }
 },
 "nbformat": 4,
 "nbformat_minor": 5
}
