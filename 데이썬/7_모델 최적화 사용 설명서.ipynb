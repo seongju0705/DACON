{
 "cells": [
  {
   "cell_type": "markdown",
   "id": "02279789",
   "metadata": {},
   "source": [
    "# 모델 최적화 사용 설명서"
   ]
  },
  {
   "cell_type": "markdown",
   "id": "90d9cfce",
   "metadata": {},
   "source": [
    "## 1. Hyperparameter 튜닝"
   ]
  },
  {
   "cell_type": "markdown",
   "id": "60412cea",
   "metadata": {},
   "source": [
    "### 1) 하이퍼 파라미터 튜닝 이란?\n",
    "- 머신러닝에서 사용자가 직접 매개변수의 값을 정하여 데이터마다 좋은 입력값을 설정해주는 작업"
   ]
  },
  {
   "cell_type": "markdown",
   "id": "9310f269",
   "metadata": {},
   "source": [
    "### 2) Parameter vs Hyperparameter\n",
    "\n",
    "#### [ Parameter ]\n",
    "- 한국말로 매개변수를 의미\n",
    "\n",
    "\n",
    "- 모델 내부에서 결정되는 변수이며, 데이터로부터 결정됨\n",
    "\n",
    "\n",
    "- 즉, 사용자가 직접 조정하는 값이 아니라 모델 내부적으로 결정되는 값을 의미\n",
    "\n",
    "#### [ Hyperparameter ]\n",
    "- 앞선 parameter와 달리 모델링 시 사용자가 직접 정하는 값을 의미"
   ]
  },
  {
   "cell_type": "markdown",
   "id": "eca17229",
   "metadata": {},
   "source": [
    "### 3) 하이퍼 파라미터 튜닝 기법\n",
    "- 그리드 탐색: 넣을 수 있는 모든 하이퍼 파라미터를 다 넣어보는 방식\n",
    "\n",
    "\n",
    "- 랜덤 탐색: 순차적으로 값을 넣어보고, 지정한 횟수만큼 평가하는 방식\n",
    "\n",
    "\n",
    "- 베이지안 최적화: 순차적으로 값을 넣어보고, 더 좋은 해들의 조합에 대해서 찾아가는 방식"
   ]
  },
  {
   "cell_type": "markdown",
   "id": "fc342134",
   "metadata": {},
   "source": [
    "## 2. Grid Search\n",
    "- 하이퍼 파라미터 그리드에 속한 모든 파라미터 조합을 비교 평가하는 방법 의미"
   ]
  },
  {
   "cell_type": "code",
   "execution_count": 1,
   "id": "4d628d46",
   "metadata": {},
   "outputs": [],
   "source": [
    "from sklearn.model_selection import ParameterGrid as sk"
   ]
  },
  {
   "cell_type": "code",
   "execution_count": 2,
   "id": "4ba20344",
   "metadata": {},
   "outputs": [],
   "source": [
    "grid = {'n_neighbors': [3, 5, 7, 9], 'metric': ['Manhattan', 'Euclidean']}"
   ]
  },
  {
   "attachments": {
    "image.png": {
     "image/png": "[encoded data removed]"
    }
   },
   "cell_type": "markdown",
   "id": "5c3b5a21",
   "metadata": {},
   "source": [
    "![image.png](attachment:image.png)"
   ]
  },
  {
   "cell_type": "code",
   "execution_count": 4,
   "id": "365a8cec",
   "metadata": {},
   "outputs": [
    {
     "data": {
      "text/plain": [
       "[{'metric': 'Manhattan', 'n_neighbors': 3},\n",
       " {'metric': 'Manhattan', 'n_neighbors': 5},\n",
       " {'metric': 'Manhattan', 'n_neighbors': 7},\n",
       " {'metric': 'Manhattan', 'n_neighbors': 9},\n",
       " {'metric': 'Euclidean', 'n_neighbors': 3},\n",
       " {'metric': 'Euclidean', 'n_neighbors': 5},\n",
       " {'metric': 'Euclidean', 'n_neighbors': 7},\n",
       " {'metric': 'Euclidean', 'n_neighbors': 9}]"
      ]
     },
     "execution_count": 4,
     "metadata": {},
     "output_type": "execute_result"
    }
   ],
   "source": [
    "list(sk(grid))"
   ]
  }
 ],
 "metadata": {
  "kernelspec": {
   "display_name": "Python 3 (ipykernel)",
   "language": "python",
   "name": "python3"
  },
  "language_info": {
   "codemirror_mode": {
    "name": "ipython",
    "version": 3
   },
   "file_extension": ".py",
   "mimetype": "text/x-python",
   "name": "python",
   "nbconvert_exporter": "python",
   "pygments_lexer": "ipython3",
   "version": "3.9.12"
  }
 },
 "nbformat": 4,
 "nbformat_minor": 5
}
