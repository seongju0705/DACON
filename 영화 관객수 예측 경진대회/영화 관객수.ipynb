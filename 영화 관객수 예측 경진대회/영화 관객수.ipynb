{
 "cells": [
  {
   "cell_type": "markdown",
   "id": "808a8afb",
   "metadata": {},
   "source": [
    "# 영화 관객수 예측 경진대회\n",
    "- 주어진 데이터를 바탕으로 영화의 관객수를 예측"
   ]
  },
  {
   "cell_type": "markdown",
   "id": "96f457a5",
   "metadata": {},
   "source": [
    "## 1. Library & Data Set 불러오기"
   ]
  },
  {
   "cell_type": "code",
   "execution_count": 1,
   "id": "26dd1793",
   "metadata": {},
   "outputs": [],
   "source": [
    "import pandas as pd\n",
    "import numpy as np\n",
    "import re\n",
    "import seaborn as sns\n",
    "import lightgbm as lgb\n",
    "import matplotlib.pyplot as plt\n",
    "%matplotlib inline"
   ]
  },
  {
   "cell_type": "code",
   "execution_count": 2,
   "id": "5036116a",
   "metadata": {},
   "outputs": [],
   "source": [
    "# 데이터 불러오기\n",
    "train = pd.read_csv('./data/movies_train.csv')\n",
    "test = pd.read_csv('./data/movies_test.csv')\n",
    "submission = pd.read_csv('./data/submission.csv')"
   ]
  },
  {
   "cell_type": "code",
   "execution_count": 3,
   "id": "492ce818",
   "metadata": {},
   "outputs": [],
   "source": [
    "# 한글 처리\n",
    "from matplotlib import font_manager, rc\n",
    "plt.rcParams['axes.unicode_minus'] = False\n",
    "\n",
    "path = 'C:/Windows/Fonts/malgun.ttf'\n",
    "font_name = font_manager.FontProperties(fname=path).get_name()\n",
    "rc('font', family=font_name)"
   ]
  },
  {
   "cell_type": "markdown",
   "id": "8c384933",
   "metadata": {},
   "source": [
    "## 2. EDA"
   ]
  },
  {
   "cell_type": "code",
   "execution_count": 4,
   "id": "64a77e1e",
   "metadata": {},
   "outputs": [
    {
     "data": {
      "text/html": [
       "<div>\n",
       "<style scoped>\n",
       "    .dataframe tbody tr th:only-of-type {\n",
       "        vertical-align: middle;\n",
       "    }\n",
       "\n",
       "    .dataframe tbody tr th {\n",
       "        vertical-align: top;\n",
       "    }\n",
       "\n",
       "    .dataframe thead th {\n",
       "        text-align: right;\n",
       "    }\n",
       "</style>\n",
       "<table border=\"1\" class=\"dataframe\">\n",
       "  <thead>\n",
       "    <tr style=\"text-align: right;\">\n",
       "      <th></th>\n",
       "      <th>title</th>\n",
       "      <th>distributor</th>\n",
       "      <th>genre</th>\n",
       "      <th>release_time</th>\n",
       "      <th>time</th>\n",
       "      <th>screening_rat</th>\n",
       "      <th>director</th>\n",
       "      <th>dir_prev_bfnum</th>\n",
       "      <th>dir_prev_num</th>\n",
       "      <th>num_staff</th>\n",
       "      <th>num_actor</th>\n",
       "      <th>box_off_num</th>\n",
       "    </tr>\n",
       "  </thead>\n",
       "  <tbody>\n",
       "    <tr>\n",
       "      <th>0</th>\n",
       "      <td>개들의 전쟁</td>\n",
       "      <td>롯데엔터테인먼트</td>\n",
       "      <td>액션</td>\n",
       "      <td>2012-11-22</td>\n",
       "      <td>96</td>\n",
       "      <td>청소년 관람불가</td>\n",
       "      <td>조병옥</td>\n",
       "      <td>NaN</td>\n",
       "      <td>0</td>\n",
       "      <td>91</td>\n",
       "      <td>2</td>\n",
       "      <td>23398</td>\n",
       "    </tr>\n",
       "    <tr>\n",
       "      <th>1</th>\n",
       "      <td>내부자들</td>\n",
       "      <td>(주)쇼박스</td>\n",
       "      <td>느와르</td>\n",
       "      <td>2015-11-19</td>\n",
       "      <td>130</td>\n",
       "      <td>청소년 관람불가</td>\n",
       "      <td>우민호</td>\n",
       "      <td>1161602.50</td>\n",
       "      <td>2</td>\n",
       "      <td>387</td>\n",
       "      <td>3</td>\n",
       "      <td>7072501</td>\n",
       "    </tr>\n",
       "    <tr>\n",
       "      <th>2</th>\n",
       "      <td>은밀하게 위대하게</td>\n",
       "      <td>(주)쇼박스</td>\n",
       "      <td>액션</td>\n",
       "      <td>2013-06-05</td>\n",
       "      <td>123</td>\n",
       "      <td>15세 관람가</td>\n",
       "      <td>장철수</td>\n",
       "      <td>220775.25</td>\n",
       "      <td>4</td>\n",
       "      <td>343</td>\n",
       "      <td>4</td>\n",
       "      <td>6959083</td>\n",
       "    </tr>\n",
       "    <tr>\n",
       "      <th>3</th>\n",
       "      <td>나는 공무원이다</td>\n",
       "      <td>(주)NEW</td>\n",
       "      <td>코미디</td>\n",
       "      <td>2012-07-12</td>\n",
       "      <td>101</td>\n",
       "      <td>전체 관람가</td>\n",
       "      <td>구자홍</td>\n",
       "      <td>23894.00</td>\n",
       "      <td>2</td>\n",
       "      <td>20</td>\n",
       "      <td>6</td>\n",
       "      <td>217866</td>\n",
       "    </tr>\n",
       "    <tr>\n",
       "      <th>4</th>\n",
       "      <td>불량남녀</td>\n",
       "      <td>쇼박스(주)미디어플렉스</td>\n",
       "      <td>코미디</td>\n",
       "      <td>2010-11-04</td>\n",
       "      <td>108</td>\n",
       "      <td>15세 관람가</td>\n",
       "      <td>신근호</td>\n",
       "      <td>1.00</td>\n",
       "      <td>1</td>\n",
       "      <td>251</td>\n",
       "      <td>2</td>\n",
       "      <td>483387</td>\n",
       "    </tr>\n",
       "  </tbody>\n",
       "</table>\n",
       "</div>"
      ],
      "text/plain": [
       "       title   distributor genre release_time  time screening_rat director  \\\n",
       "0     개들의 전쟁      롯데엔터테인먼트    액션   2012-11-22    96      청소년 관람불가      조병옥   \n",
       "1       내부자들        (주)쇼박스   느와르   2015-11-19   130      청소년 관람불가      우민호   \n",
       "2  은밀하게 위대하게        (주)쇼박스    액션   2013-06-05   123       15세 관람가      장철수   \n",
       "3   나는 공무원이다        (주)NEW   코미디   2012-07-12   101        전체 관람가      구자홍   \n",
       "4       불량남녀  쇼박스(주)미디어플렉스   코미디   2010-11-04   108       15세 관람가      신근호   \n",
       "\n",
       "   dir_prev_bfnum  dir_prev_num  num_staff  num_actor  box_off_num  \n",
       "0             NaN             0         91          2        23398  \n",
       "1      1161602.50             2        387          3      7072501  \n",
       "2       220775.25             4        343          4      6959083  \n",
       "3        23894.00             2         20          6       217866  \n",
       "4            1.00             1        251          2       483387  "
      ]
     },
     "execution_count": 4,
     "metadata": {},
     "output_type": "execute_result"
    }
   ],
   "source": [
    "train.head()"
   ]
  },
  {
   "cell_type": "markdown",
   "id": "2abf1a03",
   "metadata": {},
   "source": [
    "- title: 영화 제목\n",
    "- distributor: 배급사\n",
    "- genre: 장르\n",
    "- release_time: 개봉일\n",
    "- time: 상영시간(분)\n",
    "- screening_rat: 상영등급\n",
    "- director: 감독이름\n",
    "- dir_prev_bfnum: 해당 감독이 영화 만들기 전 제작에 참여한 영화의 평균 관객수\n",
    "- dir_prev_num: 해당 감독이 영화 만들기 전 제작에 참여한 영화 개수\n",
    "- num_staff: 스텝수\n",
    "- num_actor: 주연배우수\n",
    "- box_off_num: 관객수"
   ]
  },
  {
   "cell_type": "code",
   "execution_count": 5,
   "id": "5ce86a2e",
   "metadata": {},
   "outputs": [
    {
     "data": {
      "text/html": [
       "<div>\n",
       "<style scoped>\n",
       "    .dataframe tbody tr th:only-of-type {\n",
       "        vertical-align: middle;\n",
       "    }\n",
       "\n",
       "    .dataframe tbody tr th {\n",
       "        vertical-align: top;\n",
       "    }\n",
       "\n",
       "    .dataframe thead th {\n",
       "        text-align: right;\n",
       "    }\n",
       "</style>\n",
       "<table border=\"1\" class=\"dataframe\">\n",
       "  <thead>\n",
       "    <tr style=\"text-align: right;\">\n",
       "      <th></th>\n",
       "      <th>title</th>\n",
       "      <th>distributor</th>\n",
       "      <th>genre</th>\n",
       "      <th>release_time</th>\n",
       "      <th>time</th>\n",
       "      <th>screening_rat</th>\n",
       "      <th>director</th>\n",
       "      <th>dir_prev_bfnum</th>\n",
       "      <th>dir_prev_num</th>\n",
       "      <th>num_staff</th>\n",
       "      <th>num_actor</th>\n",
       "      <th>box_off_num</th>\n",
       "    </tr>\n",
       "  </thead>\n",
       "  <tbody>\n",
       "    <tr>\n",
       "      <th>372</th>\n",
       "      <td>국제시장</td>\n",
       "      <td>CJ 엔터테인먼트</td>\n",
       "      <td>드라마</td>\n",
       "      <td>2014-12-17</td>\n",
       "      <td>126</td>\n",
       "      <td>12세 관람가</td>\n",
       "      <td>윤제균</td>\n",
       "      <td>NaN</td>\n",
       "      <td>0</td>\n",
       "      <td>869</td>\n",
       "      <td>4</td>\n",
       "      <td>14262766</td>\n",
       "    </tr>\n",
       "    <tr>\n",
       "      <th>362</th>\n",
       "      <td>도둑들</td>\n",
       "      <td>(주)쇼박스</td>\n",
       "      <td>느와르</td>\n",
       "      <td>2012-07-25</td>\n",
       "      <td>135</td>\n",
       "      <td>15세 관람가</td>\n",
       "      <td>최동훈</td>\n",
       "      <td>2.564692e+06</td>\n",
       "      <td>3</td>\n",
       "      <td>462</td>\n",
       "      <td>10</td>\n",
       "      <td>12983841</td>\n",
       "    </tr>\n",
       "    <tr>\n",
       "      <th>530</th>\n",
       "      <td>7번방의 선물</td>\n",
       "      <td>(주)NEW</td>\n",
       "      <td>코미디</td>\n",
       "      <td>2013-01-23</td>\n",
       "      <td>127</td>\n",
       "      <td>15세 관람가</td>\n",
       "      <td>이환경</td>\n",
       "      <td>8.190495e+05</td>\n",
       "      <td>2</td>\n",
       "      <td>300</td>\n",
       "      <td>8</td>\n",
       "      <td>12811435</td>\n",
       "    </tr>\n",
       "    <tr>\n",
       "      <th>498</th>\n",
       "      <td>암살</td>\n",
       "      <td>(주)쇼박스</td>\n",
       "      <td>액션</td>\n",
       "      <td>2015-07-22</td>\n",
       "      <td>139</td>\n",
       "      <td>15세 관람가</td>\n",
       "      <td>최동훈</td>\n",
       "      <td>5.169479e+06</td>\n",
       "      <td>4</td>\n",
       "      <td>628</td>\n",
       "      <td>3</td>\n",
       "      <td>12706663</td>\n",
       "    </tr>\n",
       "    <tr>\n",
       "      <th>460</th>\n",
       "      <td>광해, 왕이 된 남자</td>\n",
       "      <td>CJ 엔터테인먼트</td>\n",
       "      <td>드라마</td>\n",
       "      <td>2012-09-13</td>\n",
       "      <td>131</td>\n",
       "      <td>15세 관람가</td>\n",
       "      <td>추창민</td>\n",
       "      <td>1.552541e+06</td>\n",
       "      <td>2</td>\n",
       "      <td>402</td>\n",
       "      <td>3</td>\n",
       "      <td>12323595</td>\n",
       "    </tr>\n",
       "    <tr>\n",
       "      <th>122</th>\n",
       "      <td>변호인</td>\n",
       "      <td>(주)NEW</td>\n",
       "      <td>드라마</td>\n",
       "      <td>2013-12-18</td>\n",
       "      <td>127</td>\n",
       "      <td>15세 관람가</td>\n",
       "      <td>양우석</td>\n",
       "      <td>NaN</td>\n",
       "      <td>0</td>\n",
       "      <td>311</td>\n",
       "      <td>5</td>\n",
       "      <td>11374879</td>\n",
       "    </tr>\n",
       "    <tr>\n",
       "      <th>496</th>\n",
       "      <td>설국열차</td>\n",
       "      <td>CJ 엔터테인먼트</td>\n",
       "      <td>SF</td>\n",
       "      <td>2013-08-01</td>\n",
       "      <td>125</td>\n",
       "      <td>15세 관람가</td>\n",
       "      <td>봉준호</td>\n",
       "      <td>NaN</td>\n",
       "      <td>0</td>\n",
       "      <td>67</td>\n",
       "      <td>10</td>\n",
       "      <td>9350351</td>\n",
       "    </tr>\n",
       "    <tr>\n",
       "      <th>101</th>\n",
       "      <td>관상</td>\n",
       "      <td>(주)쇼박스</td>\n",
       "      <td>드라마</td>\n",
       "      <td>2013-09-11</td>\n",
       "      <td>139</td>\n",
       "      <td>15세 관람가</td>\n",
       "      <td>한재림</td>\n",
       "      <td>1.242778e+06</td>\n",
       "      <td>2</td>\n",
       "      <td>298</td>\n",
       "      <td>6</td>\n",
       "      <td>9135806</td>\n",
       "    </tr>\n",
       "    <tr>\n",
       "      <th>505</th>\n",
       "      <td>해적: 바다로 간 산적</td>\n",
       "      <td>롯데엔터테인먼트</td>\n",
       "      <td>SF</td>\n",
       "      <td>2014-08-06</td>\n",
       "      <td>130</td>\n",
       "      <td>12세 관람가</td>\n",
       "      <td>이석훈</td>\n",
       "      <td>1.843895e+06</td>\n",
       "      <td>3</td>\n",
       "      <td>868</td>\n",
       "      <td>2</td>\n",
       "      <td>8666208</td>\n",
       "    </tr>\n",
       "    <tr>\n",
       "      <th>476</th>\n",
       "      <td>수상한 그녀</td>\n",
       "      <td>CJ 엔터테인먼트</td>\n",
       "      <td>코미디</td>\n",
       "      <td>2014-01-22</td>\n",
       "      <td>124</td>\n",
       "      <td>15세 관람가</td>\n",
       "      <td>황동혁</td>\n",
       "      <td>2.781990e+06</td>\n",
       "      <td>2</td>\n",
       "      <td>437</td>\n",
       "      <td>5</td>\n",
       "      <td>8659725</td>\n",
       "    </tr>\n",
       "  </tbody>\n",
       "</table>\n",
       "</div>"
      ],
      "text/plain": [
       "            title distributor genre release_time  time screening_rat director  \\\n",
       "372          국제시장   CJ 엔터테인먼트   드라마   2014-12-17   126       12세 관람가      윤제균   \n",
       "362           도둑들      (주)쇼박스   느와르   2012-07-25   135       15세 관람가      최동훈   \n",
       "530       7번방의 선물      (주)NEW   코미디   2013-01-23   127       15세 관람가      이환경   \n",
       "498            암살      (주)쇼박스    액션   2015-07-22   139       15세 관람가      최동훈   \n",
       "460   광해, 왕이 된 남자   CJ 엔터테인먼트   드라마   2012-09-13   131       15세 관람가      추창민   \n",
       "122           변호인      (주)NEW   드라마   2013-12-18   127       15세 관람가      양우석   \n",
       "496          설국열차   CJ 엔터테인먼트    SF   2013-08-01   125       15세 관람가      봉준호   \n",
       "101            관상      (주)쇼박스   드라마   2013-09-11   139       15세 관람가      한재림   \n",
       "505  해적: 바다로 간 산적    롯데엔터테인먼트    SF   2014-08-06   130       12세 관람가      이석훈   \n",
       "476        수상한 그녀   CJ 엔터테인먼트   코미디   2014-01-22   124       15세 관람가      황동혁   \n",
       "\n",
       "     dir_prev_bfnum  dir_prev_num  num_staff  num_actor  box_off_num  \n",
       "372             NaN             0        869          4     14262766  \n",
       "362    2.564692e+06             3        462         10     12983841  \n",
       "530    8.190495e+05             2        300          8     12811435  \n",
       "498    5.169479e+06             4        628          3     12706663  \n",
       "460    1.552541e+06             2        402          3     12323595  \n",
       "122             NaN             0        311          5     11374879  \n",
       "496             NaN             0         67         10      9350351  \n",
       "101    1.242778e+06             2        298          6      9135806  \n",
       "505    1.843895e+06             3        868          2      8666208  \n",
       "476    2.781990e+06             2        437          5      8659725  "
      ]
     },
     "execution_count": 5,
     "metadata": {},
     "output_type": "execute_result"
    }
   ],
   "source": [
    "# 관객수 상위 10개 영화\n",
    "movie_best = train.sort_values(ascending=False, by='box_off_num').head(10)\n",
    "movie_best"
   ]
  },
  {
   "cell_type": "code",
   "execution_count": 6,
   "id": "34f28f98",
   "metadata": {},
   "outputs": [
    {
     "data": {
      "text/plain": [
       "<AxesSubplot:xlabel='num_staff', ylabel='box_off_num'>"
      ]
     },
     "execution_count": 6,
     "metadata": {},
     "output_type": "execute_result"
    },
    {
     "data": {
      "image/png": "[encoded data removed]",
      "text/plain": [
       "<Figure size 720x720 with 1 Axes>"
      ]
     },
     "metadata": {
      "needs_background": "light"
     },
     "output_type": "display_data"
    }
   ],
   "source": [
    "# 관객수 - 스텝수 그래프\n",
    "plt.figure(figsize=[10, 10])\n",
    "sns.scatterplot(data=train, x='num_staff', y='box_off_num')"
   ]
  },
  {
   "cell_type": "code",
   "execution_count": 7,
   "id": "0118b075",
   "metadata": {},
   "outputs": [
    {
     "data": {
      "text/plain": [
       "<AxesSubplot:xlabel='time', ylabel='box_off_num'>"
      ]
     },
     "execution_count": 7,
     "metadata": {},
     "output_type": "execute_result"
    },
    {
     "data": {
      "image/png": "[encoded data removed]",
      "text/plain": [
       "<Figure size 720x720 with 1 Axes>"
      ]
     },
     "metadata": {
      "needs_background": "light"
     },
     "output_type": "display_data"
    }
   ],
   "source": [
    "# 상영시간 - 관객수 그래프\n",
    "plt.figure(figsize=[10, 10])\n",
    "sns.scatterplot(data=train, x='time', y='box_off_num')"
   ]
  },
  {
   "cell_type": "code",
   "execution_count": 8,
   "id": "8d552ad4",
   "metadata": {},
   "outputs": [
    {
     "data": {
      "text/plain": [
       "<AxesSubplot:xlabel='genre', ylabel='box_off_num'>"
      ]
     },
     "execution_count": 8,
     "metadata": {},
     "output_type": "execute_result"
    },
    {
     "data": {
      "image/png": "[encoded data removed]",
      "text/plain": [
       "<Figure size 720x720 with 1 Axes>"
      ]
     },
     "metadata": {
      "needs_background": "light"
     },
     "output_type": "display_data"
    }
   ],
   "source": [
    "# 장르 - 관객수 그래프\n",
    "plt.figure(figsize=[10, 10])\n",
    "sns.scatterplot(data=train, x='genre', y='box_off_num')"
   ]
  },
  {
   "cell_type": "code",
   "execution_count": 9,
   "id": "9658a773",
   "metadata": {},
   "outputs": [
    {
     "data": {
      "text/plain": [
       "<AxesSubplot:xlabel='num_actor', ylabel='box_off_num'>"
      ]
     },
     "execution_count": 9,
     "metadata": {},
     "output_type": "execute_result"
    },
    {
     "data": {
      "image/png": "[encoded data removed]",
      "text/plain": [
       "<Figure size 720x720 with 1 Axes>"
      ]
     },
     "metadata": {
      "needs_background": "light"
     },
     "output_type": "display_data"
    }
   ],
   "source": [
    "# 주연배우수 - 관객수 그래프\n",
    "plt.figure(figsize=[10, 10])\n",
    "sns.scatterplot(data=train, x='num_actor', y='box_off_num')"
   ]
  },
  {
   "cell_type": "code",
   "execution_count": 10,
   "id": "9752ebcc",
   "metadata": {},
   "outputs": [
    {
     "data": {
      "text/html": [
       "<div>\n",
       "<style scoped>\n",
       "    .dataframe tbody tr th:only-of-type {\n",
       "        vertical-align: middle;\n",
       "    }\n",
       "\n",
       "    .dataframe tbody tr th {\n",
       "        vertical-align: top;\n",
       "    }\n",
       "\n",
       "    .dataframe thead th {\n",
       "        text-align: right;\n",
       "    }\n",
       "</style>\n",
       "<table border=\"1\" class=\"dataframe\">\n",
       "  <thead>\n",
       "    <tr style=\"text-align: right;\">\n",
       "      <th></th>\n",
       "      <th>title</th>\n",
       "      <th>box_off_num</th>\n",
       "    </tr>\n",
       "  </thead>\n",
       "  <tbody>\n",
       "    <tr>\n",
       "      <th>0</th>\n",
       "      <td>개들의 전쟁</td>\n",
       "      <td>23398</td>\n",
       "    </tr>\n",
       "    <tr>\n",
       "      <th>1</th>\n",
       "      <td>내부자들</td>\n",
       "      <td>7072501</td>\n",
       "    </tr>\n",
       "    <tr>\n",
       "      <th>2</th>\n",
       "      <td>은밀하게 위대하게</td>\n",
       "      <td>6959083</td>\n",
       "    </tr>\n",
       "    <tr>\n",
       "      <th>3</th>\n",
       "      <td>나는 공무원이다</td>\n",
       "      <td>217866</td>\n",
       "    </tr>\n",
       "    <tr>\n",
       "      <th>4</th>\n",
       "      <td>불량남녀</td>\n",
       "      <td>483387</td>\n",
       "    </tr>\n",
       "  </tbody>\n",
       "</table>\n",
       "</div>"
      ],
      "text/plain": [
       "       title  box_off_num\n",
       "0     개들의 전쟁        23398\n",
       "1       내부자들      7072501\n",
       "2  은밀하게 위대하게      6959083\n",
       "3   나는 공무원이다       217866\n",
       "4       불량남녀       483387"
      ]
     },
     "execution_count": 10,
     "metadata": {},
     "output_type": "execute_result"
    }
   ],
   "source": [
    "train[['title', 'box_off_num']].head()"
   ]
  },
  {
   "cell_type": "code",
   "execution_count": 11,
   "id": "cce9f911",
   "metadata": {},
   "outputs": [
    {
     "data": {
      "text/html": [
       "<div>\n",
       "<style scoped>\n",
       "    .dataframe tbody tr th:only-of-type {\n",
       "        vertical-align: middle;\n",
       "    }\n",
       "\n",
       "    .dataframe tbody tr th {\n",
       "        vertical-align: top;\n",
       "    }\n",
       "\n",
       "    .dataframe thead th {\n",
       "        text-align: right;\n",
       "    }\n",
       "</style>\n",
       "<table border=\"1\" class=\"dataframe\">\n",
       "  <thead>\n",
       "    <tr style=\"text-align: right;\">\n",
       "      <th></th>\n",
       "      <th>title</th>\n",
       "      <th>distributor</th>\n",
       "      <th>genre</th>\n",
       "      <th>release_time</th>\n",
       "      <th>time</th>\n",
       "      <th>screening_rat</th>\n",
       "      <th>director</th>\n",
       "      <th>dir_prev_bfnum</th>\n",
       "      <th>dir_prev_num</th>\n",
       "      <th>num_staff</th>\n",
       "      <th>num_actor</th>\n",
       "    </tr>\n",
       "  </thead>\n",
       "  <tbody>\n",
       "    <tr>\n",
       "      <th>0</th>\n",
       "      <td>용서는 없다</td>\n",
       "      <td>시네마서비스</td>\n",
       "      <td>느와르</td>\n",
       "      <td>2010-01-07</td>\n",
       "      <td>125</td>\n",
       "      <td>청소년 관람불가</td>\n",
       "      <td>김형준</td>\n",
       "      <td>3.005290e+05</td>\n",
       "      <td>2</td>\n",
       "      <td>304</td>\n",
       "      <td>3</td>\n",
       "    </tr>\n",
       "    <tr>\n",
       "      <th>1</th>\n",
       "      <td>아빠가 여자를 좋아해</td>\n",
       "      <td>(주)쇼박스</td>\n",
       "      <td>멜로/로맨스</td>\n",
       "      <td>2010-01-14</td>\n",
       "      <td>113</td>\n",
       "      <td>12세 관람가</td>\n",
       "      <td>이광재</td>\n",
       "      <td>3.427002e+05</td>\n",
       "      <td>4</td>\n",
       "      <td>275</td>\n",
       "      <td>3</td>\n",
       "    </tr>\n",
       "    <tr>\n",
       "      <th>2</th>\n",
       "      <td>하모니</td>\n",
       "      <td>CJ 엔터테인먼트</td>\n",
       "      <td>드라마</td>\n",
       "      <td>2010-01-28</td>\n",
       "      <td>115</td>\n",
       "      <td>12세 관람가</td>\n",
       "      <td>강대규</td>\n",
       "      <td>4.206611e+06</td>\n",
       "      <td>3</td>\n",
       "      <td>419</td>\n",
       "      <td>7</td>\n",
       "    </tr>\n",
       "    <tr>\n",
       "      <th>3</th>\n",
       "      <td>의형제</td>\n",
       "      <td>(주)쇼박스</td>\n",
       "      <td>액션</td>\n",
       "      <td>2010-02-04</td>\n",
       "      <td>116</td>\n",
       "      <td>15세 관람가</td>\n",
       "      <td>장훈</td>\n",
       "      <td>6.913420e+05</td>\n",
       "      <td>2</td>\n",
       "      <td>408</td>\n",
       "      <td>2</td>\n",
       "    </tr>\n",
       "    <tr>\n",
       "      <th>4</th>\n",
       "      <td>평행 이론</td>\n",
       "      <td>CJ 엔터테인먼트</td>\n",
       "      <td>공포</td>\n",
       "      <td>2010-02-18</td>\n",
       "      <td>110</td>\n",
       "      <td>15세 관람가</td>\n",
       "      <td>권호영</td>\n",
       "      <td>3.173800e+04</td>\n",
       "      <td>1</td>\n",
       "      <td>380</td>\n",
       "      <td>1</td>\n",
       "    </tr>\n",
       "  </tbody>\n",
       "</table>\n",
       "</div>"
      ],
      "text/plain": [
       "         title distributor   genre release_time  time screening_rat director  \\\n",
       "0       용서는 없다      시네마서비스     느와르   2010-01-07   125      청소년 관람불가      김형준   \n",
       "1  아빠가 여자를 좋아해      (주)쇼박스  멜로/로맨스   2010-01-14   113       12세 관람가      이광재   \n",
       "2          하모니   CJ 엔터테인먼트     드라마   2010-01-28   115       12세 관람가      강대규   \n",
       "3          의형제      (주)쇼박스      액션   2010-02-04   116       15세 관람가       장훈   \n",
       "4        평행 이론   CJ 엔터테인먼트      공포   2010-02-18   110       15세 관람가      권호영   \n",
       "\n",
       "   dir_prev_bfnum  dir_prev_num  num_staff  num_actor  \n",
       "0    3.005290e+05             2        304          3  \n",
       "1    3.427002e+05             4        275          3  \n",
       "2    4.206611e+06             3        419          7  \n",
       "3    6.913420e+05             2        408          2  \n",
       "4    3.173800e+04             1        380          1  "
      ]
     },
     "execution_count": 11,
     "metadata": {},
     "output_type": "execute_result"
    }
   ],
   "source": [
    "test.head()"
   ]
  },
  {
   "cell_type": "code",
   "execution_count": 12,
   "id": "8d4889f4",
   "metadata": {},
   "outputs": [
    {
     "data": {
      "text/html": [
       "<div>\n",
       "<style scoped>\n",
       "    .dataframe tbody tr th:only-of-type {\n",
       "        vertical-align: middle;\n",
       "    }\n",
       "\n",
       "    .dataframe tbody tr th {\n",
       "        vertical-align: top;\n",
       "    }\n",
       "\n",
       "    .dataframe thead th {\n",
       "        text-align: right;\n",
       "    }\n",
       "</style>\n",
       "<table border=\"1\" class=\"dataframe\">\n",
       "  <thead>\n",
       "    <tr style=\"text-align: right;\">\n",
       "      <th></th>\n",
       "      <th>title</th>\n",
       "      <th>box_off_num</th>\n",
       "    </tr>\n",
       "  </thead>\n",
       "  <tbody>\n",
       "    <tr>\n",
       "      <th>0</th>\n",
       "      <td>용서는 없다</td>\n",
       "      <td>0</td>\n",
       "    </tr>\n",
       "    <tr>\n",
       "      <th>1</th>\n",
       "      <td>아빠가 여자를 좋아해</td>\n",
       "      <td>0</td>\n",
       "    </tr>\n",
       "    <tr>\n",
       "      <th>2</th>\n",
       "      <td>하모니</td>\n",
       "      <td>0</td>\n",
       "    </tr>\n",
       "    <tr>\n",
       "      <th>3</th>\n",
       "      <td>의형제</td>\n",
       "      <td>0</td>\n",
       "    </tr>\n",
       "    <tr>\n",
       "      <th>4</th>\n",
       "      <td>평행 이론</td>\n",
       "      <td>0</td>\n",
       "    </tr>\n",
       "  </tbody>\n",
       "</table>\n",
       "</div>"
      ],
      "text/plain": [
       "         title  box_off_num\n",
       "0       용서는 없다            0\n",
       "1  아빠가 여자를 좋아해            0\n",
       "2          하모니            0\n",
       "3          의형제            0\n",
       "4        평행 이론            0"
      ]
     },
     "execution_count": 12,
     "metadata": {},
     "output_type": "execute_result"
    }
   ],
   "source": [
    "submission.head()"
   ]
  },
  {
   "cell_type": "code",
   "execution_count": 13,
   "id": "03765a9a",
   "metadata": {},
   "outputs": [
    {
     "name": "stdout",
     "output_type": "stream",
     "text": [
      "(600, 12)\n",
      "(243, 11)\n",
      "(243, 2)\n"
     ]
    }
   ],
   "source": [
    "print(train.shape)\n",
    "print(test.shape)\n",
    "print(submission.shape)"
   ]
  },
  {
   "cell_type": "code",
   "execution_count": 14,
   "id": "a4783dc0",
   "metadata": {},
   "outputs": [
    {
     "name": "stdout",
     "output_type": "stream",
     "text": [
      "<class 'pandas.core.frame.DataFrame'>\n",
      "RangeIndex: 600 entries, 0 to 599\n",
      "Data columns (total 12 columns):\n",
      " #   Column          Non-Null Count  Dtype  \n",
      "---  ------          --------------  -----  \n",
      " 0   title           600 non-null    object \n",
      " 1   distributor     600 non-null    object \n",
      " 2   genre           600 non-null    object \n",
      " 3   release_time    600 non-null    object \n",
      " 4   time            600 non-null    int64  \n",
      " 5   screening_rat   600 non-null    object \n",
      " 6   director        600 non-null    object \n",
      " 7   dir_prev_bfnum  270 non-null    float64\n",
      " 8   dir_prev_num    600 non-null    int64  \n",
      " 9   num_staff       600 non-null    int64  \n",
      " 10  num_actor       600 non-null    int64  \n",
      " 11  box_off_num     600 non-null    int64  \n",
      "dtypes: float64(1), int64(5), object(6)\n",
      "memory usage: 56.4+ KB\n"
     ]
    }
   ],
   "source": [
    "train.info()"
   ]
  },
  {
   "cell_type": "code",
   "execution_count": 15,
   "id": "971767e4",
   "metadata": {},
   "outputs": [
    {
     "name": "stdout",
     "output_type": "stream",
     "text": [
      "<class 'pandas.core.frame.DataFrame'>\n",
      "RangeIndex: 243 entries, 0 to 242\n",
      "Data columns (total 11 columns):\n",
      " #   Column          Non-Null Count  Dtype  \n",
      "---  ------          --------------  -----  \n",
      " 0   title           243 non-null    object \n",
      " 1   distributor     243 non-null    object \n",
      " 2   genre           243 non-null    object \n",
      " 3   release_time    243 non-null    object \n",
      " 4   time            243 non-null    int64  \n",
      " 5   screening_rat   243 non-null    object \n",
      " 6   director        243 non-null    object \n",
      " 7   dir_prev_bfnum  107 non-null    float64\n",
      " 8   dir_prev_num    243 non-null    int64  \n",
      " 9   num_staff       243 non-null    int64  \n",
      " 10  num_actor       243 non-null    int64  \n",
      "dtypes: float64(1), int64(4), object(6)\n",
      "memory usage: 21.0+ KB\n"
     ]
    }
   ],
   "source": [
    "test.info()"
   ]
  },
  {
   "cell_type": "code",
   "execution_count": 16,
   "id": "aababc95",
   "metadata": {},
   "outputs": [
    {
     "data": {
      "text/html": [
       "<div>\n",
       "<style scoped>\n",
       "    .dataframe tbody tr th:only-of-type {\n",
       "        vertical-align: middle;\n",
       "    }\n",
       "\n",
       "    .dataframe tbody tr th {\n",
       "        vertical-align: top;\n",
       "    }\n",
       "\n",
       "    .dataframe thead th {\n",
       "        text-align: right;\n",
       "    }\n",
       "</style>\n",
       "<table border=\"1\" class=\"dataframe\">\n",
       "  <thead>\n",
       "    <tr style=\"text-align: right;\">\n",
       "      <th></th>\n",
       "      <th>time</th>\n",
       "      <th>dir_prev_bfnum</th>\n",
       "      <th>dir_prev_num</th>\n",
       "      <th>num_staff</th>\n",
       "      <th>num_actor</th>\n",
       "      <th>box_off_num</th>\n",
       "    </tr>\n",
       "  </thead>\n",
       "  <tbody>\n",
       "    <tr>\n",
       "      <th>time</th>\n",
       "      <td>1.000000</td>\n",
       "      <td>0.264675</td>\n",
       "      <td>0.306727</td>\n",
       "      <td>0.623205</td>\n",
       "      <td>0.114153</td>\n",
       "      <td>0.441452</td>\n",
       "    </tr>\n",
       "    <tr>\n",
       "      <th>dir_prev_bfnum</th>\n",
       "      <td>0.264675</td>\n",
       "      <td>1.000000</td>\n",
       "      <td>0.131822</td>\n",
       "      <td>0.323521</td>\n",
       "      <td>0.083818</td>\n",
       "      <td>0.283184</td>\n",
       "    </tr>\n",
       "    <tr>\n",
       "      <th>dir_prev_num</th>\n",
       "      <td>0.306727</td>\n",
       "      <td>0.131822</td>\n",
       "      <td>1.000000</td>\n",
       "      <td>0.450706</td>\n",
       "      <td>0.014006</td>\n",
       "      <td>0.259674</td>\n",
       "    </tr>\n",
       "    <tr>\n",
       "      <th>num_staff</th>\n",
       "      <td>0.623205</td>\n",
       "      <td>0.323521</td>\n",
       "      <td>0.450706</td>\n",
       "      <td>1.000000</td>\n",
       "      <td>0.077871</td>\n",
       "      <td>0.544265</td>\n",
       "    </tr>\n",
       "    <tr>\n",
       "      <th>num_actor</th>\n",
       "      <td>0.114153</td>\n",
       "      <td>0.083818</td>\n",
       "      <td>0.014006</td>\n",
       "      <td>0.077871</td>\n",
       "      <td>1.000000</td>\n",
       "      <td>0.111179</td>\n",
       "    </tr>\n",
       "    <tr>\n",
       "      <th>box_off_num</th>\n",
       "      <td>0.441452</td>\n",
       "      <td>0.283184</td>\n",
       "      <td>0.259674</td>\n",
       "      <td>0.544265</td>\n",
       "      <td>0.111179</td>\n",
       "      <td>1.000000</td>\n",
       "    </tr>\n",
       "  </tbody>\n",
       "</table>\n",
       "</div>"
      ],
      "text/plain": [
       "                    time  dir_prev_bfnum  dir_prev_num  num_staff  num_actor  \\\n",
       "time            1.000000        0.264675      0.306727   0.623205   0.114153   \n",
       "dir_prev_bfnum  0.264675        1.000000      0.131822   0.323521   0.083818   \n",
       "dir_prev_num    0.306727        0.131822      1.000000   0.450706   0.014006   \n",
       "num_staff       0.623205        0.323521      0.450706   1.000000   0.077871   \n",
       "num_actor       0.114153        0.083818      0.014006   0.077871   1.000000   \n",
       "box_off_num     0.441452        0.283184      0.259674   0.544265   0.111179   \n",
       "\n",
       "                box_off_num  \n",
       "time               0.441452  \n",
       "dir_prev_bfnum     0.283184  \n",
       "dir_prev_num       0.259674  \n",
       "num_staff          0.544265  \n",
       "num_actor          0.111179  \n",
       "box_off_num        1.000000  "
      ]
     },
     "execution_count": 16,
     "metadata": {},
     "output_type": "execute_result"
    }
   ],
   "source": [
    "# 상관계수\n",
    "train.corr()"
   ]
  },
  {
   "cell_type": "code",
   "execution_count": 17,
   "id": "7e772d8e",
   "metadata": {},
   "outputs": [
    {
     "data": {
      "text/plain": [
       "<AxesSubplot:>"
      ]
     },
     "execution_count": 17,
     "metadata": {},
     "output_type": "execute_result"
    },
    {
     "data": {
      "image/png": "[encoded data removed]",
      "text/plain": [
       "<Figure size 432x288 with 2 Axes>"
      ]
     },
     "metadata": {
      "needs_background": "light"
     },
     "output_type": "display_data"
    }
   ],
   "source": [
    "sns.heatmap(train.corr(), annot=True)"
   ]
  },
  {
   "cell_type": "markdown",
   "id": "0d994e6a",
   "metadata": {},
   "source": [
    "## 3. 데이터 전처리"
   ]
  },
  {
   "cell_type": "markdown",
   "id": "adc67a57",
   "metadata": {},
   "source": [
    "### 1) 배급사 전처리\n",
    "- 배급사 이름 정리 후, 배급사별 영화 관객수 중위값 기준으로 배급사 랭크 인코딩"
   ]
  },
  {
   "cell_type": "code",
   "execution_count": 18,
   "id": "0517c9e3",
   "metadata": {},
   "outputs": [
    {
     "data": {
      "text/plain": [
       "CJ 엔터테인먼트        54\n",
       "롯데엔터테인먼트         52\n",
       "(주)NEW           30\n",
       "(주)마운틴픽쳐스        29\n",
       "(주)쇼박스           26\n",
       "                 ..\n",
       "OAL(올)            1\n",
       "(주)에이원 엔터테인먼트     1\n",
       "(주)콘텐츠 윙          1\n",
       "위더스필름             1\n",
       "퍼스트런              1\n",
       "Name: distributor, Length: 169, dtype: int64"
      ]
     },
     "execution_count": 18,
     "metadata": {},
     "output_type": "execute_result"
    }
   ],
   "source": [
    "train['distributor'].value_counts()"
   ]
  },
  {
   "cell_type": "code",
   "execution_count": 19,
   "id": "441a0e45",
   "metadata": {},
   "outputs": [],
   "source": [
    "# '(주)' 제거\n",
    "train['distributor'] = train.distributor.str.replace('(주)', '', regex=True)\n",
    "test['distributor'] = test.distributor.str.replace('(주)', '', regex=True)"
   ]
  },
  {
   "cell_type": "code",
   "execution_count": 20,
   "id": "698c5109",
   "metadata": {},
   "outputs": [],
   "source": [
    "# 특수문자 제거\n",
    "train['distributor'] = [re.sub(r'[^0-9a-zA-Z가-힣]', '', x) for x in train.distributor]\n",
    "test['distributor'] = [re.sub(r'[^0-9a-zA-Z가-힣]', '', x) for x in test.distributor]"
   ]
  },
  {
   "cell_type": "code",
   "execution_count": 21,
   "id": "a0bf2f12",
   "metadata": {},
   "outputs": [],
   "source": [
    "# 같은 계열사 이름 통일\n",
    "def get_dis(x):\n",
    "    if 'CJ' in x or 'CGV' in x:\n",
    "        return 'CJ'\n",
    "    elif '쇼박스' in x:\n",
    "        return '쇼박스'\n",
    "    elif 'SK' in x:\n",
    "        return 'SK'\n",
    "    elif '리틀빅픽' in x:\n",
    "        return '리틀빅픽처스'\n",
    "    elif '스폰지' in x:\n",
    "        return '스폰지'\n",
    "    elif '싸이더스' in x:\n",
    "        return '싸이더스'\n",
    "    elif '에이원' in x:\n",
    "        return '에이원'\n",
    "    elif '마인스' in x:\n",
    "        return '마인스'\n",
    "    elif '마운틴픽' in x:\n",
    "        return '마운틴픽쳐스'\n",
    "    elif '디씨드' in x:\n",
    "        return '디씨드'\n",
    "    elif '드림팩트' in x:\n",
    "        return '드림팩트'\n",
    "    elif '메가박스' in x:\n",
    "        return '메가박스'\n",
    "    elif '마운틴' in x:\n",
    "        return '마운틴'\n",
    "    else:\n",
    "        return x"
   ]
  },
  {
   "cell_type": "code",
   "execution_count": 22,
   "id": "6d619b2b",
   "metadata": {},
   "outputs": [],
   "source": [
    "train['distributor'] = train.distributor.apply(get_dis)\n",
    "test['distributor'] = test.distributor.apply(get_dis)"
   ]
  },
  {
   "cell_type": "code",
   "execution_count": 23,
   "id": "652b4bd6",
   "metadata": {},
   "outputs": [
    {
     "data": {
      "text/html": [
       "<div>\n",
       "<style scoped>\n",
       "    .dataframe tbody tr th:only-of-type {\n",
       "        vertical-align: middle;\n",
       "    }\n",
       "\n",
       "    .dataframe tbody tr th {\n",
       "        vertical-align: top;\n",
       "    }\n",
       "\n",
       "    .dataframe thead th {\n",
       "        text-align: right;\n",
       "    }\n",
       "</style>\n",
       "<table border=\"1\" class=\"dataframe\">\n",
       "  <thead>\n",
       "    <tr style=\"text-align: right;\">\n",
       "      <th></th>\n",
       "      <th>distributor</th>\n",
       "      <th>num_rank</th>\n",
       "    </tr>\n",
       "  </thead>\n",
       "  <tbody>\n",
       "    <tr>\n",
       "      <th>110</th>\n",
       "      <td>인피니티엔터테인먼트</td>\n",
       "      <td>2.0</td>\n",
       "    </tr>\n",
       "    <tr>\n",
       "      <th>15</th>\n",
       "      <td>고구마공작소</td>\n",
       "      <td>8.0</td>\n",
       "    </tr>\n",
       "    <tr>\n",
       "      <th>52</th>\n",
       "      <td>사람과사람들</td>\n",
       "      <td>42.0</td>\n",
       "    </tr>\n",
       "    <tr>\n",
       "      <th>97</th>\n",
       "      <td>위드시네마</td>\n",
       "      <td>46.0</td>\n",
       "    </tr>\n",
       "    <tr>\n",
       "      <th>19</th>\n",
       "      <td>나우콘텐츠</td>\n",
       "      <td>54.0</td>\n",
       "    </tr>\n",
       "    <tr>\n",
       "      <th>...</th>\n",
       "      <td>...</td>\n",
       "      <td>...</td>\n",
       "    </tr>\n",
       "    <tr>\n",
       "      <th>113</th>\n",
       "      <td>전망좋은영화사</td>\n",
       "      <td>1214237.0</td>\n",
       "    </tr>\n",
       "    <tr>\n",
       "      <th>105</th>\n",
       "      <td>이십세기폭스코리아</td>\n",
       "      <td>1422844.0</td>\n",
       "    </tr>\n",
       "    <tr>\n",
       "      <th>56</th>\n",
       "      <td>쇼박스</td>\n",
       "      <td>2138560.0</td>\n",
       "    </tr>\n",
       "    <tr>\n",
       "      <th>84</th>\n",
       "      <td>영구아트무비</td>\n",
       "      <td>2541603.0</td>\n",
       "    </tr>\n",
       "    <tr>\n",
       "      <th>75</th>\n",
       "      <td>아이필름코퍼레이션</td>\n",
       "      <td>3117859.0</td>\n",
       "    </tr>\n",
       "  </tbody>\n",
       "</table>\n",
       "<p>147 rows × 2 columns</p>\n",
       "</div>"
      ],
      "text/plain": [
       "    distributor   num_rank\n",
       "110  인피니티엔터테인먼트        2.0\n",
       "15       고구마공작소        8.0\n",
       "52       사람과사람들       42.0\n",
       "97        위드시네마       46.0\n",
       "19        나우콘텐츠       54.0\n",
       "..          ...        ...\n",
       "113     전망좋은영화사  1214237.0\n",
       "105   이십세기폭스코리아  1422844.0\n",
       "56          쇼박스  2138560.0\n",
       "84       영구아트무비  2541603.0\n",
       "75    아이필름코퍼레이션  3117859.0\n",
       "\n",
       "[147 rows x 2 columns]"
      ]
     },
     "execution_count": 23,
     "metadata": {},
     "output_type": "execute_result"
    }
   ],
   "source": [
    "# 배급사 랭크 인코딩\n",
    "tr_nm_rank = train.groupby('distributor').box_off_num.median().reset_index(name='num_rank').sort_values(by='num_rank')\n",
    "tr_nm_rank"
   ]
  },
  {
   "cell_type": "code",
   "execution_count": 24,
   "id": "48fca19c",
   "metadata": {},
   "outputs": [
    {
     "data": {
      "text/html": [
       "<div>\n",
       "<style scoped>\n",
       "    .dataframe tbody tr th:only-of-type {\n",
       "        vertical-align: middle;\n",
       "    }\n",
       "\n",
       "    .dataframe tbody tr th {\n",
       "        vertical-align: top;\n",
       "    }\n",
       "\n",
       "    .dataframe thead th {\n",
       "        text-align: right;\n",
       "    }\n",
       "</style>\n",
       "<table border=\"1\" class=\"dataframe\">\n",
       "  <thead>\n",
       "    <tr style=\"text-align: right;\">\n",
       "      <th></th>\n",
       "      <th>distributor</th>\n",
       "      <th>num_rank</th>\n",
       "    </tr>\n",
       "  </thead>\n",
       "  <tbody>\n",
       "    <tr>\n",
       "      <th>110</th>\n",
       "      <td>인피니티엔터테인먼트</td>\n",
       "      <td>1</td>\n",
       "    </tr>\n",
       "    <tr>\n",
       "      <th>15</th>\n",
       "      <td>고구마공작소</td>\n",
       "      <td>2</td>\n",
       "    </tr>\n",
       "    <tr>\n",
       "      <th>52</th>\n",
       "      <td>사람과사람들</td>\n",
       "      <td>3</td>\n",
       "    </tr>\n",
       "    <tr>\n",
       "      <th>97</th>\n",
       "      <td>위드시네마</td>\n",
       "      <td>4</td>\n",
       "    </tr>\n",
       "    <tr>\n",
       "      <th>19</th>\n",
       "      <td>나우콘텐츠</td>\n",
       "      <td>5</td>\n",
       "    </tr>\n",
       "    <tr>\n",
       "      <th>...</th>\n",
       "      <td>...</td>\n",
       "      <td>...</td>\n",
       "    </tr>\n",
       "    <tr>\n",
       "      <th>113</th>\n",
       "      <td>전망좋은영화사</td>\n",
       "      <td>143</td>\n",
       "    </tr>\n",
       "    <tr>\n",
       "      <th>105</th>\n",
       "      <td>이십세기폭스코리아</td>\n",
       "      <td>144</td>\n",
       "    </tr>\n",
       "    <tr>\n",
       "      <th>56</th>\n",
       "      <td>쇼박스</td>\n",
       "      <td>145</td>\n",
       "    </tr>\n",
       "    <tr>\n",
       "      <th>84</th>\n",
       "      <td>영구아트무비</td>\n",
       "      <td>146</td>\n",
       "    </tr>\n",
       "    <tr>\n",
       "      <th>75</th>\n",
       "      <td>아이필름코퍼레이션</td>\n",
       "      <td>147</td>\n",
       "    </tr>\n",
       "  </tbody>\n",
       "</table>\n",
       "<p>147 rows × 2 columns</p>\n",
       "</div>"
      ],
      "text/plain": [
       "    distributor  num_rank\n",
       "110  인피니티엔터테인먼트         1\n",
       "15       고구마공작소         2\n",
       "52       사람과사람들         3\n",
       "97        위드시네마         4\n",
       "19        나우콘텐츠         5\n",
       "..          ...       ...\n",
       "113     전망좋은영화사       143\n",
       "105   이십세기폭스코리아       144\n",
       "56          쇼박스       145\n",
       "84       영구아트무비       146\n",
       "75    아이필름코퍼레이션       147\n",
       "\n",
       "[147 rows x 2 columns]"
      ]
     },
     "execution_count": 24,
     "metadata": {},
     "output_type": "execute_result"
    }
   ],
   "source": [
    "tr_nm_rank['num_rank'] = [i + 1 for i in range(tr_nm_rank.shape[0])]\n",
    "tr_nm_rank"
   ]
  },
  {
   "cell_type": "markdown",
   "id": "4080047b",
   "metadata": {},
   "source": [
    "### 2) 장르 전처리\n",
    "- 장르별 영화 관객수 평균값으로 랭크 인코딩"
   ]
  },
  {
   "cell_type": "code",
   "execution_count": 25,
   "id": "de60538c",
   "metadata": {},
   "outputs": [
    {
     "data": {
      "text/plain": [
       "genre\n",
       "뮤지컬       6.627000e+03\n",
       "다큐멘터리     6.717226e+04\n",
       "서스펜스      8.261100e+04\n",
       "애니메이션     1.819267e+05\n",
       "멜로/로맨스    4.259680e+05\n",
       "미스터리      5.275482e+05\n",
       "공포        5.908325e+05\n",
       "드라마       6.256898e+05\n",
       "코미디       1.193914e+06\n",
       "SF        1.788346e+06\n",
       "액션        2.203974e+06\n",
       "느와르       2.263695e+06\n",
       "Name: box_off_num, dtype: float64"
      ]
     },
     "execution_count": 25,
     "metadata": {},
     "output_type": "execute_result"
    }
   ],
   "source": [
    "train.groupby('genre').box_off_num.mean().sort_values()"
   ]
  },
  {
   "cell_type": "code",
   "execution_count": 26,
   "id": "59aab4b8",
   "metadata": {},
   "outputs": [],
   "source": [
    "train['genre_rank'] = train.genre.map({'뮤지컬': 1, '다큐멘터리': 2, '서스펜스': 3, '애니메이션': 4, '멜로/로맨스': 5,\n",
    "                                      '미스터리': 6, '공포': 7, '드라마': 8, '코미디': 9, 'SF': 10, '액션': 11, '느와르': 12})\n",
    "test['genre_rank'] = test.genre.map({'뮤지컬': 1, '다큐멘터리': 2, '서스펜스': 3, '애니메이션': 4, '멜로/로맨스': 5,\n",
    "                                      '미스터리': 6, '공포': 7, '드라마': 8, '코미디': 9, 'SF': 10, '액션': 11, '느와르': 12})"
   ]
  },
  {
   "cell_type": "markdown",
   "id": "e1f8a011",
   "metadata": {},
   "source": [
    "### 3) 최종 데이터 병합"
   ]
  },
  {
   "cell_type": "code",
   "execution_count": 27,
   "id": "eb7cd973",
   "metadata": {},
   "outputs": [],
   "source": [
    "train = pd.merge(train, tr_nm_rank, how='left')\n",
    "test = pd.merge(test, tr_nm_rank, how='left')"
   ]
  },
  {
   "cell_type": "code",
   "execution_count": 28,
   "id": "60a606f0",
   "metadata": {},
   "outputs": [],
   "source": [
    "# 결측값 처리\n",
    "train.fillna(0, inplace=True)\n",
    "test.fillna(0, inplace=True)"
   ]
  },
  {
   "cell_type": "markdown",
   "id": "f89e3182",
   "metadata": {},
   "source": [
    "## 4. 변수 선택"
   ]
  },
  {
   "cell_type": "markdown",
   "id": "c05d277a",
   "metadata": {},
   "source": [
    "### 1) 모델링 데이터 구성\n",
    "- 타겟 값인 관객수를 로그변환 (정규분포)\n",
    "- 상영등급은 더미변수\n",
    "- 출연 배우 수는 로그변환"
   ]
  },
  {
   "cell_type": "code",
   "execution_count": 29,
   "id": "24673e0a",
   "metadata": {},
   "outputs": [],
   "source": [
    "X = train[['num_rank', 'time', 'num_staff', 'num_actor', 'genre_rank', 'screening_rat']]\n",
    "y = np.log1p(train.box_off_num)"
   ]
  },
  {
   "cell_type": "code",
   "execution_count": 30,
   "id": "cff179b2",
   "metadata": {},
   "outputs": [],
   "source": [
    "X = pd.get_dummies(columns=['screening_rat'], data=X)"
   ]
  },
  {
   "cell_type": "code",
   "execution_count": 31,
   "id": "5d8c9d4c",
   "metadata": {},
   "outputs": [],
   "source": [
    "X['num_actor'] = np.log1p(X['num_actor'])"
   ]
  },
  {
   "cell_type": "code",
   "execution_count": 32,
   "id": "36d6935e",
   "metadata": {},
   "outputs": [],
   "source": [
    "target = test[['num_rank', 'time', 'num_staff', 'num_actor', 'genre_rank', 'screening_rat']]\n",
    "target = pd.get_dummies(columns=['screening_rat'], data=target)\n",
    "target['num_actor'] = np.log1p(X['num_actor'])"
   ]
  },
  {
   "cell_type": "markdown",
   "id": "b088947a",
   "metadata": {},
   "source": [
    "### 2) 10Fold로 교차검증"
   ]
  },
  {
   "cell_type": "code",
   "execution_count": 33,
   "id": "e75d0f30",
   "metadata": {},
   "outputs": [],
   "source": [
    "from sklearn.model_selection import KFold\n",
    "kf = KFold(n_splits=10, shuffle=True, random_state=42)"
   ]
  },
  {
   "cell_type": "markdown",
   "id": "8b3cf623",
   "metadata": {},
   "source": [
    "## 5. 모델링"
   ]
  },
  {
   "cell_type": "code",
   "execution_count": 34,
   "id": "aba4bac1",
   "metadata": {},
   "outputs": [],
   "source": [
    "from sklearn.ensemble import GradientBoostingRegressor, RandomForestRegressor\n",
    "from xgboost import XGBRegressor\n",
    "from lightgbm import LGBMRegressor\n",
    "from catboost import CatBoostRegressor\n",
    "from sklearn.metrics import mean_squared_error\n",
    "from ngboost import NGBRegressor"
   ]
  },
  {
   "cell_type": "markdown",
   "id": "c3931f36",
   "metadata": {},
   "source": [
    "### 1) GradientBoostingRegressor"
   ]
  },
  {
   "cell_type": "code",
   "execution_count": 35,
   "id": "664a8166",
   "metadata": {},
   "outputs": [],
   "source": [
    "gbm = GradientBoostingRegressor(random_state=42)"
   ]
  },
  {
   "cell_type": "code",
   "execution_count": 36,
   "id": "79d23e52",
   "metadata": {},
   "outputs": [],
   "source": [
    "rmse_list = []\n",
    "gb_pred = np.zeros((test.shape[0]))\n",
    "for tr_idx, val_idx in kf.split(X, y):\n",
    "    tr_x, tr_y = X.iloc[tr_idx], y.iloc[tr_idx]\n",
    "    val_x, val_y = X.iloc[val_idx], y.iloc[val_idx]\n",
    "    \n",
    "    gbm.fit(tr_x, tr_y)\n",
    "    \n",
    "    pred = np.expm1([0 if x < 0 else x for x in gbm.predict(val_x)])\n",
    "    sub_pred = np.expm1([0 if x < 0 else x for x in gbm.predict(target)])\n",
    "    rmse = np.sqrt(mean_squared_error(val_y, pred))\n",
    "    rmse_list.append(rmse)\n",
    "    \n",
    "    gb_pred += (sub_pred / 10)"
   ]
  },
  {
   "cell_type": "code",
   "execution_count": 37,
   "id": "dfb4e4f0",
   "metadata": {},
   "outputs": [
    {
     "data": {
      "text/plain": [
       "1174378.9765191542"
      ]
     },
     "execution_count": 37,
     "metadata": {},
     "output_type": "execute_result"
    }
   ],
   "source": [
    "gb_rmse = np.mean(rmse_list)\n",
    "gb_rmse"
   ]
  },
  {
   "cell_type": "code",
   "execution_count": 38,
   "id": "d65f281a",
   "metadata": {},
   "outputs": [
    {
     "data": {
      "text/html": [
       "<div>\n",
       "<style scoped>\n",
       "    .dataframe tbody tr th:only-of-type {\n",
       "        vertical-align: middle;\n",
       "    }\n",
       "\n",
       "    .dataframe tbody tr th {\n",
       "        vertical-align: top;\n",
       "    }\n",
       "\n",
       "    .dataframe thead th {\n",
       "        text-align: right;\n",
       "    }\n",
       "</style>\n",
       "<table border=\"1\" class=\"dataframe\">\n",
       "  <thead>\n",
       "    <tr style=\"text-align: right;\">\n",
       "      <th></th>\n",
       "      <th>title</th>\n",
       "      <th>box_off_num</th>\n",
       "    </tr>\n",
       "  </thead>\n",
       "  <tbody>\n",
       "    <tr>\n",
       "      <th>20</th>\n",
       "      <td>인플루언스</td>\n",
       "      <td>2.647017e+00</td>\n",
       "    </tr>\n",
       "    <tr>\n",
       "      <th>130</th>\n",
       "      <td>댄서김의 은밀한 교수법</td>\n",
       "      <td>2.725356e+00</td>\n",
       "    </tr>\n",
       "    <tr>\n",
       "      <th>39</th>\n",
       "      <td>REC 알이씨</td>\n",
       "      <td>4.243058e+00</td>\n",
       "    </tr>\n",
       "    <tr>\n",
       "      <th>139</th>\n",
       "      <td>화려한 외출</td>\n",
       "      <td>5.382258e+00</td>\n",
       "    </tr>\n",
       "    <tr>\n",
       "      <th>24</th>\n",
       "      <td>탈주</td>\n",
       "      <td>5.490257e+00</td>\n",
       "    </tr>\n",
       "    <tr>\n",
       "      <th>...</th>\n",
       "      <td>...</td>\n",
       "      <td>...</td>\n",
       "    </tr>\n",
       "    <tr>\n",
       "      <th>135</th>\n",
       "      <td>용의자</td>\n",
       "      <td>4.051840e+06</td>\n",
       "    </tr>\n",
       "    <tr>\n",
       "      <th>229</th>\n",
       "      <td>베테랑</td>\n",
       "      <td>4.568104e+06</td>\n",
       "    </tr>\n",
       "    <tr>\n",
       "      <th>142</th>\n",
       "      <td>박수건달</td>\n",
       "      <td>5.807990e+06</td>\n",
       "    </tr>\n",
       "    <tr>\n",
       "      <th>179</th>\n",
       "      <td>군도: 민란의 시대</td>\n",
       "      <td>7.664061e+06</td>\n",
       "    </tr>\n",
       "    <tr>\n",
       "      <th>178</th>\n",
       "      <td>명량</td>\n",
       "      <td>8.239988e+06</td>\n",
       "    </tr>\n",
       "  </tbody>\n",
       "</table>\n",
       "<p>243 rows × 2 columns</p>\n",
       "</div>"
      ],
      "text/plain": [
       "            title   box_off_num\n",
       "20          인플루언스  2.647017e+00\n",
       "130  댄서김의 은밀한 교수법  2.725356e+00\n",
       "39        REC 알이씨  4.243058e+00\n",
       "139        화려한 외출  5.382258e+00\n",
       "24             탈주  5.490257e+00\n",
       "..            ...           ...\n",
       "135           용의자  4.051840e+06\n",
       "229           베테랑  4.568104e+06\n",
       "142          박수건달  5.807990e+06\n",
       "179    군도: 민란의 시대  7.664061e+06\n",
       "178            명량  8.239988e+06\n",
       "\n",
       "[243 rows x 2 columns]"
      ]
     },
     "execution_count": 38,
     "metadata": {},
     "output_type": "execute_result"
    }
   ],
   "source": [
    "submission['box_off_num'] = gb_pred\n",
    "submission.sort_values(by='box_off_num')"
   ]
  },
  {
   "cell_type": "code",
   "execution_count": 39,
   "id": "98ccb2f4",
   "metadata": {},
   "outputs": [],
   "source": [
    "submission.to_csv('./result/gb.csv', index=False)"
   ]
  },
  {
   "cell_type": "markdown",
   "id": "52ff9778",
   "metadata": {},
   "source": [
    "### 2) NGBRegressor"
   ]
  },
  {
   "cell_type": "code",
   "execution_count": 40,
   "id": "07808f3c",
   "metadata": {},
   "outputs": [],
   "source": [
    "ngb = NGBRegressor(random_state=518)"
   ]
  },
  {
   "cell_type": "code",
   "execution_count": 41,
   "id": "96a9ece1",
   "metadata": {
    "scrolled": true
   },
   "outputs": [
    {
     "name": "stdout",
     "output_type": "stream",
     "text": [
      "[iter 0] loss=2.6200 val_loss=0.0000 scale=1.0000 norm=2.9523\n",
      "[iter 100] loss=1.9566 val_loss=0.0000 scale=2.0000 norm=2.7106\n",
      "[iter 200] loss=1.5812 val_loss=0.0000 scale=2.0000 norm=2.1869\n",
      "[iter 300] loss=1.4423 val_loss=0.0000 scale=2.0000 norm=2.0889\n",
      "[iter 400] loss=1.3728 val_loss=0.0000 scale=1.0000 norm=1.0177\n",
      "[iter 0] loss=1.4114 val_loss=0.0000 scale=1.0000 norm=1.0788\n",
      "[iter 100] loss=1.3286 val_loss=0.0000 scale=1.0000 norm=1.0104\n",
      "[iter 200] loss=1.2881 val_loss=0.0000 scale=1.0000 norm=0.9877\n",
      "[iter 300] loss=1.2453 val_loss=0.0000 scale=1.0000 norm=0.9646\n",
      "[iter 400] loss=1.2103 val_loss=0.0000 scale=0.5000 norm=0.4740\n",
      "[iter 0] loss=1.2153 val_loss=0.0000 scale=1.0000 norm=0.9552\n",
      "[iter 100] loss=1.1647 val_loss=0.0000 scale=0.2500 norm=0.2298\n",
      "[iter 200] loss=1.1564 val_loss=0.0000 scale=0.1250 norm=0.1141\n",
      "[iter 300] loss=1.1457 val_loss=0.0000 scale=0.5000 norm=0.4534\n",
      "[iter 400] loss=1.1403 val_loss=0.0000 scale=0.0078 norm=0.0071\n",
      "[iter 0] loss=1.1708 val_loss=0.0000 scale=1.0000 norm=0.9250\n",
      "[iter 100] loss=1.1503 val_loss=0.0000 scale=0.5000 norm=0.4554\n",
      "[iter 200] loss=1.1289 val_loss=0.0000 scale=0.5000 norm=0.4486\n",
      "[iter 300] loss=1.1063 val_loss=0.0000 scale=0.5000 norm=0.4414\n",
      "[iter 400] loss=1.0825 val_loss=0.0000 scale=0.5000 norm=0.4350\n",
      "[iter 0] loss=1.0939 val_loss=0.0000 scale=1.0000 norm=0.8907\n",
      "[iter 100] loss=1.0559 val_loss=0.0000 scale=0.0625 norm=0.0539\n",
      "[iter 200] loss=1.0547 val_loss=0.0000 scale=0.0005 norm=0.0004\n",
      "[iter 300] loss=1.0547 val_loss=0.0000 scale=0.0005 norm=0.0004\n",
      "[iter 400] loss=1.0547 val_loss=0.0000 scale=0.0005 norm=0.0004\n",
      "[iter 0] loss=1.0488 val_loss=0.0000 scale=0.5000 norm=0.4320\n",
      "[iter 100] loss=1.0229 val_loss=0.0000 scale=0.5000 norm=0.4238\n",
      "[iter 200] loss=1.0079 val_loss=0.0000 scale=0.1250 norm=0.1051\n",
      "[iter 300] loss=1.0013 val_loss=0.0000 scale=0.0312 norm=0.0261\n",
      "[iter 400] loss=1.0009 val_loss=0.0000 scale=0.0010 norm=0.0008\n",
      "[iter 0] loss=1.0264 val_loss=0.0000 scale=1.0000 norm=0.8503\n",
      "[iter 100] loss=1.0124 val_loss=0.0000 scale=1.0000 norm=0.8395\n",
      "[iter 200] loss=0.9846 val_loss=0.0000 scale=1.0000 norm=0.8264\n",
      "[iter 300] loss=0.9676 val_loss=0.0000 scale=0.0010 norm=0.0008\n",
      "[iter 400] loss=0.9676 val_loss=0.0000 scale=0.0010 norm=0.0008\n",
      "[iter 0] loss=0.9613 val_loss=0.0000 scale=1.0000 norm=0.8205\n",
      "[iter 100] loss=0.9363 val_loss=0.0000 scale=0.5000 norm=0.4028\n",
      "[iter 200] loss=0.9221 val_loss=0.0000 scale=2.0000 norm=1.5936\n",
      "[iter 300] loss=0.9041 val_loss=0.0000 scale=1.0000 norm=0.7900\n",
      "[iter 400] loss=0.8984 val_loss=0.0000 scale=1.0000 norm=0.7883\n",
      "[iter 0] loss=0.9478 val_loss=0.0000 scale=1.0000 norm=0.8253\n",
      "[iter 100] loss=0.9107 val_loss=0.0000 scale=0.5000 norm=0.3970\n",
      "[iter 200] loss=0.8999 val_loss=0.0000 scale=1.0000 norm=0.7874\n",
      "[iter 300] loss=0.8909 val_loss=0.0000 scale=0.1250 norm=0.0977\n",
      "[iter 400] loss=0.8837 val_loss=0.0000 scale=0.0078 norm=0.0061\n",
      "[iter 0] loss=0.8932 val_loss=0.0000 scale=0.5000 norm=0.3926\n",
      "[iter 100] loss=0.8724 val_loss=0.0000 scale=1.0000 norm=0.7734\n",
      "[iter 200] loss=0.8598 val_loss=0.0000 scale=1.0000 norm=0.7673\n",
      "[iter 300] loss=0.8493 val_loss=0.0000 scale=0.2500 norm=0.1906\n",
      "[iter 400] loss=0.8406 val_loss=0.0000 scale=0.5000 norm=0.3797\n"
     ]
    }
   ],
   "source": [
    "rmse_list = []\n",
    "ngb_pred = np.zeros((test.shape[0]))\n",
    "for tr_idx, val_idx in kf.split(X, y):\n",
    "    tr_x, tr_y = X.iloc[tr_idx], y.iloc[tr_idx]\n",
    "    val_x, val_y = X.iloc[val_idx], y.iloc[val_idx]\n",
    "    \n",
    "    ngb.fit(tr_x, tr_y)\n",
    "    \n",
    "    pred = np.expm1([0 if x < 0 else x for x in ngb.predict(val_x)])\n",
    "    sub_pred = np.expm1([0 if x < 0 else x for x in ngb.predict(target)])\n",
    "    rmse = np.sqrt(mean_squared_error(val_y, pred))\n",
    "    rmse_list.append(rmse)\n",
    "    \n",
    "    ngb_pred += (sub_pred / 10)"
   ]
  },
  {
   "cell_type": "code",
   "execution_count": 42,
   "id": "427ff350",
   "metadata": {},
   "outputs": [
    {
     "data": {
      "text/plain": [
       "1336763.4092477798"
      ]
     },
     "execution_count": 42,
     "metadata": {},
     "output_type": "execute_result"
    }
   ],
   "source": [
    "ngb_rmse = np.mean(rmse_list)\n",
    "ngb_rmse"
   ]
  },
  {
   "cell_type": "code",
   "execution_count": 43,
   "id": "923bf09b",
   "metadata": {},
   "outputs": [
    {
     "data": {
      "text/html": [
       "<div>\n",
       "<style scoped>\n",
       "    .dataframe tbody tr th:only-of-type {\n",
       "        vertical-align: middle;\n",
       "    }\n",
       "\n",
       "    .dataframe tbody tr th {\n",
       "        vertical-align: top;\n",
       "    }\n",
       "\n",
       "    .dataframe thead th {\n",
       "        text-align: right;\n",
       "    }\n",
       "</style>\n",
       "<table border=\"1\" class=\"dataframe\">\n",
       "  <thead>\n",
       "    <tr style=\"text-align: right;\">\n",
       "      <th></th>\n",
       "      <th>title</th>\n",
       "      <th>box_off_num</th>\n",
       "    </tr>\n",
       "  </thead>\n",
       "  <tbody>\n",
       "    <tr>\n",
       "      <th>39</th>\n",
       "      <td>REC 알이씨</td>\n",
       "      <td>1.046361e-01</td>\n",
       "    </tr>\n",
       "    <tr>\n",
       "      <th>20</th>\n",
       "      <td>인플루언스</td>\n",
       "      <td>1.277107e-01</td>\n",
       "    </tr>\n",
       "    <tr>\n",
       "      <th>167</th>\n",
       "      <td>바리새인</td>\n",
       "      <td>2.461225e-01</td>\n",
       "    </tr>\n",
       "    <tr>\n",
       "      <th>234</th>\n",
       "      <td>슬픈남자</td>\n",
       "      <td>3.626936e-01</td>\n",
       "    </tr>\n",
       "    <tr>\n",
       "      <th>65</th>\n",
       "      <td>엄마는 창녀다</td>\n",
       "      <td>4.604966e-01</td>\n",
       "    </tr>\n",
       "    <tr>\n",
       "      <th>...</th>\n",
       "      <td>...</td>\n",
       "      <td>...</td>\n",
       "    </tr>\n",
       "    <tr>\n",
       "      <th>229</th>\n",
       "      <td>베테랑</td>\n",
       "      <td>4.474201e+06</td>\n",
       "    </tr>\n",
       "    <tr>\n",
       "      <th>135</th>\n",
       "      <td>용의자</td>\n",
       "      <td>5.076025e+06</td>\n",
       "    </tr>\n",
       "    <tr>\n",
       "      <th>142</th>\n",
       "      <td>박수건달</td>\n",
       "      <td>6.201829e+06</td>\n",
       "    </tr>\n",
       "    <tr>\n",
       "      <th>178</th>\n",
       "      <td>명량</td>\n",
       "      <td>8.068364e+06</td>\n",
       "    </tr>\n",
       "    <tr>\n",
       "      <th>179</th>\n",
       "      <td>군도: 민란의 시대</td>\n",
       "      <td>8.400384e+06</td>\n",
       "    </tr>\n",
       "  </tbody>\n",
       "</table>\n",
       "<p>243 rows × 2 columns</p>\n",
       "</div>"
      ],
      "text/plain": [
       "          title   box_off_num\n",
       "39      REC 알이씨  1.046361e-01\n",
       "20        인플루언스  1.277107e-01\n",
       "167        바리새인  2.461225e-01\n",
       "234        슬픈남자  3.626936e-01\n",
       "65      엄마는 창녀다  4.604966e-01\n",
       "..          ...           ...\n",
       "229         베테랑  4.474201e+06\n",
       "135         용의자  5.076025e+06\n",
       "142        박수건달  6.201829e+06\n",
       "178          명량  8.068364e+06\n",
       "179  군도: 민란의 시대  8.400384e+06\n",
       "\n",
       "[243 rows x 2 columns]"
      ]
     },
     "execution_count": 43,
     "metadata": {},
     "output_type": "execute_result"
    }
   ],
   "source": [
    "submission['box_off_num'] = ngb_pred\n",
    "submission.sort_values(by='box_off_num')"
   ]
  },
  {
   "cell_type": "code",
   "execution_count": 44,
   "id": "fa40d149",
   "metadata": {},
   "outputs": [],
   "source": [
    "submission.to_csv('./result/ngb.csv', index=False)"
   ]
  },
  {
   "cell_type": "markdown",
   "id": "ced8438d",
   "metadata": {},
   "source": [
    "### 3) LGBMRegressor"
   ]
  },
  {
   "cell_type": "code",
   "execution_count": 45,
   "id": "bd27d688",
   "metadata": {},
   "outputs": [],
   "source": [
    "lgbm = LGBMRegressor(random_state=518)"
   ]
  },
  {
   "cell_type": "code",
   "execution_count": 46,
   "id": "111a7aca",
   "metadata": {},
   "outputs": [],
   "source": [
    "rmse_list = []\n",
    "lgbm_pred = np.zeros((test.shape[0]))\n",
    "for tr_idx, val_idx in kf.split(X, y):\n",
    "    tr_x, tr_y = X.iloc[tr_idx], y.iloc[tr_idx]\n",
    "    val_x, val_y = X.iloc[val_idx], y.iloc[val_idx]\n",
    "    \n",
    "    lgbm.fit(tr_x, tr_y)\n",
    "    \n",
    "    pred = np.expm1([0 if x < 0 else x for x in lgbm.predict(val_x)])\n",
    "    sub_pred = np.expm1([0 if x < 0 else x for x in lgbm.predict(target)])\n",
    "    rmse = np.sqrt(mean_squared_error(val_y, pred))\n",
    "    rmse_list.append(rmse)\n",
    "    \n",
    "    lgbm_pred += (sub_pred / 10)"
   ]
  },
  {
   "cell_type": "code",
   "execution_count": 47,
   "id": "052a3502",
   "metadata": {},
   "outputs": [
    {
     "data": {
      "text/plain": [
       "1213815.0440528719"
      ]
     },
     "execution_count": 47,
     "metadata": {},
     "output_type": "execute_result"
    }
   ],
   "source": [
    "lgbm_rmse = np.mean(rmse_list)\n",
    "lgbm_rmse"
   ]
  },
  {
   "cell_type": "code",
   "execution_count": 48,
   "id": "bfb33074",
   "metadata": {},
   "outputs": [
    {
     "data": {
      "text/html": [
       "<div>\n",
       "<style scoped>\n",
       "    .dataframe tbody tr th:only-of-type {\n",
       "        vertical-align: middle;\n",
       "    }\n",
       "\n",
       "    .dataframe tbody tr th {\n",
       "        vertical-align: top;\n",
       "    }\n",
       "\n",
       "    .dataframe thead th {\n",
       "        text-align: right;\n",
       "    }\n",
       "</style>\n",
       "<table border=\"1\" class=\"dataframe\">\n",
       "  <thead>\n",
       "    <tr style=\"text-align: right;\">\n",
       "      <th></th>\n",
       "      <th>title</th>\n",
       "      <th>box_off_num</th>\n",
       "    </tr>\n",
       "  </thead>\n",
       "  <tbody>\n",
       "    <tr>\n",
       "      <th>39</th>\n",
       "      <td>REC 알이씨</td>\n",
       "      <td>6.006902e+01</td>\n",
       "    </tr>\n",
       "    <tr>\n",
       "      <th>130</th>\n",
       "      <td>댄서김의 은밀한 교수법</td>\n",
       "      <td>6.083224e+01</td>\n",
       "    </tr>\n",
       "    <tr>\n",
       "      <th>173</th>\n",
       "      <td>옹녀뎐</td>\n",
       "      <td>9.022447e+01</td>\n",
       "    </tr>\n",
       "    <tr>\n",
       "      <th>139</th>\n",
       "      <td>화려한 외출</td>\n",
       "      <td>9.372773e+01</td>\n",
       "    </tr>\n",
       "    <tr>\n",
       "      <th>143</th>\n",
       "      <td>배꼽</td>\n",
       "      <td>1.058136e+02</td>\n",
       "    </tr>\n",
       "    <tr>\n",
       "      <th>...</th>\n",
       "      <td>...</td>\n",
       "      <td>...</td>\n",
       "    </tr>\n",
       "    <tr>\n",
       "      <th>179</th>\n",
       "      <td>군도: 민란의 시대</td>\n",
       "      <td>6.014808e+06</td>\n",
       "    </tr>\n",
       "    <tr>\n",
       "      <th>229</th>\n",
       "      <td>베테랑</td>\n",
       "      <td>6.474746e+06</td>\n",
       "    </tr>\n",
       "    <tr>\n",
       "      <th>61</th>\n",
       "      <td>수상한 고객들</td>\n",
       "      <td>6.476403e+06</td>\n",
       "    </tr>\n",
       "    <tr>\n",
       "      <th>178</th>\n",
       "      <td>명량</td>\n",
       "      <td>6.589275e+06</td>\n",
       "    </tr>\n",
       "    <tr>\n",
       "      <th>142</th>\n",
       "      <td>박수건달</td>\n",
       "      <td>7.025399e+06</td>\n",
       "    </tr>\n",
       "  </tbody>\n",
       "</table>\n",
       "<p>243 rows × 2 columns</p>\n",
       "</div>"
      ],
      "text/plain": [
       "            title   box_off_num\n",
       "39        REC 알이씨  6.006902e+01\n",
       "130  댄서김의 은밀한 교수법  6.083224e+01\n",
       "173           옹녀뎐  9.022447e+01\n",
       "139        화려한 외출  9.372773e+01\n",
       "143            배꼽  1.058136e+02\n",
       "..            ...           ...\n",
       "179    군도: 민란의 시대  6.014808e+06\n",
       "229           베테랑  6.474746e+06\n",
       "61        수상한 고객들  6.476403e+06\n",
       "178            명량  6.589275e+06\n",
       "142          박수건달  7.025399e+06\n",
       "\n",
       "[243 rows x 2 columns]"
      ]
     },
     "execution_count": 48,
     "metadata": {},
     "output_type": "execute_result"
    }
   ],
   "source": [
    "submission['box_off_num'] = lgbm_pred\n",
    "submission.sort_values(by='box_off_num')"
   ]
  },
  {
   "cell_type": "code",
   "execution_count": 49,
   "id": "cd15f950",
   "metadata": {},
   "outputs": [],
   "source": [
    "submission.to_csv('./result/lgbm.csv', index=False)"
   ]
  },
  {
   "cell_type": "markdown",
   "id": "518a887b",
   "metadata": {},
   "source": [
    "### 4) XGBRegressor"
   ]
  },
  {
   "cell_type": "code",
   "execution_count": 50,
   "id": "c6065e44",
   "metadata": {},
   "outputs": [],
   "source": [
    "xgb = XGBRegressor(random_state=518)"
   ]
  },
  {
   "cell_type": "code",
   "execution_count": 51,
   "id": "ce615723",
   "metadata": {},
   "outputs": [],
   "source": [
    "rmse_list = []\n",
    "xgb_pred = np.zeros((test.shape[0]))\n",
    "for tr_idx, val_idx in kf.split(X, y):\n",
    "    tr_x, tr_y = X.iloc[tr_idx], y.iloc[tr_idx]\n",
    "    val_x, val_y = X.iloc[val_idx], y.iloc[val_idx]\n",
    "    \n",
    "    xgb.fit(tr_x, tr_y)\n",
    "    \n",
    "    pred = np.expm1([0 if x < 0 else x for x in xgb.predict(val_x)])\n",
    "    sub_pred = np.expm1([0 if x < 0 else x for x in xgb.predict(target)])\n",
    "    rmse = np.sqrt(mean_squared_error(val_y, pred))\n",
    "    rmse_list.append(rmse)\n",
    "    \n",
    "    xgb_pred += (sub_pred / 10)"
   ]
  },
  {
   "cell_type": "code",
   "execution_count": 52,
   "id": "da56bbf1",
   "metadata": {},
   "outputs": [
    {
     "data": {
      "text/plain": [
       "1437735.1546705803"
      ]
     },
     "execution_count": 52,
     "metadata": {},
     "output_type": "execute_result"
    }
   ],
   "source": [
    "xgb_rmse = np.mean(rmse_list)\n",
    "xgb_rmse"
   ]
  },
  {
   "cell_type": "code",
   "execution_count": 53,
   "id": "d887c16b",
   "metadata": {},
   "outputs": [
    {
     "data": {
      "text/html": [
       "<div>\n",
       "<style scoped>\n",
       "    .dataframe tbody tr th:only-of-type {\n",
       "        vertical-align: middle;\n",
       "    }\n",
       "\n",
       "    .dataframe tbody tr th {\n",
       "        vertical-align: top;\n",
       "    }\n",
       "\n",
       "    .dataframe thead th {\n",
       "        text-align: right;\n",
       "    }\n",
       "</style>\n",
       "<table border=\"1\" class=\"dataframe\">\n",
       "  <thead>\n",
       "    <tr style=\"text-align: right;\">\n",
       "      <th></th>\n",
       "      <th>title</th>\n",
       "      <th>box_off_num</th>\n",
       "    </tr>\n",
       "  </thead>\n",
       "  <tbody>\n",
       "    <tr>\n",
       "      <th>20</th>\n",
       "      <td>인플루언스</td>\n",
       "      <td>8.230798e-01</td>\n",
       "    </tr>\n",
       "    <tr>\n",
       "      <th>234</th>\n",
       "      <td>슬픈남자</td>\n",
       "      <td>1.758980e+00</td>\n",
       "    </tr>\n",
       "    <tr>\n",
       "      <th>173</th>\n",
       "      <td>옹녀뎐</td>\n",
       "      <td>2.047489e+00</td>\n",
       "    </tr>\n",
       "    <tr>\n",
       "      <th>47</th>\n",
       "      <td>고래를 찾는 자전거</td>\n",
       "      <td>2.140532e+00</td>\n",
       "    </tr>\n",
       "    <tr>\n",
       "      <th>95</th>\n",
       "      <td>천국의 아이들</td>\n",
       "      <td>2.317331e+00</td>\n",
       "    </tr>\n",
       "    <tr>\n",
       "      <th>...</th>\n",
       "      <td>...</td>\n",
       "      <td>...</td>\n",
       "    </tr>\n",
       "    <tr>\n",
       "      <th>158</th>\n",
       "      <td>우는 남자</td>\n",
       "      <td>3.480028e+06</td>\n",
       "    </tr>\n",
       "    <tr>\n",
       "      <th>179</th>\n",
       "      <td>군도: 민란의 시대</td>\n",
       "      <td>3.977340e+06</td>\n",
       "    </tr>\n",
       "    <tr>\n",
       "      <th>178</th>\n",
       "      <td>명량</td>\n",
       "      <td>4.355552e+06</td>\n",
       "    </tr>\n",
       "    <tr>\n",
       "      <th>135</th>\n",
       "      <td>용의자</td>\n",
       "      <td>4.774083e+06</td>\n",
       "    </tr>\n",
       "    <tr>\n",
       "      <th>61</th>\n",
       "      <td>수상한 고객들</td>\n",
       "      <td>6.075221e+06</td>\n",
       "    </tr>\n",
       "  </tbody>\n",
       "</table>\n",
       "<p>243 rows × 2 columns</p>\n",
       "</div>"
      ],
      "text/plain": [
       "          title   box_off_num\n",
       "20        인플루언스  8.230798e-01\n",
       "234        슬픈남자  1.758980e+00\n",
       "173         옹녀뎐  2.047489e+00\n",
       "47   고래를 찾는 자전거  2.140532e+00\n",
       "95      천국의 아이들  2.317331e+00\n",
       "..          ...           ...\n",
       "158       우는 남자  3.480028e+06\n",
       "179  군도: 민란의 시대  3.977340e+06\n",
       "178          명량  4.355552e+06\n",
       "135         용의자  4.774083e+06\n",
       "61      수상한 고객들  6.075221e+06\n",
       "\n",
       "[243 rows x 2 columns]"
      ]
     },
     "execution_count": 53,
     "metadata": {},
     "output_type": "execute_result"
    }
   ],
   "source": [
    "submission['box_off_num'] = xgb_pred\n",
    "submission.sort_values(by='box_off_num')"
   ]
  },
  {
   "cell_type": "code",
   "execution_count": 54,
   "id": "762ef354",
   "metadata": {},
   "outputs": [],
   "source": [
    "submission.to_csv('./result/xgb.csv', index=False)"
   ]
  },
  {
   "cell_type": "markdown",
   "id": "a89226c4",
   "metadata": {},
   "source": [
    "### 5) CatBoostRegressor"
   ]
  },
  {
   "cell_type": "code",
   "execution_count": 55,
   "id": "1b6065c0",
   "metadata": {},
   "outputs": [],
   "source": [
    "cat = CatBoostRegressor(random_state=518, silent=True)"
   ]
  },
  {
   "cell_type": "code",
   "execution_count": 56,
   "id": "c5e4611d",
   "metadata": {},
   "outputs": [],
   "source": [
    "rmse_list = []\n",
    "cat_pred = np.zeros((test.shape[0]))\n",
    "for tr_idx, val_idx in kf.split(X, y):\n",
    "    tr_x, tr_y = X.iloc[tr_idx], y.iloc[tr_idx]\n",
    "    val_x, val_y = X.iloc[val_idx], y.iloc[val_idx]\n",
    "    \n",
    "    cat.fit(tr_x, tr_y)\n",
    "    \n",
    "    pred = np.expm1([0 if x < 0 else x for x in cat.predict(val_x)])\n",
    "    sub_pred = np.expm1([0 if x < 0 else x for x in cat.predict(target)])\n",
    "    rmse = np.sqrt(mean_squared_error(val_y, pred))\n",
    "    rmse_list.append(rmse)\n",
    "    \n",
    "    cat_pred += (sub_pred / 10)"
   ]
  },
  {
   "cell_type": "code",
   "execution_count": 57,
   "id": "94a0943a",
   "metadata": {},
   "outputs": [
    {
     "data": {
      "text/plain": [
       "1075600.9209088846"
      ]
     },
     "execution_count": 57,
     "metadata": {},
     "output_type": "execute_result"
    }
   ],
   "source": [
    "cat_rmse = np.mean(rmse_list)\n",
    "cat_rmse"
   ]
  },
  {
   "cell_type": "code",
   "execution_count": 58,
   "id": "5a9638db",
   "metadata": {},
   "outputs": [
    {
     "data": {
      "text/html": [
       "<div>\n",
       "<style scoped>\n",
       "    .dataframe tbody tr th:only-of-type {\n",
       "        vertical-align: middle;\n",
       "    }\n",
       "\n",
       "    .dataframe tbody tr th {\n",
       "        vertical-align: top;\n",
       "    }\n",
       "\n",
       "    .dataframe thead th {\n",
       "        text-align: right;\n",
       "    }\n",
       "</style>\n",
       "<table border=\"1\" class=\"dataframe\">\n",
       "  <thead>\n",
       "    <tr style=\"text-align: right;\">\n",
       "      <th></th>\n",
       "      <th>title</th>\n",
       "      <th>box_off_num</th>\n",
       "    </tr>\n",
       "  </thead>\n",
       "  <tbody>\n",
       "    <tr>\n",
       "      <th>39</th>\n",
       "      <td>REC 알이씨</td>\n",
       "      <td>9.008297e+00</td>\n",
       "    </tr>\n",
       "    <tr>\n",
       "      <th>167</th>\n",
       "      <td>바리새인</td>\n",
       "      <td>9.483717e+00</td>\n",
       "    </tr>\n",
       "    <tr>\n",
       "      <th>139</th>\n",
       "      <td>화려한 외출</td>\n",
       "      <td>1.005426e+01</td>\n",
       "    </tr>\n",
       "    <tr>\n",
       "      <th>20</th>\n",
       "      <td>인플루언스</td>\n",
       "      <td>1.071599e+01</td>\n",
       "    </tr>\n",
       "    <tr>\n",
       "      <th>130</th>\n",
       "      <td>댄서김의 은밀한 교수법</td>\n",
       "      <td>1.202435e+01</td>\n",
       "    </tr>\n",
       "    <tr>\n",
       "      <th>...</th>\n",
       "      <td>...</td>\n",
       "      <td>...</td>\n",
       "    </tr>\n",
       "    <tr>\n",
       "      <th>61</th>\n",
       "      <td>수상한 고객들</td>\n",
       "      <td>3.708812e+06</td>\n",
       "    </tr>\n",
       "    <tr>\n",
       "      <th>108</th>\n",
       "      <td>신세계</td>\n",
       "      <td>3.730411e+06</td>\n",
       "    </tr>\n",
       "    <tr>\n",
       "      <th>179</th>\n",
       "      <td>군도: 민란의 시대</td>\n",
       "      <td>3.824351e+06</td>\n",
       "    </tr>\n",
       "    <tr>\n",
       "      <th>178</th>\n",
       "      <td>명량</td>\n",
       "      <td>4.647236e+06</td>\n",
       "    </tr>\n",
       "    <tr>\n",
       "      <th>135</th>\n",
       "      <td>용의자</td>\n",
       "      <td>6.254031e+06</td>\n",
       "    </tr>\n",
       "  </tbody>\n",
       "</table>\n",
       "<p>243 rows × 2 columns</p>\n",
       "</div>"
      ],
      "text/plain": [
       "            title   box_off_num\n",
       "39        REC 알이씨  9.008297e+00\n",
       "167          바리새인  9.483717e+00\n",
       "139        화려한 외출  1.005426e+01\n",
       "20          인플루언스  1.071599e+01\n",
       "130  댄서김의 은밀한 교수법  1.202435e+01\n",
       "..            ...           ...\n",
       "61        수상한 고객들  3.708812e+06\n",
       "108           신세계  3.730411e+06\n",
       "179    군도: 민란의 시대  3.824351e+06\n",
       "178            명량  4.647236e+06\n",
       "135           용의자  6.254031e+06\n",
       "\n",
       "[243 rows x 2 columns]"
      ]
     },
     "execution_count": 58,
     "metadata": {},
     "output_type": "execute_result"
    }
   ],
   "source": [
    "submission['box_off_num'] = cat_pred\n",
    "submission.sort_values(by='box_off_num')"
   ]
  },
  {
   "cell_type": "code",
   "execution_count": 59,
   "id": "68aae229",
   "metadata": {},
   "outputs": [],
   "source": [
    "submission.to_csv('./result/cat.csv', index=False)"
   ]
  },
  {
   "cell_type": "markdown",
   "id": "d5025957",
   "metadata": {},
   "source": [
    "### 6) RandomForestRegressor"
   ]
  },
  {
   "cell_type": "code",
   "execution_count": 60,
   "id": "2b4c01a5",
   "metadata": {},
   "outputs": [],
   "source": [
    "rf = RandomForestRegressor(random_state=518)"
   ]
  },
  {
   "cell_type": "code",
   "execution_count": 61,
   "id": "36efdc0b",
   "metadata": {},
   "outputs": [],
   "source": [
    "rmse_list = []\n",
    "rf_pred = np.zeros((test.shape[0]))\n",
    "for tr_idx, val_idx in kf.split(X, y):\n",
    "    tr_x, tr_y = X.iloc[tr_idx], y.iloc[tr_idx]\n",
    "    val_x, val_y = X.iloc[val_idx], y.iloc[val_idx]\n",
    "    \n",
    "    rf.fit(tr_x, tr_y)\n",
    "    \n",
    "    pred = np.expm1([0 if x < 0 else x for x in rf.predict(val_x)])\n",
    "    sub_pred = np.expm1([0 if x < 0 else x for x in rf.predict(target)])\n",
    "    rmse = np.sqrt(mean_squared_error(val_y, pred))\n",
    "    rmse_list.append(rmse)\n",
    "    \n",
    "    rf_pred += (sub_pred / 10)"
   ]
  },
  {
   "cell_type": "code",
   "execution_count": 62,
   "id": "bce71647",
   "metadata": {},
   "outputs": [
    {
     "data": {
      "text/plain": [
       "872738.262092494"
      ]
     },
     "execution_count": 62,
     "metadata": {},
     "output_type": "execute_result"
    }
   ],
   "source": [
    "rf_rmse = np.mean(rmse_list)\n",
    "rf_rmse"
   ]
  },
  {
   "cell_type": "code",
   "execution_count": 63,
   "id": "7cd2208a",
   "metadata": {},
   "outputs": [
    {
     "data": {
      "text/html": [
       "<div>\n",
       "<style scoped>\n",
       "    .dataframe tbody tr th:only-of-type {\n",
       "        vertical-align: middle;\n",
       "    }\n",
       "\n",
       "    .dataframe tbody tr th {\n",
       "        vertical-align: top;\n",
       "    }\n",
       "\n",
       "    .dataframe thead th {\n",
       "        text-align: right;\n",
       "    }\n",
       "</style>\n",
       "<table border=\"1\" class=\"dataframe\">\n",
       "  <thead>\n",
       "    <tr style=\"text-align: right;\">\n",
       "      <th></th>\n",
       "      <th>title</th>\n",
       "      <th>box_off_num</th>\n",
       "    </tr>\n",
       "  </thead>\n",
       "  <tbody>\n",
       "    <tr>\n",
       "      <th>167</th>\n",
       "      <td>바리새인</td>\n",
       "      <td>8.618484e+00</td>\n",
       "    </tr>\n",
       "    <tr>\n",
       "      <th>20</th>\n",
       "      <td>인플루언스</td>\n",
       "      <td>9.043904e+00</td>\n",
       "    </tr>\n",
       "    <tr>\n",
       "      <th>65</th>\n",
       "      <td>엄마는 창녀다</td>\n",
       "      <td>9.261489e+00</td>\n",
       "    </tr>\n",
       "    <tr>\n",
       "      <th>139</th>\n",
       "      <td>화려한 외출</td>\n",
       "      <td>9.395990e+00</td>\n",
       "    </tr>\n",
       "    <tr>\n",
       "      <th>124</th>\n",
       "      <td>콩가네</td>\n",
       "      <td>9.503248e+00</td>\n",
       "    </tr>\n",
       "    <tr>\n",
       "      <th>...</th>\n",
       "      <td>...</td>\n",
       "      <td>...</td>\n",
       "    </tr>\n",
       "    <tr>\n",
       "      <th>229</th>\n",
       "      <td>베테랑</td>\n",
       "      <td>2.547155e+06</td>\n",
       "    </tr>\n",
       "    <tr>\n",
       "      <th>135</th>\n",
       "      <td>용의자</td>\n",
       "      <td>3.020335e+06</td>\n",
       "    </tr>\n",
       "    <tr>\n",
       "      <th>179</th>\n",
       "      <td>군도: 민란의 시대</td>\n",
       "      <td>3.267259e+06</td>\n",
       "    </tr>\n",
       "    <tr>\n",
       "      <th>61</th>\n",
       "      <td>수상한 고객들</td>\n",
       "      <td>3.486543e+06</td>\n",
       "    </tr>\n",
       "    <tr>\n",
       "      <th>178</th>\n",
       "      <td>명량</td>\n",
       "      <td>3.518606e+06</td>\n",
       "    </tr>\n",
       "  </tbody>\n",
       "</table>\n",
       "<p>243 rows × 2 columns</p>\n",
       "</div>"
      ],
      "text/plain": [
       "          title   box_off_num\n",
       "167        바리새인  8.618484e+00\n",
       "20        인플루언스  9.043904e+00\n",
       "65      엄마는 창녀다  9.261489e+00\n",
       "139      화려한 외출  9.395990e+00\n",
       "124         콩가네  9.503248e+00\n",
       "..          ...           ...\n",
       "229         베테랑  2.547155e+06\n",
       "135         용의자  3.020335e+06\n",
       "179  군도: 민란의 시대  3.267259e+06\n",
       "61      수상한 고객들  3.486543e+06\n",
       "178          명량  3.518606e+06\n",
       "\n",
       "[243 rows x 2 columns]"
      ]
     },
     "execution_count": 63,
     "metadata": {},
     "output_type": "execute_result"
    }
   ],
   "source": [
    "submission['box_off_num'] = rf_pred\n",
    "submission.sort_values(by='box_off_num')"
   ]
  },
  {
   "cell_type": "code",
   "execution_count": 64,
   "id": "17a8da4c",
   "metadata": {},
   "outputs": [],
   "source": [
    "submission.to_csv('./result/rf.csv', index=False)"
   ]
  },
  {
   "cell_type": "markdown",
   "id": "40237c05",
   "metadata": {},
   "source": [
    "### 7) 최종 예측 결과 블렌딩"
   ]
  },
  {
   "cell_type": "code",
   "execution_count": 65,
   "id": "10b24b72",
   "metadata": {},
   "outputs": [
    {
     "data": {
      "text/html": [
       "<div>\n",
       "<style scoped>\n",
       "    .dataframe tbody tr th:only-of-type {\n",
       "        vertical-align: middle;\n",
       "    }\n",
       "\n",
       "    .dataframe tbody tr th {\n",
       "        vertical-align: top;\n",
       "    }\n",
       "\n",
       "    .dataframe thead th {\n",
       "        text-align: right;\n",
       "    }\n",
       "</style>\n",
       "<table border=\"1\" class=\"dataframe\">\n",
       "  <thead>\n",
       "    <tr style=\"text-align: right;\">\n",
       "      <th></th>\n",
       "      <th>title</th>\n",
       "      <th>box_off_num</th>\n",
       "    </tr>\n",
       "  </thead>\n",
       "  <tbody>\n",
       "    <tr>\n",
       "      <th>39</th>\n",
       "      <td>REC 알이씨</td>\n",
       "      <td>1.430182e+01</td>\n",
       "    </tr>\n",
       "    <tr>\n",
       "      <th>130</th>\n",
       "      <td>댄서김의 은밀한 교수법</td>\n",
       "      <td>1.492204e+01</td>\n",
       "    </tr>\n",
       "    <tr>\n",
       "      <th>139</th>\n",
       "      <td>화려한 외출</td>\n",
       "      <td>2.149689e+01</td>\n",
       "    </tr>\n",
       "    <tr>\n",
       "      <th>173</th>\n",
       "      <td>옹녀뎐</td>\n",
       "      <td>2.210663e+01</td>\n",
       "    </tr>\n",
       "    <tr>\n",
       "      <th>20</th>\n",
       "      <td>인플루언스</td>\n",
       "      <td>2.212502e+01</td>\n",
       "    </tr>\n",
       "    <tr>\n",
       "      <th>...</th>\n",
       "      <td>...</td>\n",
       "      <td>...</td>\n",
       "    </tr>\n",
       "    <tr>\n",
       "      <th>142</th>\n",
       "      <td>박수건달</td>\n",
       "      <td>4.439445e+06</td>\n",
       "    </tr>\n",
       "    <tr>\n",
       "      <th>61</th>\n",
       "      <td>수상한 고객들</td>\n",
       "      <td>4.457677e+06</td>\n",
       "    </tr>\n",
       "    <tr>\n",
       "      <th>135</th>\n",
       "      <td>용의자</td>\n",
       "      <td>4.824677e+06</td>\n",
       "    </tr>\n",
       "    <tr>\n",
       "      <th>179</th>\n",
       "      <td>군도: 민란의 시대</td>\n",
       "      <td>5.524700e+06</td>\n",
       "    </tr>\n",
       "    <tr>\n",
       "      <th>178</th>\n",
       "      <td>명량</td>\n",
       "      <td>5.903170e+06</td>\n",
       "    </tr>\n",
       "  </tbody>\n",
       "</table>\n",
       "<p>243 rows × 2 columns</p>\n",
       "</div>"
      ],
      "text/plain": [
       "            title   box_off_num\n",
       "39        REC 알이씨  1.430182e+01\n",
       "130  댄서김의 은밀한 교수법  1.492204e+01\n",
       "139        화려한 외출  2.149689e+01\n",
       "173           옹녀뎐  2.210663e+01\n",
       "20          인플루언스  2.212502e+01\n",
       "..            ...           ...\n",
       "142          박수건달  4.439445e+06\n",
       "61        수상한 고객들  4.457677e+06\n",
       "135           용의자  4.824677e+06\n",
       "179    군도: 민란의 시대  5.524700e+06\n",
       "178            명량  5.903170e+06\n",
       "\n",
       "[243 rows x 2 columns]"
      ]
     },
     "execution_count": 65,
     "metadata": {},
     "output_type": "execute_result"
    }
   ],
   "source": [
    "submission['box_off_num'] = (rf_pred + cat_pred + xgb_pred + lgbm_pred + ngb_pred + gb_pred) / 6\n",
    "submission.sort_values(by='box_off_num')"
   ]
  },
  {
   "cell_type": "code",
   "execution_count": 66,
   "id": "c4490692",
   "metadata": {},
   "outputs": [],
   "source": [
    "submission.to_csv('./result/all.csv', index=False)"
   ]
  },
  {
   "cell_type": "markdown",
   "id": "60972082",
   "metadata": {},
   "source": [
    "## 6. 최종 결과 시각화"
   ]
  },
  {
   "cell_type": "code",
   "execution_count": 67,
   "id": "28e1bdfa",
   "metadata": {},
   "outputs": [
    {
     "data": {
      "text/plain": [
       "{'gb': 1174378.9765191542,\n",
       " 'ngb': 1336763.4092477798,\n",
       " 'lgbm': 1213815.0440528719,\n",
       " 'xgb': 1437735.1546705803,\n",
       " 'cat': 1075600.9209088846,\n",
       " 'rf': 872738.262092494}"
      ]
     },
     "execution_count": 67,
     "metadata": {},
     "output_type": "execute_result"
    }
   ],
   "source": [
    "score = {'gb': gb_rmse, 'ngb': ngb_rmse, 'lgbm': lgbm_rmse, 'xgb': xgb_rmse, 'cat': cat_rmse, 'rf': rf_rmse}\n",
    "score"
   ]
  },
  {
   "cell_type": "code",
   "execution_count": 68,
   "id": "b340deaa",
   "metadata": {},
   "outputs": [
    {
     "data": {
      "text/html": [
       "<div>\n",
       "<style scoped>\n",
       "    .dataframe tbody tr th:only-of-type {\n",
       "        vertical-align: middle;\n",
       "    }\n",
       "\n",
       "    .dataframe tbody tr th {\n",
       "        vertical-align: top;\n",
       "    }\n",
       "\n",
       "    .dataframe thead th {\n",
       "        text-align: right;\n",
       "    }\n",
       "</style>\n",
       "<table border=\"1\" class=\"dataframe\">\n",
       "  <thead>\n",
       "    <tr style=\"text-align: right;\">\n",
       "      <th></th>\n",
       "      <th>model</th>\n",
       "      <th>rmse</th>\n",
       "    </tr>\n",
       "  </thead>\n",
       "  <tbody>\n",
       "    <tr>\n",
       "      <th>0</th>\n",
       "      <td>gb</td>\n",
       "      <td>1.174379e+06</td>\n",
       "    </tr>\n",
       "    <tr>\n",
       "      <th>1</th>\n",
       "      <td>ngb</td>\n",
       "      <td>1.336763e+06</td>\n",
       "    </tr>\n",
       "    <tr>\n",
       "      <th>2</th>\n",
       "      <td>lgbm</td>\n",
       "      <td>1.213815e+06</td>\n",
       "    </tr>\n",
       "    <tr>\n",
       "      <th>3</th>\n",
       "      <td>xgb</td>\n",
       "      <td>1.437735e+06</td>\n",
       "    </tr>\n",
       "    <tr>\n",
       "      <th>4</th>\n",
       "      <td>cat</td>\n",
       "      <td>1.075601e+06</td>\n",
       "    </tr>\n",
       "    <tr>\n",
       "      <th>5</th>\n",
       "      <td>rf</td>\n",
       "      <td>8.727383e+05</td>\n",
       "    </tr>\n",
       "  </tbody>\n",
       "</table>\n",
       "</div>"
      ],
      "text/plain": [
       "  model          rmse\n",
       "0    gb  1.174379e+06\n",
       "1   ngb  1.336763e+06\n",
       "2  lgbm  1.213815e+06\n",
       "3   xgb  1.437735e+06\n",
       "4   cat  1.075601e+06\n",
       "5    rf  8.727383e+05"
      ]
     },
     "execution_count": 68,
     "metadata": {},
     "output_type": "execute_result"
    }
   ],
   "source": [
    "result = pd.DataFrame.from_dict(score, orient='index')\n",
    "result.reset_index(level=0, inplace=True)\n",
    "result.columns = ['model', 'rmse']\n",
    "result"
   ]
  },
  {
   "cell_type": "code",
   "execution_count": 69,
   "id": "3d6e3dff",
   "metadata": {},
   "outputs": [
    {
     "data": {
      "image/png": "[encoded data removed]",
      "text/plain": [
       "<Figure size 864x576 with 1 Axes>"
      ]
     },
     "metadata": {
      "needs_background": "light"
     },
     "output_type": "display_data"
    }
   ],
   "source": [
    "plt.figure(figsize=[12, 8])\n",
    "sns.barplot(data=result, x='model', y='rmse')\n",
    "\n",
    "plt.xlabel('Model')\n",
    "plt.ylabel('Rmse')\n",
    "plt.show()"
   ]
  }
 ],
 "metadata": {
  "kernelspec": {
   "display_name": "Python 3 (ipykernel)",
   "language": "python",
   "name": "python3"
  },
  "language_info": {
   "codemirror_mode": {
    "name": "ipython",
    "version": 3
   },
   "file_extension": ".py",
   "mimetype": "text/x-python",
   "name": "python",
   "nbconvert_exporter": "python",
   "pygments_lexer": "ipython3",
   "version": "3.9.12"
  }
 },
 "nbformat": 4,
 "nbformat_minor": 5
}
