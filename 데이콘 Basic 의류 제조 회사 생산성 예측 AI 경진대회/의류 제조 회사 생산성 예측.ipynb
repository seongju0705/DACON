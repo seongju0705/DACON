{
 "cells": [
  {
   "cell_type": "markdown",
   "id": "2833c993",
   "metadata": {},
   "source": [
    "# 데이콘 Basic 의류 제조 회사 생산성 예측 AI 경진대회\n",
    "- 의류 제조 공정의 생산성 예측 AI 알고리즘 개발"
   ]
  },
  {
   "cell_type": "markdown",
   "id": "fb507c26",
   "metadata": {},
   "source": [
    "## 1. Library 및 Data Load"
   ]
  },
  {
   "cell_type": "code",
   "execution_count": 1,
   "id": "3f165052",
   "metadata": {},
   "outputs": [],
   "source": [
    "import pandas as pd\n",
    "import numpy as np\n",
    "import matplotlib as mpl\n",
    "import matplotlib.pyplot as plt\n",
    "import seaborn as sns"
   ]
  },
  {
   "cell_type": "code",
   "execution_count": 2,
   "id": "831e7f17",
   "metadata": {},
   "outputs": [],
   "source": [
    "# 한글 설정\n",
    "from matplotlib import font_manager, rc\n",
    "plt.rcParams['axes.unicode_minus'] = False\n",
    "\n",
    "path = 'C:/Windows/Fonts/malgun.ttf'\n",
    "font_name = font_manager.FontProperties(fname=path).get_name()\n",
    "rc('font', family=font_name)"
   ]
  },
  {
   "cell_type": "code",
   "execution_count": 3,
   "id": "3542876f",
   "metadata": {},
   "outputs": [],
   "source": [
    "# warnings 무시\n",
    "import warnings\n",
    "warnings.filterwarnings(action='ignore')"
   ]
  },
  {
   "cell_type": "code",
   "execution_count": 4,
   "id": "c1bcdf9f",
   "metadata": {},
   "outputs": [],
   "source": [
    "# data\n",
    "train = pd.read_csv('./data/train.csv')\n",
    "test = pd.read_csv('./data/test.csv')\n",
    "submission = pd.read_csv('./data/sample_submission.csv')"
   ]
  },
  {
   "cell_type": "markdown",
   "id": "fba18f42",
   "metadata": {},
   "source": [
    "## 2. EDA 및 시각화"
   ]
  },
  {
   "cell_type": "code",
   "execution_count": 5,
   "id": "ce7e8d21",
   "metadata": {},
   "outputs": [
    {
     "data": {
      "text/html": [
       "<div>\n",
       "<style scoped>\n",
       "    .dataframe tbody tr th:only-of-type {\n",
       "        vertical-align: middle;\n",
       "    }\n",
       "\n",
       "    .dataframe tbody tr th {\n",
       "        vertical-align: top;\n",
       "    }\n",
       "\n",
       "    .dataframe thead th {\n",
       "        text-align: right;\n",
       "    }\n",
       "</style>\n",
       "<table border=\"1\" class=\"dataframe\">\n",
       "  <thead>\n",
       "    <tr style=\"text-align: right;\">\n",
       "      <th></th>\n",
       "      <th>ID</th>\n",
       "      <th>quarter</th>\n",
       "      <th>department</th>\n",
       "      <th>day</th>\n",
       "      <th>targeted_productivity</th>\n",
       "      <th>smv</th>\n",
       "      <th>wip</th>\n",
       "      <th>over_time</th>\n",
       "      <th>incentive</th>\n",
       "      <th>idle_time</th>\n",
       "      <th>idle_men</th>\n",
       "      <th>no_of_style_change</th>\n",
       "      <th>no_of_workers</th>\n",
       "      <th>actual_productivity</th>\n",
       "    </tr>\n",
       "  </thead>\n",
       "  <tbody>\n",
       "    <tr>\n",
       "      <th>0</th>\n",
       "      <td>TRAIN_0000</td>\n",
       "      <td>Quarter1</td>\n",
       "      <td>sweing</td>\n",
       "      <td>Thursday</td>\n",
       "      <td>0.80</td>\n",
       "      <td>26.16</td>\n",
       "      <td>1108</td>\n",
       "      <td>0.27315</td>\n",
       "      <td>98</td>\n",
       "      <td>0</td>\n",
       "      <td>0</td>\n",
       "      <td>0</td>\n",
       "      <td>59</td>\n",
       "      <td>0.94073</td>\n",
       "    </tr>\n",
       "    <tr>\n",
       "      <th>1</th>\n",
       "      <td>TRAIN_0001</td>\n",
       "      <td>Quarter1</td>\n",
       "      <td>finishing</td>\n",
       "      <td>Thursday</td>\n",
       "      <td>0.75</td>\n",
       "      <td>3.94</td>\n",
       "      <td>1190</td>\n",
       "      <td>0.03704</td>\n",
       "      <td>0</td>\n",
       "      <td>0</td>\n",
       "      <td>0</td>\n",
       "      <td>0</td>\n",
       "      <td>8</td>\n",
       "      <td>0.88650</td>\n",
       "    </tr>\n",
       "    <tr>\n",
       "      <th>2</th>\n",
       "      <td>TRAIN_0002</td>\n",
       "      <td>Quarter1</td>\n",
       "      <td>sweing</td>\n",
       "      <td>Thursday</td>\n",
       "      <td>0.80</td>\n",
       "      <td>11.41</td>\n",
       "      <td>968</td>\n",
       "      <td>0.14120</td>\n",
       "      <td>50</td>\n",
       "      <td>0</td>\n",
       "      <td>0</td>\n",
       "      <td>0</td>\n",
       "      <td>30</td>\n",
       "      <td>0.80057</td>\n",
       "    </tr>\n",
       "    <tr>\n",
       "      <th>3</th>\n",
       "      <td>TRAIN_0003</td>\n",
       "      <td>Quarter1</td>\n",
       "      <td>sweing</td>\n",
       "      <td>Thursday</td>\n",
       "      <td>0.80</td>\n",
       "      <td>11.41</td>\n",
       "      <td>968</td>\n",
       "      <td>0.14120</td>\n",
       "      <td>50</td>\n",
       "      <td>0</td>\n",
       "      <td>0</td>\n",
       "      <td>0</td>\n",
       "      <td>30</td>\n",
       "      <td>0.80057</td>\n",
       "    </tr>\n",
       "    <tr>\n",
       "      <th>4</th>\n",
       "      <td>TRAIN_0004</td>\n",
       "      <td>Quarter1</td>\n",
       "      <td>sweing</td>\n",
       "      <td>Thursday</td>\n",
       "      <td>0.80</td>\n",
       "      <td>25.90</td>\n",
       "      <td>1170</td>\n",
       "      <td>0.07407</td>\n",
       "      <td>50</td>\n",
       "      <td>0</td>\n",
       "      <td>0</td>\n",
       "      <td>0</td>\n",
       "      <td>56</td>\n",
       "      <td>0.80038</td>\n",
       "    </tr>\n",
       "  </tbody>\n",
       "</table>\n",
       "</div>"
      ],
      "text/plain": [
       "           ID   quarter department       day  targeted_productivity    smv  \\\n",
       "0  TRAIN_0000  Quarter1     sweing  Thursday                   0.80  26.16   \n",
       "1  TRAIN_0001  Quarter1  finishing  Thursday                   0.75   3.94   \n",
       "2  TRAIN_0002  Quarter1     sweing  Thursday                   0.80  11.41   \n",
       "3  TRAIN_0003  Quarter1     sweing  Thursday                   0.80  11.41   \n",
       "4  TRAIN_0004  Quarter1     sweing  Thursday                   0.80  25.90   \n",
       "\n",
       "    wip  over_time  incentive  idle_time  idle_men  no_of_style_change  \\\n",
       "0  1108    0.27315         98          0         0                   0   \n",
       "1  1190    0.03704          0          0         0                   0   \n",
       "2   968    0.14120         50          0         0                   0   \n",
       "3   968    0.14120         50          0         0                   0   \n",
       "4  1170    0.07407         50          0         0                   0   \n",
       "\n",
       "   no_of_workers  actual_productivity  \n",
       "0             59              0.94073  \n",
       "1              8              0.88650  \n",
       "2             30              0.80057  \n",
       "3             30              0.80057  \n",
       "4             56              0.80038  "
      ]
     },
     "execution_count": 5,
     "metadata": {},
     "output_type": "execute_result"
    }
   ],
   "source": [
    "train.head()"
   ]
  },
  {
   "cell_type": "markdown",
   "id": "f517c786",
   "metadata": {},
   "source": [
    "- ID: 고유 id\n",
    "- quarter: 한 달을 5그룹으로 나누어 나타낸 열\n",
    "- department: 부서 (범주형)\n",
    "- day: 요일 (범주형)\n",
    "- targeted_productivity: 기관이 매일 팀 별로 설정한 목표 생산성\n",
    "- smv: 작업에 할당된 시간(분)\n",
    "- wip: 진행 중이거나 미완성인 품목 수\n",
    "- over_time: 각 팀의 초과 근무 시간(분)\n",
    "- incentive: 인센티브 양\n",
    "- idle_time: 생산이 중단된 시간\n",
    "- idle_men: 생산 중단으로 인해 유휴 상태인 근로자 수\n",
    "- no_of_style_change: 특정 제품의 스타일 변경 횟수\n",
    "- no_of_workers: 팀 별 작업자 수\n",
    "- actual_productivity: 실제 생산성"
   ]
  },
  {
   "cell_type": "code",
   "execution_count": 6,
   "id": "3e6e24c9",
   "metadata": {},
   "outputs": [
    {
     "name": "stdout",
     "output_type": "stream",
     "text": [
      "(1197, 14) (818, 13)\n"
     ]
    }
   ],
   "source": [
    "print(train.shape, test.shape)"
   ]
  },
  {
   "cell_type": "code",
   "execution_count": 7,
   "id": "48b32ddb",
   "metadata": {},
   "outputs": [
    {
     "name": "stdout",
     "output_type": "stream",
     "text": [
      "<class 'pandas.core.frame.DataFrame'>\n",
      "RangeIndex: 1197 entries, 0 to 1196\n",
      "Data columns (total 14 columns):\n",
      " #   Column                 Non-Null Count  Dtype  \n",
      "---  ------                 --------------  -----  \n",
      " 0   ID                     1197 non-null   object \n",
      " 1   quarter                1197 non-null   object \n",
      " 2   department             1197 non-null   object \n",
      " 3   day                    1197 non-null   object \n",
      " 4   targeted_productivity  1197 non-null   float64\n",
      " 5   smv                    1197 non-null   float64\n",
      " 6   wip                    1197 non-null   int64  \n",
      " 7   over_time              1197 non-null   float64\n",
      " 8   incentive              1197 non-null   int64  \n",
      " 9   idle_time              1197 non-null   int64  \n",
      " 10  idle_men               1197 non-null   int64  \n",
      " 11  no_of_style_change     1197 non-null   int64  \n",
      " 12  no_of_workers          1197 non-null   int64  \n",
      " 13  actual_productivity    1197 non-null   float64\n",
      "dtypes: float64(4), int64(6), object(4)\n",
      "memory usage: 131.0+ KB\n"
     ]
    }
   ],
   "source": [
    "train.info()"
   ]
  },
  {
   "cell_type": "code",
   "execution_count": 8,
   "id": "49e2144d",
   "metadata": {},
   "outputs": [
    {
     "data": {
      "text/html": [
       "<div>\n",
       "<style scoped>\n",
       "    .dataframe tbody tr th:only-of-type {\n",
       "        vertical-align: middle;\n",
       "    }\n",
       "\n",
       "    .dataframe tbody tr th {\n",
       "        vertical-align: top;\n",
       "    }\n",
       "\n",
       "    .dataframe thead th {\n",
       "        text-align: right;\n",
       "    }\n",
       "</style>\n",
       "<table border=\"1\" class=\"dataframe\">\n",
       "  <thead>\n",
       "    <tr style=\"text-align: right;\">\n",
       "      <th></th>\n",
       "      <th>targeted_productivity</th>\n",
       "      <th>smv</th>\n",
       "      <th>wip</th>\n",
       "      <th>over_time</th>\n",
       "      <th>incentive</th>\n",
       "      <th>idle_time</th>\n",
       "      <th>idle_men</th>\n",
       "      <th>no_of_style_change</th>\n",
       "      <th>no_of_workers</th>\n",
       "      <th>actual_productivity</th>\n",
       "    </tr>\n",
       "  </thead>\n",
       "  <tbody>\n",
       "    <tr>\n",
       "      <th>count</th>\n",
       "      <td>1197.000000</td>\n",
       "      <td>1197.000000</td>\n",
       "      <td>1197.000000</td>\n",
       "      <td>1197.000000</td>\n",
       "      <td>1197.000000</td>\n",
       "      <td>1197.000000</td>\n",
       "      <td>1197.000000</td>\n",
       "      <td>1197.000000</td>\n",
       "      <td>1197.000000</td>\n",
       "      <td>1197.000000</td>\n",
       "    </tr>\n",
       "    <tr>\n",
       "      <th>mean</th>\n",
       "      <td>0.729632</td>\n",
       "      <td>15.062172</td>\n",
       "      <td>1190.269006</td>\n",
       "      <td>0.176214</td>\n",
       "      <td>38.210526</td>\n",
       "      <td>0.727652</td>\n",
       "      <td>0.369256</td>\n",
       "      <td>0.150376</td>\n",
       "      <td>34.551378</td>\n",
       "      <td>0.735091</td>\n",
       "    </tr>\n",
       "    <tr>\n",
       "      <th>std</th>\n",
       "      <td>0.097891</td>\n",
       "      <td>10.943219</td>\n",
       "      <td>1395.647280</td>\n",
       "      <td>0.129197</td>\n",
       "      <td>160.182643</td>\n",
       "      <td>12.709094</td>\n",
       "      <td>3.268987</td>\n",
       "      <td>0.427848</td>\n",
       "      <td>22.152559</td>\n",
       "      <td>0.174488</td>\n",
       "    </tr>\n",
       "    <tr>\n",
       "      <th>min</th>\n",
       "      <td>0.070000</td>\n",
       "      <td>2.900000</td>\n",
       "      <td>7.000000</td>\n",
       "      <td>0.000000</td>\n",
       "      <td>0.000000</td>\n",
       "      <td>0.000000</td>\n",
       "      <td>0.000000</td>\n",
       "      <td>0.000000</td>\n",
       "      <td>2.000000</td>\n",
       "      <td>0.233710</td>\n",
       "    </tr>\n",
       "    <tr>\n",
       "      <th>25%</th>\n",
       "      <td>0.700000</td>\n",
       "      <td>3.940000</td>\n",
       "      <td>970.000000</td>\n",
       "      <td>0.055560</td>\n",
       "      <td>0.000000</td>\n",
       "      <td>0.000000</td>\n",
       "      <td>0.000000</td>\n",
       "      <td>0.000000</td>\n",
       "      <td>9.000000</td>\n",
       "      <td>0.650310</td>\n",
       "    </tr>\n",
       "    <tr>\n",
       "      <th>50%</th>\n",
       "      <td>0.750000</td>\n",
       "      <td>15.260000</td>\n",
       "      <td>1190.000000</td>\n",
       "      <td>0.152780</td>\n",
       "      <td>0.000000</td>\n",
       "      <td>0.000000</td>\n",
       "      <td>0.000000</td>\n",
       "      <td>0.000000</td>\n",
       "      <td>34.000000</td>\n",
       "      <td>0.773330</td>\n",
       "    </tr>\n",
       "    <tr>\n",
       "      <th>75%</th>\n",
       "      <td>0.800000</td>\n",
       "      <td>24.260000</td>\n",
       "      <td>1190.000000</td>\n",
       "      <td>0.268520</td>\n",
       "      <td>50.000000</td>\n",
       "      <td>0.000000</td>\n",
       "      <td>0.000000</td>\n",
       "      <td>0.000000</td>\n",
       "      <td>57.000000</td>\n",
       "      <td>0.850250</td>\n",
       "    </tr>\n",
       "    <tr>\n",
       "      <th>max</th>\n",
       "      <td>0.800000</td>\n",
       "      <td>54.560000</td>\n",
       "      <td>23122.000000</td>\n",
       "      <td>1.000000</td>\n",
       "      <td>3600.000000</td>\n",
       "      <td>300.000000</td>\n",
       "      <td>45.000000</td>\n",
       "      <td>2.000000</td>\n",
       "      <td>89.000000</td>\n",
       "      <td>1.120440</td>\n",
       "    </tr>\n",
       "  </tbody>\n",
       "</table>\n",
       "</div>"
      ],
      "text/plain": [
       "       targeted_productivity          smv           wip    over_time  \\\n",
       "count            1197.000000  1197.000000   1197.000000  1197.000000   \n",
       "mean                0.729632    15.062172   1190.269006     0.176214   \n",
       "std                 0.097891    10.943219   1395.647280     0.129197   \n",
       "min                 0.070000     2.900000      7.000000     0.000000   \n",
       "25%                 0.700000     3.940000    970.000000     0.055560   \n",
       "50%                 0.750000    15.260000   1190.000000     0.152780   \n",
       "75%                 0.800000    24.260000   1190.000000     0.268520   \n",
       "max                 0.800000    54.560000  23122.000000     1.000000   \n",
       "\n",
       "         incentive    idle_time     idle_men  no_of_style_change  \\\n",
       "count  1197.000000  1197.000000  1197.000000         1197.000000   \n",
       "mean     38.210526     0.727652     0.369256            0.150376   \n",
       "std     160.182643    12.709094     3.268987            0.427848   \n",
       "min       0.000000     0.000000     0.000000            0.000000   \n",
       "25%       0.000000     0.000000     0.000000            0.000000   \n",
       "50%       0.000000     0.000000     0.000000            0.000000   \n",
       "75%      50.000000     0.000000     0.000000            0.000000   \n",
       "max    3600.000000   300.000000    45.000000            2.000000   \n",
       "\n",
       "       no_of_workers  actual_productivity  \n",
       "count    1197.000000          1197.000000  \n",
       "mean       34.551378             0.735091  \n",
       "std        22.152559             0.174488  \n",
       "min         2.000000             0.233710  \n",
       "25%         9.000000             0.650310  \n",
       "50%        34.000000             0.773330  \n",
       "75%        57.000000             0.850250  \n",
       "max        89.000000             1.120440  "
      ]
     },
     "execution_count": 8,
     "metadata": {},
     "output_type": "execute_result"
    }
   ],
   "source": [
    "train.describe()"
   ]
  },
  {
   "cell_type": "code",
   "execution_count": 9,
   "id": "2e0831cd",
   "metadata": {},
   "outputs": [
    {
     "data": {
      "text/plain": [
       "<Figure size 1080x720 with 0 Axes>"
      ]
     },
     "metadata": {},
     "output_type": "display_data"
    }
   ],
   "source": [
    "fig = plt.figure(figsize=(15, 10))"
   ]
  },
  {
   "cell_type": "code",
   "execution_count": 10,
   "id": "ebb4c06b",
   "metadata": {},
   "outputs": [],
   "source": [
    "target = 'actual_productivity'"
   ]
  },
  {
   "cell_type": "code",
   "execution_count": 11,
   "id": "bf3b19e7",
   "metadata": {
    "scrolled": true
   },
   "outputs": [
    {
     "data": {
      "image/png": "[encoded data removed]",
      "text/plain": [
       "<Figure size 432x288 with 1 Axes>"
      ]
     },
     "metadata": {
      "needs_background": "light"
     },
     "output_type": "display_data"
    }
   ],
   "source": [
    "# target 빈도\n",
    "plt.hist(train[target], 10)\n",
    "plt.show()"
   ]
  },
  {
   "cell_type": "code",
   "execution_count": 12,
   "id": "48d8c560",
   "metadata": {
    "scrolled": true
   },
   "outputs": [
    {
     "data": {
      "text/plain": [
       "<AxesSubplot:xlabel='department', ylabel='count'>"
      ]
     },
     "execution_count": 12,
     "metadata": {},
     "output_type": "execute_result"
    },
    {
     "data": {
      "image/png": "[encoded data removed]",
      "text/plain": [
       "<Figure size 432x288 with 1 Axes>"
      ]
     },
     "metadata": {
      "needs_background": "light"
     },
     "output_type": "display_data"
    }
   ],
   "source": [
    "# 부서별 생산성\n",
    "sns.countplot(data=train, x='department')"
   ]
  },
  {
   "cell_type": "code",
   "execution_count": 13,
   "id": "9ea0df15",
   "metadata": {
    "scrolled": true
   },
   "outputs": [
    {
     "data": {
      "text/plain": [
       "<matplotlib.legend.Legend at 0x27db0a413d0>"
      ]
     },
     "execution_count": 13,
     "metadata": {},
     "output_type": "execute_result"
    },
    {
     "data": {
      "image/png": "[encoded data removed]",
      "text/plain": [
       "<Figure size 432x288 with 1 Axes>"
      ]
     },
     "metadata": {
      "needs_background": "light"
     },
     "output_type": "display_data"
    }
   ],
   "source": [
    "train[train.department=='sweing'][target].sort_values().reset_index(drop=True).plot()\n",
    "train[train.department=='finishing'][target].sort_values().reset_index(drop=True).plot()\n",
    "\n",
    "plt.title('부서별 생산성')\n",
    "plt.legend(['sweing', 'finishing'])"
   ]
  },
  {
   "cell_type": "code",
   "execution_count": 14,
   "id": "1d74ebbf",
   "metadata": {},
   "outputs": [
    {
     "data": {
      "text/plain": [
       "<matplotlib.legend.Legend at 0x27db0ad73a0>"
      ]
     },
     "execution_count": 14,
     "metadata": {},
     "output_type": "execute_result"
    },
    {
     "data": {
      "image/png": "[encoded data removed]",
      "text/plain": [
       "<Figure size 432x288 with 1 Axes>"
      ]
     },
     "metadata": {
      "needs_background": "light"
     },
     "output_type": "display_data"
    }
   ],
   "source": [
    "# 주별 생산성\n",
    "def quarter(num):\n",
    "    tmp = train[train.quarter==f'Quarter{num}'][target].reset_index(drop=True)\n",
    "    tmp.sort_values(inplace=True)\n",
    "    tmp.reset_index(drop=True, inplace=True)\n",
    "    return tmp\n",
    "\n",
    "tmp1 = quarter(1)\n",
    "tmp1.plot()\n",
    "\n",
    "tmp2 = quarter(2)\n",
    "tmp2.plot()\n",
    "\n",
    "tmp3 = quarter(3)\n",
    "tmp3.plot()\n",
    "\n",
    "tmp4 = quarter(4)\n",
    "tmp4.plot()\n",
    "\n",
    "tmp5 = quarter(5)\n",
    "tmp5.plot()\n",
    "\n",
    "plt.title('주별 생산성')\n",
    "plt.legend(['Quarter1', 'Quarter2', 'Quarter3', 'Quarter4', 'Quarter5'])"
   ]
  },
  {
   "cell_type": "code",
   "execution_count": 15,
   "id": "d57617ec",
   "metadata": {},
   "outputs": [
    {
     "data": {
      "text/plain": [
       "<AxesSubplot:xlabel='day', ylabel='count'>"
      ]
     },
     "execution_count": 15,
     "metadata": {},
     "output_type": "execute_result"
    },
    {
     "data": {
      "image/png": "[encoded data removed]",
      "text/plain": [
       "<Figure size 432x288 with 1 Axes>"
      ]
     },
     "metadata": {
      "needs_background": "light"
     },
     "output_type": "display_data"
    }
   ],
   "source": [
    "# 일별 생산성\n",
    "sns.countplot(data=train, x='day', order=['Monday', 'Tuesday', 'Wednesday', 'Thursday', 'Saturday', 'Sunday'])"
   ]
  },
  {
   "cell_type": "code",
   "execution_count": 16,
   "id": "09168f39",
   "metadata": {},
   "outputs": [
    {
     "data": {
      "text/plain": [
       "<AxesSubplot:xlabel='targeted_productivity', ylabel='actual_productivity'>"
      ]
     },
     "execution_count": 16,
     "metadata": {},
     "output_type": "execute_result"
    },
    {
     "data": {
      "image/png": "[encoded data removed]",
      "text/plain": [
       "<Figure size 432x288 with 1 Axes>"
      ]
     },
     "metadata": {
      "needs_background": "light"
     },
     "output_type": "display_data"
    }
   ],
   "source": [
    "# 목표 생산성\n",
    "sns.scatterplot(data=train, x='targeted_productivity', y='actual_productivity')"
   ]
  },
  {
   "cell_type": "code",
   "execution_count": 17,
   "id": "2ae8b108",
   "metadata": {},
   "outputs": [],
   "source": [
    "# 범주형 데이터 수치형 변환\n",
    "train_df = train.copy()\n",
    "\n",
    "quarter2num = {i:enu for enu, i in enumerate(train_df.quarter.unique())}\n",
    "depart2num = {i:enu for enu, i in enumerate(train_df.department.unique())}\n",
    "day2num = {i:enu for enu, i in enumerate(['Monday', 'Tuesday', 'Wednesday', 'Thursday', 'Saturday', 'Sunday'])}\n",
    "\n",
    "train_df.quarter = train_df.quarter.map(quarter2num)\n",
    "train_df.department = train_df.department.map(depart2num)\n",
    "train_df.day = train_df.day.map(day2num)"
   ]
  },
  {
   "cell_type": "code",
   "execution_count": 18,
   "id": "8987734d",
   "metadata": {},
   "outputs": [
    {
     "data": {
      "text/plain": [
       "<AxesSubplot:>"
      ]
     },
     "execution_count": 18,
     "metadata": {},
     "output_type": "execute_result"
    },
    {
     "data": {
      "image/png": "[encoded data removed]",
      "text/plain": [
       "<Figure size 1080x864 with 2 Axes>"
      ]
     },
     "metadata": {
      "needs_background": "light"
     },
     "output_type": "display_data"
    }
   ],
   "source": [
    "# 상관관계\n",
    "corr = train_df.corr()\n",
    "plt.figure(figsize=(15, 12))\n",
    "sns.heatmap(corr, annot=True, fmt='.2f', linewidth=3, cmap='Blues')"
   ]
  },
  {
   "cell_type": "markdown",
   "id": "cb630f9b",
   "metadata": {},
   "source": [
    "## 3. 데이터 전처리"
   ]
  },
  {
   "cell_type": "code",
   "execution_count": 19,
   "id": "9671c2ff",
   "metadata": {},
   "outputs": [
    {
     "name": "stdout",
     "output_type": "stream",
     "text": [
      "<class 'pandas.core.frame.DataFrame'>\n",
      "RangeIndex: 1197 entries, 0 to 1196\n",
      "Data columns (total 14 columns):\n",
      " #   Column                 Non-Null Count  Dtype  \n",
      "---  ------                 --------------  -----  \n",
      " 0   ID                     1197 non-null   object \n",
      " 1   quarter                1197 non-null   object \n",
      " 2   department             1197 non-null   object \n",
      " 3   day                    1197 non-null   object \n",
      " 4   targeted_productivity  1197 non-null   float64\n",
      " 5   smv                    1197 non-null   float64\n",
      " 6   wip                    1197 non-null   int64  \n",
      " 7   over_time              1197 non-null   float64\n",
      " 8   incentive              1197 non-null   int64  \n",
      " 9   idle_time              1197 non-null   int64  \n",
      " 10  idle_men               1197 non-null   int64  \n",
      " 11  no_of_style_change     1197 non-null   int64  \n",
      " 12  no_of_workers          1197 non-null   int64  \n",
      " 13  actual_productivity    1197 non-null   float64\n",
      "dtypes: float64(4), int64(6), object(4)\n",
      "memory usage: 131.0+ KB\n"
     ]
    }
   ],
   "source": [
    "train.info()"
   ]
  },
  {
   "cell_type": "code",
   "execution_count": 20,
   "id": "db53fa1e",
   "metadata": {},
   "outputs": [],
   "source": [
    "X = train.drop(columns=['ID', 'actual_productivity'])\n",
    "y = train['actual_productivity']"
   ]
  },
  {
   "cell_type": "code",
   "execution_count": 21,
   "id": "755e10e6",
   "metadata": {},
   "outputs": [],
   "source": [
    "target = test.drop(columns=['ID'])"
   ]
  },
  {
   "cell_type": "code",
   "execution_count": 22,
   "id": "c4d85872",
   "metadata": {},
   "outputs": [],
   "source": [
    "# 범주형 데이터 라벨 인코딩\n",
    "from sklearn.preprocessing import LabelEncoder\n",
    "qual_col = ['quarter', 'department', 'day']\n",
    "\n",
    "for i in qual_col:\n",
    "    le = LabelEncoder()\n",
    "    le = le.fit(X[i])\n",
    "    X[i] = le.transform(X[i])\n",
    "    \n",
    "    for label in np.unique(target[i]):\n",
    "        if label not in le.classes_:\n",
    "            le.classes_ = np.append(le.classes_, label)\n",
    "    target[i] = le.transform(target[i])"
   ]
  },
  {
   "cell_type": "code",
   "execution_count": 23,
   "id": "f17b94d9",
   "metadata": {},
   "outputs": [
    {
     "data": {
      "text/plain": [
       "((1197, 12), (1197,), (818, 12))"
      ]
     },
     "execution_count": 23,
     "metadata": {},
     "output_type": "execute_result"
    }
   ],
   "source": [
    "X.shape, y.shape, target.shape"
   ]
  },
  {
   "cell_type": "markdown",
   "id": "fd465078",
   "metadata": {},
   "source": [
    "## 4. 모델링"
   ]
  },
  {
   "cell_type": "code",
   "execution_count": 24,
   "id": "2b56cab8",
   "metadata": {},
   "outputs": [],
   "source": [
    "from sklearn.metrics import mean_absolute_error\n",
    "from sklearn.ensemble import GradientBoostingRegressor\n",
    "from sklearn.ensemble import RandomForestRegressor\n",
    "from xgboost import XGBRegressor\n",
    "from lightgbm import LGBMRegressor\n",
    "from catboost import CatBoostRegressor\n",
    "from sklearn.model_selection import GridSearchCV"
   ]
  },
  {
   "cell_type": "markdown",
   "id": "d479f4ed",
   "metadata": {},
   "source": [
    "### KFold로 교차검증"
   ]
  },
  {
   "cell_type": "code",
   "execution_count": 25,
   "id": "d6eb70c2",
   "metadata": {},
   "outputs": [],
   "source": [
    "from sklearn.model_selection import KFold\n",
    "kf = KFold(n_splits=5, shuffle=True, random_state=42)"
   ]
  },
  {
   "cell_type": "markdown",
   "id": "9e3b6cae",
   "metadata": {},
   "source": [
    "### GradientBoostingRegressor"
   ]
  },
  {
   "cell_type": "code",
   "execution_count": 26,
   "id": "86f889f8",
   "metadata": {},
   "outputs": [],
   "source": [
    "gb = GradientBoostingRegressor(random_state=42)"
   ]
  },
  {
   "cell_type": "code",
   "execution_count": 27,
   "id": "5aed7472",
   "metadata": {},
   "outputs": [],
   "source": [
    "mae_list = []\n",
    "for train_idx, test_idx in kf.split(X, y):\n",
    "    X_train, X_test = X.iloc[train_idx], X.iloc[test_idx]\n",
    "    y_train, y_test = y.iloc[train_idx], y.iloc[test_idx]\n",
    "    \n",
    "    gb.fit(X_train, y_train)\n",
    "    pred = gb.predict(X_test)\n",
    "    mae = np.sqrt(mean_absolute_error(y_test, pred))\n",
    "    mae_list.append(mae)"
   ]
  },
  {
   "cell_type": "code",
   "execution_count": 28,
   "id": "2312767d",
   "metadata": {},
   "outputs": [
    {
     "data": {
      "text/plain": [
       "0.2837589091462512"
      ]
     },
     "execution_count": 28,
     "metadata": {},
     "output_type": "execute_result"
    }
   ],
   "source": [
    "gb_mae = np.mean(mae_list)\n",
    "gb_mae"
   ]
  },
  {
   "cell_type": "code",
   "execution_count": 29,
   "id": "45e94e3d",
   "metadata": {},
   "outputs": [],
   "source": [
    "gb_pred = np.zeros((target.shape[0]))\n",
    "gb_pred = gb.predict(target)"
   ]
  },
  {
   "cell_type": "code",
   "execution_count": 30,
   "id": "666ae8c5",
   "metadata": {},
   "outputs": [],
   "source": [
    "submission['actual_productivity'] = gb_pred\n",
    "submission.to_csv('./result/gb.csv', index=False)"
   ]
  },
  {
   "cell_type": "markdown",
   "id": "e463c9a9",
   "metadata": {},
   "source": [
    "### RandomForestRegressor"
   ]
  },
  {
   "cell_type": "code",
   "execution_count": 31,
   "id": "f3c1d736",
   "metadata": {},
   "outputs": [],
   "source": [
    "rf = RandomForestRegressor(random_state=42)"
   ]
  },
  {
   "cell_type": "code",
   "execution_count": 32,
   "id": "1d4af1b5",
   "metadata": {},
   "outputs": [],
   "source": [
    "mae_list = []\n",
    "for train_idx, test_idx in kf.split(X, y):\n",
    "    X_train, X_test = X.iloc[train_idx], X.iloc[test_idx]\n",
    "    y_train, y_test = y.iloc[train_idx], y.iloc[test_idx]\n",
    "    \n",
    "    rf.fit(X_train, y_train)\n",
    "    pred = rf.predict(X_test)\n",
    "    mae = np.sqrt(mean_absolute_error(y_test, pred))\n",
    "    mae_list.append(mae)"
   ]
  },
  {
   "cell_type": "code",
   "execution_count": 33,
   "id": "8f472dff",
   "metadata": {},
   "outputs": [
    {
     "data": {
      "text/plain": [
       "0.27706290943353684"
      ]
     },
     "execution_count": 33,
     "metadata": {},
     "output_type": "execute_result"
    }
   ],
   "source": [
    "rf_mae = np.mean(mae_list)\n",
    "rf_mae"
   ]
  },
  {
   "cell_type": "code",
   "execution_count": 34,
   "id": "be41155a",
   "metadata": {},
   "outputs": [],
   "source": [
    "rf_pred = np.zeros((target.shape[0]))\n",
    "rf_pred = rf.predict(target)"
   ]
  },
  {
   "cell_type": "code",
   "execution_count": 35,
   "id": "c0376753",
   "metadata": {},
   "outputs": [],
   "source": [
    "submission['actual_productivity'] = rf_pred\n",
    "submission.to_csv('./result/rf.csv', index=False)"
   ]
  },
  {
   "cell_type": "markdown",
   "id": "8b3320f4",
   "metadata": {},
   "source": [
    "### XGBRegressor"
   ]
  },
  {
   "cell_type": "code",
   "execution_count": 36,
   "id": "4ec361ff",
   "metadata": {},
   "outputs": [],
   "source": [
    "xgb = XGBRegressor(random_state=42)"
   ]
  },
  {
   "cell_type": "code",
   "execution_count": 37,
   "id": "59fd345e",
   "metadata": {},
   "outputs": [],
   "source": [
    "mae_list = []\n",
    "for train_idx, test_idx in kf.split(X, y):\n",
    "    X_train, X_test = X.iloc[train_idx], X.iloc[test_idx]\n",
    "    y_train, y_test = y.iloc[train_idx], y.iloc[test_idx]\n",
    "    \n",
    "    xgb.fit(X_train, y_train)\n",
    "    pred = xgb.predict(X_test)\n",
    "    mae = np.sqrt(mean_absolute_error(y_test, pred))\n",
    "    mae_list.append(mae)"
   ]
  },
  {
   "cell_type": "code",
   "execution_count": 38,
   "id": "4c7d352f",
   "metadata": {},
   "outputs": [
    {
     "data": {
      "text/plain": [
       "0.28259238301175627"
      ]
     },
     "execution_count": 38,
     "metadata": {},
     "output_type": "execute_result"
    }
   ],
   "source": [
    "xgb_mae = np.mean(mae_list)\n",
    "xgb_mae"
   ]
  },
  {
   "cell_type": "code",
   "execution_count": 39,
   "id": "4815c53b",
   "metadata": {},
   "outputs": [],
   "source": [
    "xgb_pred = np.zeros((target.shape[0]))\n",
    "xgb_pred = xgb.predict(target)"
   ]
  },
  {
   "cell_type": "code",
   "execution_count": 40,
   "id": "1d4c105f",
   "metadata": {},
   "outputs": [],
   "source": [
    "submission['actual_productivity'] = xgb_pred\n",
    "submission.to_csv('./result/xgb.csv', index=False)"
   ]
  },
  {
   "cell_type": "markdown",
   "id": "e3fb8756",
   "metadata": {},
   "source": [
    "### LGBMRegressor"
   ]
  },
  {
   "cell_type": "code",
   "execution_count": 41,
   "id": "95f0052c",
   "metadata": {},
   "outputs": [],
   "source": [
    "lgbm = LGBMRegressor(random_state=42)"
   ]
  },
  {
   "cell_type": "code",
   "execution_count": 42,
   "id": "b16ab574",
   "metadata": {},
   "outputs": [],
   "source": [
    "mae_list = []\n",
    "for train_idx, test_idx in kf.split(X, y):\n",
    "    X_train, X_test = X.iloc[train_idx], X.iloc[test_idx]\n",
    "    y_train, y_test = y.iloc[train_idx], y.iloc[test_idx]\n",
    "    \n",
    "    lgbm.fit(X_train, y_train)\n",
    "    pred = lgbm.predict(X_test)\n",
    "    mae = np.sqrt(mean_absolute_error(y_test, pred))\n",
    "    mae_list.append(mae)"
   ]
  },
  {
   "cell_type": "code",
   "execution_count": 43,
   "id": "f842ab2f",
   "metadata": {},
   "outputs": [
    {
     "data": {
      "text/plain": [
       "0.2874571213625724"
      ]
     },
     "execution_count": 43,
     "metadata": {},
     "output_type": "execute_result"
    }
   ],
   "source": [
    "lgbm_mae = np.mean(mae_list)\n",
    "lgbm_mae"
   ]
  },
  {
   "cell_type": "code",
   "execution_count": 44,
   "id": "995bda49",
   "metadata": {},
   "outputs": [],
   "source": [
    "lgbm_pred = np.zeros((target.shape[0]))\n",
    "lgbm_pred = lgbm.predict(target)"
   ]
  },
  {
   "cell_type": "code",
   "execution_count": 45,
   "id": "879d7285",
   "metadata": {},
   "outputs": [],
   "source": [
    "submission['actual_productivity'] = lgbm_pred\n",
    "submission.to_csv('./result/lgbm.csv', index=False)"
   ]
  },
  {
   "cell_type": "markdown",
   "id": "3437cf14",
   "metadata": {},
   "source": [
    "### CatBoost"
   ]
  },
  {
   "cell_type": "code",
   "execution_count": 62,
   "id": "98734663",
   "metadata": {},
   "outputs": [],
   "source": [
    "cat = CatBoostRegressor(random_state=42, silent=True)"
   ]
  },
  {
   "cell_type": "code",
   "execution_count": 63,
   "id": "9fb32519",
   "metadata": {},
   "outputs": [],
   "source": [
    "mae_list = []\n",
    "for train_idx, test_idx in kf.split(X, y):\n",
    "    X_train, X_test = X.iloc[train_idx], X.iloc[test_idx]\n",
    "    y_train, y_test = y.iloc[train_idx], y.iloc[test_idx]\n",
    "    \n",
    "    cat.fit(X_train, y_train)\n",
    "    pred = cat.predict(X_test)\n",
    "    mae = np.sqrt(mean_absolute_error(y_test, pred))\n",
    "    mae_list.append(mae)"
   ]
  },
  {
   "cell_type": "code",
   "execution_count": 64,
   "id": "76baf710",
   "metadata": {},
   "outputs": [
    {
     "data": {
      "text/plain": [
       "0.2816372949323938"
      ]
     },
     "execution_count": 64,
     "metadata": {},
     "output_type": "execute_result"
    }
   ],
   "source": [
    "cat_mae = np.mean(mae_list)\n",
    "cat_mae"
   ]
  },
  {
   "cell_type": "code",
   "execution_count": 65,
   "id": "5cee5bde",
   "metadata": {},
   "outputs": [],
   "source": [
    "cat_pred = np.zeros((target.shape[0]))\n",
    "cat_pred = cat.predict(target)"
   ]
  },
  {
   "cell_type": "code",
   "execution_count": 66,
   "id": "30a29192",
   "metadata": {},
   "outputs": [],
   "source": [
    "submission['actual_productivity'] = cat_pred\n",
    "submission.to_csv('./result/cat.csv', index=False)"
   ]
  },
  {
   "cell_type": "markdown",
   "id": "f3db1037",
   "metadata": {},
   "source": [
    "### RandomForestRegressor - 파라미터 조절"
   ]
  },
  {
   "cell_type": "code",
   "execution_count": 46,
   "id": "dad9c1bb",
   "metadata": {},
   "outputs": [],
   "source": [
    "rf500 = RandomForestRegressor(n_estimators=500, n_jobs=-1, random_state=42)"
   ]
  },
  {
   "cell_type": "code",
   "execution_count": 47,
   "id": "3e7e8d26",
   "metadata": {},
   "outputs": [],
   "source": [
    "mae_list = []\n",
    "for train_idx, test_idx in kf.split(X, y):\n",
    "    X_train, X_test = X.iloc[train_idx], X.iloc[test_idx]\n",
    "    y_train, y_test = y.iloc[train_idx], y.iloc[test_idx]\n",
    "    \n",
    "    rf500.fit(X_train, y_train)\n",
    "    pred = rf500.predict(X_test)\n",
    "    mae = np.sqrt(mean_absolute_error(y_test, pred))\n",
    "    mae_list.append(mae)"
   ]
  },
  {
   "cell_type": "code",
   "execution_count": 48,
   "id": "9d309742",
   "metadata": {},
   "outputs": [
    {
     "data": {
      "text/plain": [
       "0.2767123104196426"
      ]
     },
     "execution_count": 48,
     "metadata": {},
     "output_type": "execute_result"
    }
   ],
   "source": [
    "rf500_mae = np.mean(mae_list)\n",
    "rf500_mae"
   ]
  },
  {
   "cell_type": "code",
   "execution_count": 49,
   "id": "31b8b88a",
   "metadata": {},
   "outputs": [],
   "source": [
    "rf500_pred = np.zeros((target.shape[0]))\n",
    "rf500_pred = rf500.predict(target)"
   ]
  },
  {
   "cell_type": "code",
   "execution_count": 50,
   "id": "45859684",
   "metadata": {},
   "outputs": [],
   "source": [
    "submission['actual_productivity'] = rf500_pred\n",
    "submission.to_csv('./result/rf500.csv', index=False)"
   ]
  },
  {
   "cell_type": "markdown",
   "id": "c22d3761",
   "metadata": {},
   "source": [
    "### RandomForestRegressor - GridSearchCV"
   ]
  },
  {
   "cell_type": "code",
   "execution_count": 51,
   "id": "2da125e1",
   "metadata": {},
   "outputs": [],
   "source": [
    "params = { 'n_estimators' : [10, 100],\n",
    "           'max_depth' : [6, 8, 10, 12],\n",
    "           'min_samples_leaf' : [8, 12, 18],\n",
    "           'min_samples_split' : [8, 16, 20]\n",
    "            }\n",
    "rf = RandomForestRegressor(n_jobs=-1, random_state=42)\n",
    "grid_cv = GridSearchCV(rf, param_grid=params, cv=3, n_jobs=-1)"
   ]
  },
  {
   "cell_type": "code",
   "execution_count": 52,
   "id": "2248db33",
   "metadata": {},
   "outputs": [],
   "source": [
    "mae_list = []\n",
    "for train_idx, test_idx in kf.split(X, y):\n",
    "    X_train, X_test = X.iloc[train_idx], X.iloc[test_idx]\n",
    "    y_train, y_test = y.iloc[train_idx], y.iloc[test_idx]\n",
    "    \n",
    "    grid_cv.fit(X_train, y_train)\n",
    "    pred = grid_cv.predict(X_test)\n",
    "    mae = np.sqrt(mean_absolute_error(y_test, pred))\n",
    "    mae_list.append(mae)"
   ]
  },
  {
   "cell_type": "code",
   "execution_count": 53,
   "id": "0d7f14a5",
   "metadata": {
    "scrolled": true
   },
   "outputs": [
    {
     "data": {
      "text/plain": [
       "{'max_depth': 10,\n",
       " 'min_samples_leaf': 12,\n",
       " 'min_samples_split': 8,\n",
       " 'n_estimators': 10}"
      ]
     },
     "execution_count": 53,
     "metadata": {},
     "output_type": "execute_result"
    }
   ],
   "source": [
    "grid_cv.best_params_"
   ]
  },
  {
   "cell_type": "code",
   "execution_count": 54,
   "id": "17ea1121",
   "metadata": {},
   "outputs": [],
   "source": [
    "rf_cv = RandomForestRegressor(n_estimators=10,\n",
    "                             max_depth=10,\n",
    "                             min_samples_leaf=12,\n",
    "                             min_samples_split=16,\n",
    "                             random_state=42,\n",
    "                             n_jobs=-1)"
   ]
  },
  {
   "cell_type": "code",
   "execution_count": 55,
   "id": "87d623a5",
   "metadata": {},
   "outputs": [],
   "source": [
    "mae_list = []\n",
    "for train_idx, test_idx in kf.split(X, y):\n",
    "    X_train, X_test = X.iloc[train_idx], X.iloc[test_idx]\n",
    "    y_train, y_test = y.iloc[train_idx], y.iloc[test_idx]\n",
    "    \n",
    "    rf_cv.fit(X_train, y_train)\n",
    "    pred = rf_cv.predict(X_test)\n",
    "    mae = np.sqrt(mean_absolute_error(y_test, pred))\n",
    "    mae_list.append(mae)"
   ]
  },
  {
   "cell_type": "code",
   "execution_count": 56,
   "id": "ca18f82a",
   "metadata": {},
   "outputs": [
    {
     "data": {
      "text/plain": [
       "0.29291172343071314"
      ]
     },
     "execution_count": 56,
     "metadata": {},
     "output_type": "execute_result"
    }
   ],
   "source": [
    "rf_cv_mae = np.mean(mae_list)\n",
    "rf_cv_mae"
   ]
  },
  {
   "cell_type": "code",
   "execution_count": 57,
   "id": "eca99f71",
   "metadata": {},
   "outputs": [],
   "source": [
    "rf_cv_pred = np.zeros((target.shape[0]))\n",
    "rf_cv_pred = rf_cv.predict(target)"
   ]
  },
  {
   "cell_type": "code",
   "execution_count": 58,
   "id": "717d39a8",
   "metadata": {},
   "outputs": [],
   "source": [
    "submission['actual_productivity'] = rf_cv_pred\n",
    "submission.to_csv('./result/rf_cv.csv', index=False)"
   ]
  },
  {
   "cell_type": "markdown",
   "id": "bd42a07c",
   "metadata": {},
   "source": [
    "## 5. 분석 결과 시각화"
   ]
  },
  {
   "cell_type": "code",
   "execution_count": 68,
   "id": "089e4e98",
   "metadata": {},
   "outputs": [
    {
     "data": {
      "text/plain": [
       "{'gb': 0.2837589091462512,\n",
       " 'xgb': 0.28259238301175627,\n",
       " 'lgbm': 0.2874571213625724,\n",
       " 'cat': 0.2816372949323938,\n",
       " 'rf': 0.27706290943353684,\n",
       " 'rf500': 0.2767123104196426,\n",
       " 'rf_cv': 0.29291172343071314}"
      ]
     },
     "execution_count": 68,
     "metadata": {},
     "output_type": "execute_result"
    }
   ],
   "source": [
    "score = {'gb': gb_mae, 'xgb': xgb_mae, 'lgbm': lgbm_mae, 'cat': cat_mae,\n",
    "         'rf': rf_mae, 'rf500': rf500_mae, 'rf_cv': rf_cv_mae}\n",
    "score"
   ]
  },
  {
   "cell_type": "code",
   "execution_count": 69,
   "id": "026242c2",
   "metadata": {},
   "outputs": [
    {
     "data": {
      "text/html": [
       "<div>\n",
       "<style scoped>\n",
       "    .dataframe tbody tr th:only-of-type {\n",
       "        vertical-align: middle;\n",
       "    }\n",
       "\n",
       "    .dataframe tbody tr th {\n",
       "        vertical-align: top;\n",
       "    }\n",
       "\n",
       "    .dataframe thead th {\n",
       "        text-align: right;\n",
       "    }\n",
       "</style>\n",
       "<table border=\"1\" class=\"dataframe\">\n",
       "  <thead>\n",
       "    <tr style=\"text-align: right;\">\n",
       "      <th></th>\n",
       "      <th>model</th>\n",
       "      <th>nmae</th>\n",
       "    </tr>\n",
       "  </thead>\n",
       "  <tbody>\n",
       "    <tr>\n",
       "      <th>0</th>\n",
       "      <td>gb</td>\n",
       "      <td>0.283759</td>\n",
       "    </tr>\n",
       "    <tr>\n",
       "      <th>1</th>\n",
       "      <td>xgb</td>\n",
       "      <td>0.282592</td>\n",
       "    </tr>\n",
       "    <tr>\n",
       "      <th>2</th>\n",
       "      <td>lgbm</td>\n",
       "      <td>0.287457</td>\n",
       "    </tr>\n",
       "    <tr>\n",
       "      <th>3</th>\n",
       "      <td>cat</td>\n",
       "      <td>0.281637</td>\n",
       "    </tr>\n",
       "    <tr>\n",
       "      <th>4</th>\n",
       "      <td>rf</td>\n",
       "      <td>0.277063</td>\n",
       "    </tr>\n",
       "    <tr>\n",
       "      <th>5</th>\n",
       "      <td>rf500</td>\n",
       "      <td>0.276712</td>\n",
       "    </tr>\n",
       "    <tr>\n",
       "      <th>6</th>\n",
       "      <td>rf_cv</td>\n",
       "      <td>0.292912</td>\n",
       "    </tr>\n",
       "  </tbody>\n",
       "</table>\n",
       "</div>"
      ],
      "text/plain": [
       "   model      nmae\n",
       "0     gb  0.283759\n",
       "1    xgb  0.282592\n",
       "2   lgbm  0.287457\n",
       "3    cat  0.281637\n",
       "4     rf  0.277063\n",
       "5  rf500  0.276712\n",
       "6  rf_cv  0.292912"
      ]
     },
     "execution_count": 69,
     "metadata": {},
     "output_type": "execute_result"
    }
   ],
   "source": [
    "result = pd.DataFrame.from_dict(score, orient='index')\n",
    "result.reset_index(level=0, inplace=True)\n",
    "result.columns = ['model', 'nmae']\n",
    "result"
   ]
  },
  {
   "cell_type": "code",
   "execution_count": 70,
   "id": "39a5a2bb",
   "metadata": {},
   "outputs": [
    {
     "data": {
      "image/png": "[encoded data removed]",
      "text/plain": [
       "<Figure size 864x576 with 1 Axes>"
      ]
     },
     "metadata": {
      "needs_background": "light"
     },
     "output_type": "display_data"
    }
   ],
   "source": [
    "plt.figure(figsize=[12, 8])\n",
    "plt.rc('font', size=12)\n",
    "colors = sns.color_palette('hls',len(result['model']))\n",
    "\n",
    "bar = plt.bar(result['model'], result['nmae'], color=colors)\n",
    "\n",
    "for rect in bar:\n",
    "    height = rect.get_height()\n",
    "    plt.text(rect.get_x() + rect.get_width()/2.0, height, '%.4f' % height, ha='center', va='bottom')\n",
    "\n",
    "plt.xlabel('Model')\n",
    "plt.ylabel('Nmae')\n",
    "plt.show()"
   ]
  }
 ],
 "metadata": {
  "kernelspec": {
   "display_name": "Python 3 (ipykernel)",
   "language": "python",
   "name": "python3"
  },
  "language_info": {
   "codemirror_mode": {
    "name": "ipython",
    "version": 3
   },
   "file_extension": ".py",
   "mimetype": "text/x-python",
   "name": "python",
   "nbconvert_exporter": "python",
   "pygments_lexer": "ipython3",
   "version": "3.9.12"
  }
 },
 "nbformat": 4,
 "nbformat_minor": 5
}
